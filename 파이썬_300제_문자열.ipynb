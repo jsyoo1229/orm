{
  "nbformat": 4,
  "nbformat_minor": 0,
  "metadata": {
    "colab": {
      "provenance": [],
      "authorship_tag": "ABX9TyM9pKGk5P6IdTp4SJumYw4q",
      "include_colab_link": true
    },
    "kernelspec": {
      "name": "python3",
      "display_name": "Python 3"
    },
    "language_info": {
      "name": "python"
    }
  },
  "cells": [
    {
      "cell_type": "markdown",
      "metadata": {
        "id": "view-in-github",
        "colab_type": "text"
      },
      "source": [
        "<a href=\"https://colab.research.google.com/github/jsyoo1229/orm/blob/main/%ED%8C%8C%EC%9D%B4%EC%8D%AC_300%EC%A0%9C_%EB%AC%B8%EC%9E%90%EC%97%B4.ipynb\" target=\"_parent\"><img src=\"https://colab.research.google.com/assets/colab-badge.svg\" alt=\"Open In Colab\"/></a>"
      ]
    },
    {
      "cell_type": "code",
      "source": [
        "https://wikidocs.net/7023"
      ],
      "metadata": {
        "id": "rjQabT8dLYqr"
      },
      "execution_count": null,
      "outputs": []
    },
    {
      "cell_type": "code",
      "execution_count": null,
      "metadata": {
        "colab": {
          "base_uri": "https://localhost:8080/"
        },
        "id": "6aMRmbHA0BAT",
        "outputId": "fc9c2c41-10b7-4ddd-a38d-42f8c3c0a631"
      },
      "outputs": [
        {
          "output_type": "stream",
          "name": "stdout",
          "text": [
            "홀홀홀\n"
          ]
        }
      ],
      "source": [
        "# 023 문자열 인덱싱\n",
        "# 아래의 문자열에서 '홀' 만 출력하세요.\n",
        "\n",
        "string = \"홀짝홀짝홀짝\"\n",
        "print(string[::2])"
      ]
    },
    {
      "cell_type": "code",
      "source": [
        "# 024 문자열 슬라이싱\n",
        "# 문자열을 거꾸로 뒤집어 출력하세요.\n",
        "# 실행 예:\n",
        "# NOHTYP\n",
        "\n",
        "string = \"PYTHON\"\n",
        "print(string[::-1])"
      ],
      "metadata": {
        "colab": {
          "base_uri": "https://localhost:8080/"
        },
        "id": "gsIJ5HUB0k6f",
        "outputId": "3b5a2f72-2e12-4104-889d-999183b8bf7c"
      },
      "execution_count": null,
      "outputs": [
        {
          "output_type": "stream",
          "name": "stdout",
          "text": [
            "NOHTYP\n"
          ]
        }
      ]
    },
    {
      "cell_type": "code",
      "source": [
        "'''\n",
        "025 문자열 치환\n",
        "아래의 전화번호에서 하이푼 ('-')을 제거하고 출력하세요.\n",
        "실행 예\n",
        "010 1111 2222\n",
        "'''\n",
        "\n",
        "phone_number = \"010-1111-2222\"\n",
        "print(phone_number[0:3], phone_number[4:8], phone_number[9:13])\n",
        "print(phone_number.replace('-', ' ')) #replace 함수"
      ],
      "metadata": {
        "colab": {
          "base_uri": "https://localhost:8080/"
        },
        "id": "L2CwBPSZ04OX",
        "outputId": "a64c5c8f-557c-4a23-d6f1-bc7918a3dbde"
      },
      "execution_count": null,
      "outputs": [
        {
          "output_type": "stream",
          "name": "stdout",
          "text": [
            "010 1111 2222\n",
            "010 1111 2222\n"
          ]
        }
      ]
    },
    {
      "cell_type": "code",
      "source": [
        "'''\n",
        "026 문자열 다루기\n",
        "25번 문제의 전화번호를 아래와 같이 모두 붙여 출력하세요.\n",
        "\n",
        "실행 예\n",
        "01011112222\n",
        "'''\n",
        "print(phone_number.replace('-', '')) #replace 함수"
      ],
      "metadata": {
        "colab": {
          "base_uri": "https://localhost:8080/"
        },
        "id": "9GyTr3HN2Oa4",
        "outputId": "c3869d8e-ce45-48b3-bf25-c2e103aa5671"
      },
      "execution_count": null,
      "outputs": [
        {
          "output_type": "stream",
          "name": "stdout",
          "text": [
            "01011112222\n"
          ]
        }
      ]
    },
    {
      "cell_type": "code",
      "source": [
        "'''\n",
        "027 문자열 다루기\n",
        "url 에 저장된 웹 페이지 주소에서 도메인을 출력하세요.\n",
        "\n",
        "url = \"http://sharebook.kr\"\n",
        "실행 예:\n",
        "kr\n",
        "'''\n",
        "\n",
        "url = \"http://sharebook.kr\"\n",
        "print(url.split('.')) # split 함수\n",
        "print(url.split('.')[-1])"
      ],
      "metadata": {
        "colab": {
          "base_uri": "https://localhost:8080/"
        },
        "outputId": "dba14f31-7c74-46e6-88e5-6ada2e3fded7",
        "id": "ay6206ix2jWb"
      },
      "execution_count": null,
      "outputs": [
        {
          "output_type": "stream",
          "name": "stdout",
          "text": [
            "['http://sharebook', 'kr']\n",
            "kr\n"
          ]
        }
      ]
    },
    {
      "cell_type": "code",
      "source": [
        "'''\n",
        "028 문자열은 immutable\n",
        "아래 코드의 실행 결과를 예상해보세요.\n",
        "\n",
        ">> lang = 'python'\n",
        ">> lang[0] = 'P'\n",
        ">> print(lang)\n",
        "'''\n",
        "lang = 'python'\n",
        "lang[0] = 'P'\n",
        "print(lang)"
      ],
      "metadata": {
        "colab": {
          "base_uri": "https://localhost:8080/",
          "height": 230
        },
        "id": "wjoIH-OU3aor",
        "outputId": "abecc267-b5a1-48be-a79e-15fde7b42ef7"
      },
      "execution_count": null,
      "outputs": [
        {
          "output_type": "error",
          "ename": "TypeError",
          "evalue": "'str' object does not support item assignment",
          "traceback": [
            "\u001b[0;31m---------------------------------------------------------------------------\u001b[0m",
            "\u001b[0;31mTypeError\u001b[0m                                 Traceback (most recent call last)",
            "\u001b[0;32m<ipython-input-25-3d5297f7e384>\u001b[0m in \u001b[0;36m<cell line: 11>\u001b[0;34m()\u001b[0m\n\u001b[1;32m      9\u001b[0m \u001b[0;31m# python\u001b[0m\u001b[0;34m\u001b[0m\u001b[0;34m\u001b[0m\u001b[0m\n\u001b[1;32m     10\u001b[0m \u001b[0mlang\u001b[0m \u001b[0;34m=\u001b[0m \u001b[0;34m'python'\u001b[0m\u001b[0;34m\u001b[0m\u001b[0;34m\u001b[0m\u001b[0m\n\u001b[0;32m---> 11\u001b[0;31m \u001b[0mlang\u001b[0m\u001b[0;34m[\u001b[0m\u001b[0;36m0\u001b[0m\u001b[0;34m]\u001b[0m \u001b[0;34m=\u001b[0m \u001b[0;34m'p'\u001b[0m\u001b[0;34m\u001b[0m\u001b[0;34m\u001b[0m\u001b[0m\n\u001b[0m\u001b[1;32m     12\u001b[0m \u001b[0mprint\u001b[0m\u001b[0;34m(\u001b[0m\u001b[0mlang\u001b[0m\u001b[0;34m)\u001b[0m\u001b[0;34m\u001b[0m\u001b[0;34m\u001b[0m\u001b[0m\n",
            "\u001b[0;31mTypeError\u001b[0m: 'str' object does not support item assignment"
          ]
        }
      ]
    },
    {
      "cell_type": "code",
      "source": [
        "'''\n",
        "029 replace 메서드\n",
        "아래 문자열에서 소문자 'a'를 대문자 'A'로 변경하세요.\n",
        "\n",
        ">> string = 'abcdfe2a354a32a'\n",
        "실행 예:\n",
        "Abcdfe2A354A32A\n",
        "'''\n",
        "string = 'abcdfe2a354a32a'\n",
        "print(string.replace('a', 'A'))"
      ],
      "metadata": {
        "colab": {
          "base_uri": "https://localhost:8080/"
        },
        "id": "bJpSMRgT37pe",
        "outputId": "00c8c136-ff4f-4f40-a539-d0a341570250"
      },
      "execution_count": null,
      "outputs": [
        {
          "output_type": "stream",
          "name": "stdout",
          "text": [
            "Abcdfe2A354A32A\n"
          ]
        }
      ]
    },
    {
      "cell_type": "code",
      "source": [
        "'''\n",
        "030 replace 메서드\n",
        "아래 코드의 실행 결과를 예상해보세요.\n",
        "\n",
        ">> string = 'abcd'\n",
        ">> string.replace('b', 'B')\n",
        ">> print(string)\n",
        "'''\n",
        "# aBcd # 오답\n",
        "string = 'abcd'\n",
        "string.replace('b', 'B') # replace 함수는, 변경된 객체를 리턴\n",
        "print(string)\n",
        "\n",
        "'''\n",
        "`abcd`가 그대로 출력됩니다.\n",
        "왜냐하면 문자열은 변경할 수 없는 자료형이기 때문입니다.\n",
        "replace 메서드를 사용하면 원본은 그대로 둔채로 변경된\n",
        "새로운 문자열 객체를 리턴해줍니다.\n",
        "'''"
      ],
      "metadata": {
        "colab": {
          "base_uri": "https://localhost:8080/",
          "height": 87
        },
        "id": "yFU7DfiV4P-1",
        "outputId": "ee813eaf-b0e3-4058-cb30-0074dd52b409"
      },
      "execution_count": null,
      "outputs": [
        {
          "output_type": "stream",
          "name": "stdout",
          "text": [
            "abcd\n"
          ]
        },
        {
          "output_type": "execute_result",
          "data": {
            "text/plain": [
              "' \\n`abcd`가 그대로 출력됩니다. \\n왜냐하면 문자열은 변경할 수 없는 자료형이기 때문입니다. \\nreplace 메서드를 사용하면 원본은 그대로 둔채로 변경된 \\n새로운 문자열 객체를 리턴해줍니다.\\n'"
            ],
            "application/vnd.google.colaboratory.intrinsic+json": {
              "type": "string"
            }
          },
          "metadata": {},
          "execution_count": 28
        }
      ]
    },
    {
      "cell_type": "code",
      "source": [
        "'''\n",
        " 031 문자열 합치기\n",
        "아래 코드의 실행 결과를 예상해보세요.\n",
        "\n",
        ">> a = \"3\"\n",
        ">> b = \"4\"\n",
        ">> print(a + b)\n",
        "'''\n",
        "# 나의_예상: 34 # 정답\n",
        "a = \"3\"\n",
        "b = \"4\"\n",
        "print(a + b)"
      ],
      "metadata": {
        "colab": {
          "base_uri": "https://localhost:8080/"
        },
        "id": "Mot8uuhc5Phv",
        "outputId": "3ed6febd-eebe-4beb-a8f3-688fb6b9d54b"
      },
      "execution_count": null,
      "outputs": [
        {
          "output_type": "stream",
          "name": "stdout",
          "text": [
            "34\n"
          ]
        }
      ]
    },
    {
      "cell_type": "code",
      "source": [
        "'''\n",
        "033 문자열 곱하기\n",
        "화면에 '-'를 80개 출력하세요.\n",
        "\n",
        "실행 예:\n",
        "--------------------------------------------------------------------------------\n",
        "'''\n",
        "print('-' * 80)"
      ],
      "metadata": {
        "colab": {
          "base_uri": "https://localhost:8080/"
        },
        "id": "FaCwAecm6Dts",
        "outputId": "528a78e3-fffb-4b51-8429-27b8225f7499"
      },
      "execution_count": null,
      "outputs": [
        {
          "output_type": "stream",
          "name": "stdout",
          "text": [
            "--------------------------------------------------------------------------------\n"
          ]
        }
      ]
    },
    {
      "cell_type": "code",
      "source": [
        "'''\n",
        "034 문자열 곱하기\n",
        "변수에 다음과 같은 문자열이 바인딩되어 있습니다.\n",
        "\n",
        ">>> t1 = 'python'\n",
        ">>> t2 = 'java'\n",
        "변수에 문자열 더하기와 문자열 곱하기를\n",
        "사용해서 아래와 같이 출력해보세요.\n",
        "\n",
        "실행 예:\n",
        "python java python java python java python java\n",
        "'''\n",
        "t1 = 'python'\n",
        "t2 = 'java'\n",
        "print((t1 + ' ' + t2 + ' ') * 4)"
      ],
      "metadata": {
        "colab": {
          "base_uri": "https://localhost:8080/"
        },
        "id": "3g0NRyVC6X18",
        "outputId": "b3b17469-c7b9-4cac-c026-02c99650e972"
      },
      "execution_count": null,
      "outputs": [
        {
          "output_type": "stream",
          "name": "stdout",
          "text": [
            "python java python java python java python java \n"
          ]
        }
      ]
    },
    {
      "cell_type": "code",
      "source": [
        "'''\n",
        "035 문자열 출력\n",
        "변수에 다음과 같이 문자열과 정수가 바인딩되어 있을 때\n",
        "% formatting을 사용해서 다음과 같이 출력해보세요.\n",
        "\n",
        "name1 = \"김민수\"\n",
        "age1 = 10\n",
        "name2 = \"이철희\"\n",
        "age2 = 13\n",
        "이름: 김민수 나이: 10\n",
        "이름: 이철희 나이: 13\n",
        "'''\n",
        "\n",
        "name1 = \"김민수\"\n",
        "age1 = 10\n",
        "name2 = \"이철희\"\n",
        "age2 = 13\n",
        "# 이름: 김민수 나이: 10\n",
        "# 이름: 이철희 나이: 13\n",
        "\n",
        "print(f'이름: {name1} 나이: {age1}') # f-string\n",
        "print(f'이름: {name2} 나이: {age2}')\n",
        "\n",
        "print(\"이름: %s 나이: %d\" % (name1, age1)) # % formatting\n",
        "print(\"이름: %s 나이: %d\" % (name2, age2))\n",
        "\n",
        "print('이름: {} 나이: {}'.format(name1, age1)) # format() 메서드\n",
        "print('이름: {} 나이: {}'.format(name2, age2))"
      ],
      "metadata": {
        "colab": {
          "base_uri": "https://localhost:8080/"
        },
        "id": "9u5lHaMs7mcp",
        "outputId": "c491f8d7-d5e5-44bd-83b8-9dd4b52106a6"
      },
      "execution_count": null,
      "outputs": [
        {
          "output_type": "stream",
          "name": "stdout",
          "text": [
            "이름: 김민수 나이: 10\n",
            "이름: 이철희 나이: 13\n",
            "이름: 김민수 나이: 10\n",
            "이름: 이철희 나이: 13\n"
          ]
        }
      ]
    },
    {
      "cell_type": "code",
      "source": [
        "'''\n",
        "038 컴마 제거하기\n",
        "삼성전자의 상장주식수가 다음과 같습니다.\n",
        "컴마를 제거한 후 이를 정수 타입으로 변환해보세요.\n",
        "\n",
        "상장주식수 = \"5,969,782,550\"\n",
        "'''\n",
        "상장주식수 = \"5,969,782,550\"\n",
        "# print(int(상장주식수.remove(','))) # 오답 # remove함수 없음\n",
        "print(int(상장주식수.replace(',', '')))"
      ],
      "metadata": {
        "colab": {
          "base_uri": "https://localhost:8080/"
        },
        "id": "w2XVzAsQ9kbn",
        "outputId": "db33069b-cf82-4122-b97f-e7978fdcee67"
      },
      "execution_count": null,
      "outputs": [
        {
          "output_type": "stream",
          "name": "stdout",
          "text": [
            "5969782550\n"
          ]
        }
      ]
    },
    {
      "cell_type": "code",
      "source": [
        "'''\n",
        "039 문자열 슬라이싱\n",
        "다음과 같은 문자열에서 '2020/03'만 출력하세요.\n",
        "\n",
        "분기 = \"2020/03(E) (IFRS연결)\"\n",
        "'''\n",
        "분기 = \"2020/03(E) (IFRS연결)\"\n",
        "print(분기[:7])"
      ],
      "metadata": {
        "colab": {
          "base_uri": "https://localhost:8080/"
        },
        "id": "_ut0g6gb-Kkq",
        "outputId": "f5640f10-e92c-499d-aa2e-3196a9c293f5"
      },
      "execution_count": null,
      "outputs": [
        {
          "output_type": "stream",
          "name": "stdout",
          "text": [
            "2020/03\n"
          ]
        }
      ]
    },
    {
      "cell_type": "code",
      "source": [
        "'''\n",
        "040 strip 메서드\n",
        "문자열의 좌우의 공백이\n",
        "있을 때 이를 제거해보세요.\n",
        "'''\n",
        "data = \"   삼성전자    \"\n",
        "print(data.replace(' ', '')) # 나의_예상\n",
        "print(data.strip()) # 더 효율적인 답"
      ],
      "metadata": {
        "colab": {
          "base_uri": "https://localhost:8080/"
        },
        "id": "fBCjq6WD-glq",
        "outputId": "c0420fa8-da9a-49ca-9a4b-ed1dbf39b00a"
      },
      "execution_count": null,
      "outputs": [
        {
          "output_type": "stream",
          "name": "stdout",
          "text": [
            "삼성전자\n",
            "삼성전자\n"
          ]
        }
      ]
    },
    {
      "cell_type": "code",
      "source": [
        "'''\n",
        "041 upper 메서드\n",
        "다음과 같은 문자열이 있을 때\n",
        "이를 대문자 BTC_KRW로 변경하세요.\n",
        "'''\n",
        "\n",
        "ticker = \"btc_krw\"\n",
        "print(ticker.upper())"
      ],
      "metadata": {
        "colab": {
          "base_uri": "https://localhost:8080/"
        },
        "id": "1U7hCq-h_1IQ",
        "outputId": "6179fbdd-b71e-4770-9b6e-ce27944b4c2a"
      },
      "execution_count": null,
      "outputs": [
        {
          "output_type": "stream",
          "name": "stdout",
          "text": [
            "BTC_KRW\n"
          ]
        }
      ]
    },
    {
      "cell_type": "code",
      "source": [
        "'''\n",
        "042 lower 메서드\n",
        "다음과 같은 문자열이 있을 때 이를 소문자 btc_krw로 변경하세요.\n",
        "\n",
        "ticker = \"BTC_KRW\"\n",
        "'''\n",
        "print(ticker.lower())"
      ],
      "metadata": {
        "colab": {
          "base_uri": "https://localhost:8080/"
        },
        "id": "rs0EPHxpAKAX",
        "outputId": "e763b1d7-aedd-4693-94c0-4daeb65903f0"
      },
      "execution_count": null,
      "outputs": [
        {
          "output_type": "stream",
          "name": "stdout",
          "text": [
            "btc_krw\n"
          ]
        }
      ]
    },
    {
      "cell_type": "code",
      "source": [
        "'''\n",
        "043 capitalize 메서드\n",
        "문자열 'hello'가 있을 때 이를\n",
        "'Hello'로 변경해보세요.\n",
        "'''\n",
        "str = 'hello'\n",
        "print(str[0].upper()) # 나의_예상 # 오답\n",
        "print(str.capitalize()) # 정답 # capitalize 함수"
      ],
      "metadata": {
        "colab": {
          "base_uri": "https://localhost:8080/"
        },
        "id": "NRW7qX0ZAUHx",
        "outputId": "eea736c5-4258-4d14-de96-b1959b56a7a3"
      },
      "execution_count": null,
      "outputs": [
        {
          "output_type": "stream",
          "name": "stdout",
          "text": [
            "H\n",
            "Hello\n"
          ]
        }
      ]
    },
    {
      "cell_type": "code",
      "source": [
        "'''\n",
        "044 endswith 메서드\n",
        "파일 이름이 문자열로 저장되어 있을 때\n",
        "endswith 메서드를 사용해서 파일 이름이\n",
        "'xlsx'로 끝나는지 확인해보세요.\n",
        "'''\n",
        "file_name = \"보고서.xlsx\"\n",
        "file_name.endswith('xlsx') # endswith: 처음 보는 함수"
      ],
      "metadata": {
        "colab": {
          "base_uri": "https://localhost:8080/"
        },
        "id": "64GPTXlSBBnS",
        "outputId": "c37304c7-c878-42fd-b438-f1d23093a267"
      },
      "execution_count": null,
      "outputs": [
        {
          "output_type": "execute_result",
          "data": {
            "text/plain": [
              "True"
            ]
          },
          "metadata": {},
          "execution_count": 60
        }
      ]
    },
    {
      "cell_type": "code",
      "source": [
        "'''\n",
        "045 endswith 메서드\n",
        "파일 이름이 문자열로 저장되어 있을 때\n",
        "endswith 메서드를 사용해서 파일 이름이\n",
        "'xlsx' 또는 'xls'로 끝나는지 확인해보세요.\n",
        "\n",
        "file_name = \"보고서.xlsx\"\n",
        "'''\n",
        "# print(file_name.endswith('xlsx'))\n",
        "# print(file_name.endswith('xls'))\n",
        "file_name.endswith(('xlsx', 'xls')) # or"
      ],
      "metadata": {
        "colab": {
          "base_uri": "https://localhost:8080/"
        },
        "id": "adTN1thzCtST",
        "outputId": "fc67cf34-290f-48ce-b2c4-4e8d1ac6e6e9"
      },
      "execution_count": null,
      "outputs": [
        {
          "output_type": "execute_result",
          "data": {
            "text/plain": [
              "True"
            ]
          },
          "metadata": {},
          "execution_count": 59
        }
      ]
    },
    {
      "cell_type": "code",
      "source": [
        "'''\n",
        "046 startswith 메서드\n",
        "파일 이름이 문자열로 저장되어 있을 때\n",
        "startswith 메서드를 사용해서 파일 이름이\n",
        "'2020'로 시작하는지 확인해보세요.\n",
        "'''\n",
        "file_name = \"2020_보고서.xlsx\"\n",
        "file_name.startswith('2020') # startswith 함수 # 처음 보는 메서드"
      ],
      "metadata": {
        "colab": {
          "base_uri": "https://localhost:8080/"
        },
        "id": "rwfCCaUCDfe4",
        "outputId": "3db9dc89-db6d-4f9e-b078-58ffcde951db"
      },
      "execution_count": null,
      "outputs": [
        {
          "output_type": "execute_result",
          "data": {
            "text/plain": [
              "True"
            ]
          },
          "metadata": {},
          "execution_count": 63
        }
      ]
    },
    {
      "cell_type": "code",
      "source": [
        "'''\n",
        "047 split 메서드\n",
        "다음과 같은 문자열이 있을 때\n",
        "공백을 기준으로 문자열을 나눠보세요.\n",
        "'''\n",
        "a = \"hello world\"\n",
        "a.split(' ')"
      ],
      "metadata": {
        "colab": {
          "base_uri": "https://localhost:8080/"
        },
        "id": "2TE1X_VnDyrl",
        "outputId": "264454aa-4991-4e1c-a521-38f07e5795b4"
      },
      "execution_count": null,
      "outputs": [
        {
          "output_type": "execute_result",
          "data": {
            "text/plain": [
              "['hello', 'world']"
            ]
          },
          "metadata": {},
          "execution_count": 64
        }
      ]
    },
    {
      "cell_type": "code",
      "source": [
        "'''\n",
        "048 split 메서드\n",
        "다음과 같이 문자열이 있을 때\n",
        "btc와 krw로 나눠보세요.\n",
        "'''\n",
        "ticker = \"btc_krw\"\n",
        "ticker.split('_')"
      ],
      "metadata": {
        "colab": {
          "base_uri": "https://localhost:8080/"
        },
        "id": "v9FDwoyuEsq0",
        "outputId": "e921ed95-0b73-472d-eade-c6a6647d6015"
      },
      "execution_count": null,
      "outputs": [
        {
          "output_type": "execute_result",
          "data": {
            "text/plain": [
              "['btc', 'krw']"
            ]
          },
          "metadata": {},
          "execution_count": 66
        }
      ]
    },
    {
      "cell_type": "code",
      "source": [
        "'''\n",
        "049 split 메서드\n",
        "다음과 같이 날짜를 표현하는\n",
        "문자열이 있을 때 연도, 월, 일로 나눠보세요.\n",
        "'''\n",
        "date = \"2020-05-01\"\n",
        "d_s = date.split('-')\n",
        "\n",
        "print(f'연도: {d_s[0]}, 월: {d_s[1]}, 일: {d_s[2]}')"
      ],
      "metadata": {
        "colab": {
          "base_uri": "https://localhost:8080/"
        },
        "id": "FGf4h3BAE9YG",
        "outputId": "a74d097a-b2b7-4132-aa5a-c4161b35efd0"
      },
      "execution_count": null,
      "outputs": [
        {
          "output_type": "stream",
          "name": "stdout",
          "text": [
            "연도: 2020, 월: 05, 일: 01\n"
          ]
        }
      ]
    },
    {
      "cell_type": "code",
      "source": [
        "'''\n",
        "050 rstrip 메서드\n",
        "문자열의 오른쪽에 공백이 있을 때 이를 제거해보세요.\n",
        "'''\n",
        "data = \"039490     \"\n",
        "data.strip() # 나의_예상\n",
        "data.rstrip() # 더 정확한 방법 # rstrip: 오른쪽 공백 제거 함수\n",
        "data # 원본은 변경 x"
      ],
      "metadata": {
        "colab": {
          "base_uri": "https://localhost:8080/",
          "height": 35
        },
        "id": "hBoaKO6YFtxT",
        "outputId": "83704e64-3fec-4533-d7d5-50536d041ead"
      },
      "execution_count": null,
      "outputs": [
        {
          "output_type": "execute_result",
          "data": {
            "text/plain": [
              "'039490     '"
            ],
            "application/vnd.google.colaboratory.intrinsic+json": {
              "type": "string"
            }
          },
          "metadata": {},
          "execution_count": 73
        }
      ]
    },
    {
      "cell_type": "code",
      "source": [],
      "metadata": {
        "id": "3ZzSxVJlGJHF"
      },
      "execution_count": null,
      "outputs": []
    }
  ]
}