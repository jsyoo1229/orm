{
  "nbformat": 4,
  "nbformat_minor": 0,
  "metadata": {
    "colab": {
      "provenance": [],
      "authorship_tag": "ABX9TyMJ0paZtMUrpSvZ9q83IUFi",
      "include_colab_link": true
    },
    "kernelspec": {
      "name": "python3",
      "display_name": "Python 3"
    },
    "language_info": {
      "name": "python"
    }
  },
  "cells": [
    {
      "cell_type": "markdown",
      "metadata": {
        "id": "view-in-github",
        "colab_type": "text"
      },
      "source": [
        "<a href=\"https://colab.research.google.com/github/jsyoo1229/orm/blob/main/Chat_GPT_%EC%83%9D%EC%84%B1_%ED%8C%8C%EC%9D%B4%EC%8D%AC_%EB%AC%B8%EC%A0%9C.ipynb\" target=\"_parent\"><img src=\"https://colab.research.google.com/assets/colab-badge.svg\" alt=\"Open In Colab\"/></a>"
      ]
    },
    {
      "cell_type": "markdown",
      "source": [
        "# map 기초 문제"
      ],
      "metadata": {
        "id": "1j8XAMJnJUSl"
      }
    },
    {
      "cell_type": "code",
      "execution_count": null,
      "metadata": {
        "colab": {
          "base_uri": "https://localhost:8080/"
        },
        "id": "oWd6OaR9IOEF",
        "outputId": "2c53e1b3-d41d-4e59-8d31-6a32637f2888"
      },
      "outputs": [
        {
          "output_type": "execute_result",
          "data": {
            "text/plain": [
              "['1', '2', '3', '4', '5']"
            ]
          },
          "metadata": {},
          "execution_count": 3
        }
      ],
      "source": [
        "# map 기능 문제\n",
        "# 문제: 정수 [1, 2, 3, 4, 5] 목록을 문자열 표현으로 변환합니다.\n",
        "\n",
        "x = [1, 2, 3, 4, 5]\n",
        "list(map(str, [1, 2, 3, 4, 5]))"
      ]
    },
    {
      "cell_type": "code",
      "source": [
        "# 문제: [2, 4, 6, 8] 목록의 각 요소에 제곱 함수를 적용합니다.\n",
        "x = [2, 4, 6, 8]\n",
        "list(map(lambda x: x ** 2, x))"
      ],
      "metadata": {
        "colab": {
          "base_uri": "https://localhost:8080/"
        },
        "id": "1FoHiUR-I335",
        "outputId": "d2352931-2af2-41da-a36a-b93b38726f03"
      },
      "execution_count": null,
      "outputs": [
        {
          "output_type": "execute_result",
          "data": {
            "text/plain": [
              "[4, 16, 36, 64]"
            ]
          },
          "metadata": {},
          "execution_count": 5
        }
      ]
    },
    {
      "cell_type": "code",
      "source": [
        "# 문제: 화씨 온도 목록 [32, 212, 100]을 섭씨로 변환합니다.\n",
        "x = [32, 212, 100]\n"
      ],
      "metadata": {
        "id": "4Ry_u8ixJHvS"
      },
      "execution_count": null,
      "outputs": []
    },
    {
      "cell_type": "code",
      "source": [
        "# 문제: ['100', '200', '300'] 목록의 각 요소에 'USD'를 연결합니다.\n",
        "list(map(lambda x: x + 'USD', ['100', '200', '300']))"
      ],
      "metadata": {
        "colab": {
          "base_uri": "https://localhost:8080/"
        },
        "id": "yrTeBjanJSFN",
        "outputId": "ccbe1097-f53a-4bc9-94bf-83b5f6fd74b0"
      },
      "execution_count": null,
      "outputs": [
        {
          "output_type": "execute_result",
          "data": {
            "text/plain": [
              "['100USD', '200USD', '300USD']"
            ]
          },
          "metadata": {},
          "execution_count": 10
        }
      ]
    },
    {
      "cell_type": "code",
      "source": [
        "# 문제: [1, 3, 5, 7] 목록의 각 숫자를 두 배로 늘립니다.\n",
        "x = [1, 3, 5, 7]\n",
        "list(map(lambda x: x * 2, x))\n"
      ],
      "metadata": {
        "colab": {
          "base_uri": "https://localhost:8080/"
        },
        "id": "2NBeRdLuJ_DE",
        "outputId": "741a876a-6400-4222-fb51-fd25ac48e944"
      },
      "execution_count": null,
      "outputs": [
        {
          "output_type": "execute_result",
          "data": {
            "text/plain": [
              "[2, 6, 10, 14]"
            ]
          },
          "metadata": {},
          "execution_count": 11
        }
      ]
    },
    {
      "cell_type": "code",
      "source": [
        "# 문제: 부울 값 [True, False, True] 목록을 정수로 바꿉니다.\n",
        "x = [True, False, True]\n",
        "list(map(lambda x: int(x), x))\n"
      ],
      "metadata": {
        "colab": {
          "base_uri": "https://localhost:8080/"
        },
        "id": "9KMIdelxKLVw",
        "outputId": "43a9a635-4ff6-4cca-da97-de7e6410cd64"
      },
      "execution_count": null,
      "outputs": [
        {
          "output_type": "execute_result",
          "data": {
            "text/plain": [
              "[1, 0, 1]"
            ]
          },
          "metadata": {},
          "execution_count": 12
        }
      ]
    },
    {
      "cell_type": "code",
      "source": [
        "# ['hello', 'world'] 목록의 각 단어를 대문자로 만듭니다.\n",
        "x = ['hello', 'world']\n",
        "list(map(lambda x: x.upper(), x))"
      ],
      "metadata": {
        "colab": {
          "base_uri": "https://localhost:8080/"
        },
        "id": "aLn97QooKYFL",
        "outputId": "eeea44a1-c33c-4ec0-b462-d1cf2eff5f92"
      },
      "execution_count": null,
      "outputs": [
        {
          "output_type": "execute_result",
          "data": {
            "text/plain": [
              "['HELLO', 'WORLD']"
            ]
          },
          "metadata": {},
          "execution_count": 13
        }
      ]
    },
    {
      "cell_type": "code",
      "source": [
        "# ['Python', 'is', 'fun'] 목록에서 각 단어의 길이를 구하세요.\n",
        "x = ['Python', 'is', 'fun']\n",
        "\n",
        "list(map(lambda x: len(x), x))"
      ],
      "metadata": {
        "colab": {
          "base_uri": "https://localhost:8080/"
        },
        "id": "x9kuCSAyKoC0",
        "outputId": "1e200874-4290-49e5-a267-973fe0da2865"
      },
      "execution_count": null,
      "outputs": [
        {
          "output_type": "execute_result",
          "data": {
            "text/plain": [
              "[6, 2, 3]"
            ]
          },
          "metadata": {},
          "execution_count": 14
        }
      ]
    },
    {
      "cell_type": "code",
      "source": [
        "# 숫자 [1, 2, 3, 4]에 대한 튜플 (number, square) 목록을 만듭니다.\n",
        "x = [1, 2, 3, 4]\n",
        "\n",
        "list(map(lambda x: x ** 2, x))\n"
      ],
      "metadata": {
        "colab": {
          "base_uri": "https://localhost:8080/"
        },
        "id": "An6dr_paK0qP",
        "outputId": "a777dff2-4825-4d4d-aad7-dec3eb3f753a"
      },
      "execution_count": null,
      "outputs": [
        {
          "output_type": "execute_result",
          "data": {
            "text/plain": [
              "[1, 2, 3, 4]"
            ]
          },
          "metadata": {},
          "execution_count": 19
        }
      ]
    },
    {
      "cell_type": "markdown",
      "source": [
        "#filter"
      ],
      "metadata": {
        "id": "9vtxooEuLXm5"
      }
    },
    {
      "cell_type": "code",
      "source": [
        "# 문제: [1, 2, 3, 4, 5]에서 모든 홀수를 필터링합니다.\n",
        "l = [1, 2, 3, 4, 5]\n",
        "list(filter(lambda x: x % 2 == 0, l))"
      ],
      "metadata": {
        "colab": {
          "base_uri": "https://localhost:8080/"
        },
        "id": "JNiiCfOoLcuP",
        "outputId": "291e0654-03ef-4d14-bbc8-c9c134991ce9"
      },
      "execution_count": null,
      "outputs": [
        {
          "output_type": "execute_result",
          "data": {
            "text/plain": [
              "[2, 4]"
            ]
          },
          "metadata": {},
          "execution_count": 17
        }
      ]
    },
    {
      "cell_type": "code",
      "source": [
        "# 문제: ['apple', 'banana', 'cherry']에서 'a'를 포함하는 문자열만 유지하세요.\n",
        "l = ['apple', 'banana', 'cherry']\n",
        "list(filter(lambda x: 'a' in x, l))"
      ],
      "metadata": {
        "colab": {
          "base_uri": "https://localhost:8080/"
        },
        "id": "D_8ku1UcL88I",
        "outputId": "6b0db8dc-47c0-4cf1-89cd-0dc7b49703e6"
      },
      "execution_count": null,
      "outputs": [
        {
          "output_type": "execute_result",
          "data": {
            "text/plain": [
              "['apple', 'banana']"
            ]
          },
          "metadata": {},
          "execution_count": 20
        }
      ]
    },
    {
      "cell_type": "code",
      "source": [
        "# 문제: [8, 11, 14, 5]에서 10보다 큰 숫자를 필터링합니다.\n",
        "l = [8, 11, 14, 5]\n",
        "\n",
        "list(filter(lambda x: x>10, l))"
      ],
      "metadata": {
        "colab": {
          "base_uri": "https://localhost:8080/"
        },
        "id": "GWLTkk82MTak",
        "outputId": "7daa544f-ce11-42a8-8999-e8fb938b1b8f"
      },
      "execution_count": null,
      "outputs": [
        {
          "output_type": "execute_result",
          "data": {
            "text/plain": [
              "[11, 14]"
            ]
          },
          "metadata": {},
          "execution_count": 21
        }
      ]
    },
    {
      "cell_type": "code",
      "source": [
        "# [None, 1, None, 2, 3]에서 None 값을 제거합니다."
      ],
      "metadata": {
        "id": "Y0C4QmBtMfrH"
      },
      "execution_count": null,
      "outputs": []
    },
    {
      "cell_type": "code",
      "source": [
        "l = [None, 1, None, 2, 3]\n",
        "list(filter(lambda x:  x != None, l))"
      ],
      "metadata": {
        "colab": {
          "base_uri": "https://localhost:8080/"
        },
        "id": "XCwO0Kn7Mn_U",
        "outputId": "9df3dd1a-5b2b-4136-fa96-ebb509e5755d"
      },
      "execution_count": null,
      "outputs": [
        {
          "output_type": "execute_result",
          "data": {
            "text/plain": [
              "[1, 2, 3]"
            ]
          },
          "metadata": {},
          "execution_count": 25
        }
      ]
    },
    {
      "cell_type": "code",
      "source": [
        "# 문제: ['YES', 'no', 'MAYBE', 'ok']에서 대문자가 아닌 모든 단어를 필터링합니다.\n",
        "l = ['YES', 'no', 'MAYBE', 'ok']\n",
        "list(filter(lambda x : x.islower(), l))"
      ],
      "metadata": {
        "colab": {
          "base_uri": "https://localhost:8080/"
        },
        "id": "LMnEPlimNIkn",
        "outputId": "cebd362e-81e1-44b3-fe8a-3eaf576d0056"
      },
      "execution_count": null,
      "outputs": [
        {
          "output_type": "execute_result",
          "data": {
            "text/plain": [
              "['no', 'ok']"
            ]
          },
          "metadata": {},
          "execution_count": 26
        }
      ]
    },
    {
      "cell_type": "code",
      "source": [
        "# 문제: [1, 'two', 3, 'four']의 정수만 유지하세요\n",
        "l = [1, 'two', 3, 'four']\n",
        "list(filter(lambda x: isinstance(x, int), l))   #isinstance(처음 앎)"
      ],
      "metadata": {
        "colab": {
          "base_uri": "https://localhost:8080/"
        },
        "id": "IL2TliwCNmZY",
        "outputId": "a660f435-9424-4e4a-cd07-b7fb607a5a1e"
      },
      "execution_count": null,
      "outputs": [
        {
          "output_type": "execute_result",
          "data": {
            "text/plain": [
              "[1, 3]"
            ]
          },
          "metadata": {},
          "execution_count": 30
        }
      ]
    },
    {
      "cell_type": "code",
      "source": [
        "# 문제: ['123', 'abc', '456', 'def']에서 순전히 알파벳순인 문자열을 유지합니다.\n",
        "ㅣ = ['123', 'abc', '456', 'def']\n",
        "list(filter)"
      ],
      "metadata": {
        "colab": {
          "base_uri": "https://localhost:8080/",
          "height": 299
        },
        "id": "wr_vWpd1OAN6",
        "outputId": "88e6e512-0c1e-4c0d-a405-39d30f93fb81"
      },
      "execution_count": null,
      "outputs": [
        {
          "output_type": "error",
          "ename": "AttributeError",
          "evalue": "'int' object has no attribute 'isalpha'",
          "traceback": [
            "\u001b[0;31m---------------------------------------------------------------------------\u001b[0m",
            "\u001b[0;31mAttributeError\u001b[0m                            Traceback (most recent call last)",
            "\u001b[0;32m<ipython-input-32-72a3a2e3be98>\u001b[0m in \u001b[0;36m<cell line: 3>\u001b[0;34m()\u001b[0m\n\u001b[1;32m      1\u001b[0m \u001b[0;31m# 문제: ['123', 'abc', '456', 'def']에서 순전히 알파벳순인 문자열을 유지합니다.\u001b[0m\u001b[0;34m\u001b[0m\u001b[0;34m\u001b[0m\u001b[0m\n\u001b[1;32m      2\u001b[0m \u001b[0mㅣ\u001b[0m \u001b[0;34m=\u001b[0m \u001b[0;34m[\u001b[0m\u001b[0;34m'123'\u001b[0m\u001b[0;34m,\u001b[0m \u001b[0;34m'abc'\u001b[0m\u001b[0;34m,\u001b[0m \u001b[0;34m'456'\u001b[0m\u001b[0;34m,\u001b[0m \u001b[0;34m'def'\u001b[0m\u001b[0;34m]\u001b[0m\u001b[0;34m\u001b[0m\u001b[0;34m\u001b[0m\u001b[0m\n\u001b[0;32m----> 3\u001b[0;31m \u001b[0mlist\u001b[0m\u001b[0;34m(\u001b[0m\u001b[0mfilter\u001b[0m\u001b[0;34m(\u001b[0m\u001b[0;32mlambda\u001b[0m \u001b[0mx\u001b[0m\u001b[0;34m:\u001b[0m \u001b[0mx\u001b[0m\u001b[0;34m.\u001b[0m\u001b[0misalpha\u001b[0m\u001b[0;34m,\u001b[0m \u001b[0ml\u001b[0m\u001b[0;34m)\u001b[0m\u001b[0;34m)\u001b[0m\u001b[0;34m\u001b[0m\u001b[0;34m\u001b[0m\u001b[0m\n\u001b[0m",
            "\u001b[0;32m<ipython-input-32-72a3a2e3be98>\u001b[0m in \u001b[0;36m<lambda>\u001b[0;34m(x)\u001b[0m\n\u001b[1;32m      1\u001b[0m \u001b[0;31m# 문제: ['123', 'abc', '456', 'def']에서 순전히 알파벳순인 문자열을 유지합니다.\u001b[0m\u001b[0;34m\u001b[0m\u001b[0;34m\u001b[0m\u001b[0m\n\u001b[1;32m      2\u001b[0m \u001b[0mㅣ\u001b[0m \u001b[0;34m=\u001b[0m \u001b[0;34m[\u001b[0m\u001b[0;34m'123'\u001b[0m\u001b[0;34m,\u001b[0m \u001b[0;34m'abc'\u001b[0m\u001b[0;34m,\u001b[0m \u001b[0;34m'456'\u001b[0m\u001b[0;34m,\u001b[0m \u001b[0;34m'def'\u001b[0m\u001b[0;34m]\u001b[0m\u001b[0;34m\u001b[0m\u001b[0;34m\u001b[0m\u001b[0m\n\u001b[0;32m----> 3\u001b[0;31m \u001b[0mlist\u001b[0m\u001b[0;34m(\u001b[0m\u001b[0mfilter\u001b[0m\u001b[0;34m(\u001b[0m\u001b[0;32mlambda\u001b[0m \u001b[0mx\u001b[0m\u001b[0;34m:\u001b[0m \u001b[0mx\u001b[0m\u001b[0;34m.\u001b[0m\u001b[0misalpha\u001b[0m\u001b[0;34m,\u001b[0m \u001b[0ml\u001b[0m\u001b[0;34m)\u001b[0m\u001b[0;34m)\u001b[0m\u001b[0;34m\u001b[0m\u001b[0;34m\u001b[0m\u001b[0m\n\u001b[0m",
            "\u001b[0;31mAttributeError\u001b[0m: 'int' object has no attribute 'isalpha'"
          ]
        }
      ]
    },
    {
      "cell_type": "markdown",
      "source": [
        "#isinstance"
      ],
      "metadata": {
        "id": "GdnUMKfeO1g7"
      }
    },
    {
      "cell_type": "code",
      "source": [
        "# 3. isinstance 함수 문제\n",
        "# 문제: hello'가 str의 인스턴스인지 확인하세요.\n",
        "isinstance('hello', str)"
      ],
      "metadata": {
        "colab": {
          "base_uri": "https://localhost:8080/"
        },
        "id": "FIqnGPeJOkYS",
        "outputId": "6d7d4724-fff6-4784-bc99-bb40eb65425f"
      },
      "execution_count": null,
      "outputs": [
        {
          "output_type": "execute_result",
          "data": {
            "text/plain": [
              "True"
            ]
          },
          "metadata": {},
          "execution_count": 33
        }
      ]
    },
    {
      "cell_type": "code",
      "source": [
        "# 문제: 42가 int의 인스턴스인지 확인합니다.\n",
        "isinstance(42, int)"
      ],
      "metadata": {
        "colab": {
          "base_uri": "https://localhost:8080/"
        },
        "id": "jvs1dYDkOzCl",
        "outputId": "c09a3020-706d-4312-efd9-600a6cc82544"
      },
      "execution_count": null,
      "outputs": [
        {
          "output_type": "execute_result",
          "data": {
            "text/plain": [
              "True"
            ]
          },
          "metadata": {},
          "execution_count": 36
        }
      ]
    },
    {
      "cell_type": "code",
      "source": [
        "# 문제: 3.14가 float의 인스턴스인지 확인하세요.\n",
        "isinstance(3.14, float)"
      ],
      "metadata": {
        "colab": {
          "base_uri": "https://localhost:8080/"
        },
        "id": "AC2nDFD5O9c8",
        "outputId": "22acf85e-7e57-4301-87a2-52aace852f91"
      },
      "execution_count": null,
      "outputs": [
        {
          "output_type": "execute_result",
          "data": {
            "text/plain": [
              "True"
            ]
          },
          "metadata": {},
          "execution_count": 37
        }
      ]
    },
    {
      "cell_type": "code",
      "source": [
        "# 문제: [1, 2, 3]이 list의 인스턴스인지 확인하세요.\n",
        "l = [1, 2, 3]\n",
        "isinstance(l, list)"
      ],
      "metadata": {
        "colab": {
          "base_uri": "https://localhost:8080/"
        },
        "id": "6I8-h_-KPF-1",
        "outputId": "1cbc6236-f515-4823-a23a-0f4ade0b8bbd"
      },
      "execution_count": null,
      "outputs": [
        {
          "output_type": "execute_result",
          "data": {
            "text/plain": [
              "True"
            ]
          },
          "metadata": {},
          "execution_count": 38
        }
      ]
    },
    {
      "cell_type": "markdown",
      "source": [
        "#일급함수"
      ],
      "metadata": {
        "id": "cTxfj0HDPLEC"
      }
    },
    {
      "cell_type": "code",
      "source": [
        "# 문제 1: 기능 할당\n",
        "\n",
        "# 두 숫자를 곱하는 multiply라는 Python 함수를 작성하세요.\n",
        "# 그런 다음 이 함수를 'double' 변수에 할당하고 이를 사용하여\n",
        "# 숫자 5를 두 배로 늘립니다.\n",
        "\n",
        "def multiply(x, y):\n",
        "    return x * y\n",
        "\n",
        "double = multiply\n",
        "double(2, 5)"
      ],
      "metadata": {
        "colab": {
          "base_uri": "https://localhost:8080/"
        },
        "id": "2n_7GSO0Rzj_",
        "outputId": "ea450902-ee3c-4199-9731-acdc76fd94b1"
      },
      "execution_count": null,
      "outputs": [
        {
          "output_type": "execute_result",
          "data": {
            "text/plain": [
              "10"
            ]
          },
          "metadata": {},
          "execution_count": 42
        }
      ]
    },
    {
      "cell_type": "code",
      "source": [
        "# 함수와 두 개의 숫자를 인수로 사용하는 operate 함수를 만듭니다.\n",
        "# 두 숫자를 더하는 'sum' 함수와 함께 사용하는 방법을 보여줍니다.\n",
        "def operate(func, x, y):\n",
        "    return func(x, y)\n",
        "\n",
        "def sum(x, y):\n",
        "    return x + y\n",
        "\n",
        "operate(sum, 5 ,3)"
      ],
      "metadata": {
        "colab": {
          "base_uri": "https://localhost:8080/"
        },
        "id": "m1XezlOaSYtF",
        "outputId": "47fe8cff-924a-41f6-e1fa-1ea8275d6b7a"
      },
      "execution_count": null,
      "outputs": [
        {
          "output_type": "execute_result",
          "data": {
            "text/plain": [
              "8"
            ]
          },
          "metadata": {},
          "execution_count": 43
        }
      ]
    },
    {
      "cell_type": "code",
      "source": [
        "# 문제 3: 함수 반환 함수\n",
        "\n",
        "# 숫자에 주어진 인수를 곱하는 함수를 반환하는 'get_multiplier' 함수를 작성하세요.\n",
        "# 이를 사용하여 숫자를 3배로 늘리는 '삼중' 함수를 만듭니다.\n",
        "def get_multiplier(f):\n",
        "    def multiplier(x):\n",
        "        return x * f\n",
        "    return multiplier\n",
        "\n",
        "\n",
        "\n"
      ],
      "metadata": {
        "id": "SbSgtmhqTEOh"
      },
      "execution_count": null,
      "outputs": []
    }
  ]
}