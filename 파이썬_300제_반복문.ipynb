{
  "nbformat": 4,
  "nbformat_minor": 0,
  "metadata": {
    "colab": {
      "provenance": [],
      "authorship_tag": "ABX9TyNCJGjW5RGoxz6TlVPO/Ns8",
      "include_colab_link": true
    },
    "kernelspec": {
      "name": "python3",
      "display_name": "Python 3"
    },
    "language_info": {
      "name": "python"
    }
  },
  "cells": [
    {
      "cell_type": "markdown",
      "metadata": {
        "id": "view-in-github",
        "colab_type": "text"
      },
      "source": [
        "<a href=\"https://colab.research.google.com/github/jsyoo1229/orm/blob/main/%ED%8C%8C%EC%9D%B4%EC%8D%AC_300%EC%A0%9C_%EB%B0%98%EB%B3%B5%EB%AC%B8.ipynb\" target=\"_parent\"><img src=\"https://colab.research.google.com/assets/colab-badge.svg\" alt=\"Open In Colab\"/></a>"
      ]
    },
    {
      "cell_type": "code",
      "source": [
        "https://wikidocs.net/78562\n",
        "https://youtu.be/p5J78hpMm24(131-140)\n",
        "\n",
        "https://wikidocs.net/7020\n",
        "https://youtu.be/R6HiXvAmpV4(141-150)\n",
        "\n",
        "https://wikidocs.net/78768\n",
        "https://youtu.be/z4WV0qleoas(151-160)\n",
        "\n",
        "https://wikidocs.net/7033\n",
        "https://youtu.be/Wz9rC-Zlk-Q(161-170)\n",
        "\n",
        "https://wikidocs.net/25315"
      ],
      "metadata": {
        "id": "wCOTbSNMdoqM"
      },
      "execution_count": null,
      "outputs": []
    },
    {
      "cell_type": "code",
      "execution_count": null,
      "metadata": {
        "id": "bOBgMCN0YURI"
      },
      "outputs": [],
      "source": [
        "'''\n",
        "131\n",
        "for문의 실행결과를 예측하라.\n",
        "\n",
        "과일 = [\"사과\", \"귤\", \"수박\"]\n",
        "for 변수 in 과일:\n",
        "    print(변수)\n",
        "'''\n",
        "# 사과 귤 수박\n",
        "\n",
        "'''\n",
        "리스트에 들어있는 문자열이 한 라인에 하나씩 출력됩니다.\n",
        "사과\n",
        "귤\n",
        "수박\n",
        "'''"
      ]
    },
    {
      "cell_type": "code",
      "source": [
        "'''\n",
        "132\n",
        "for문의 실행결과를 예측하라.\n",
        "\n",
        "과일 = [\"사과\", \"귤\", \"수박\"]\n",
        "for 변수 in 과일:\n",
        "  print(\"#####\")\n",
        "'''\n",
        "#   #####\n",
        "    #####\n",
        "    #####\n",
        "''' for문의 핵심은 \"들여쓰기된 코드가\n",
        "자료구조에 저장된 데이터 개수만큼 반복된다\"'''\n"
      ],
      "metadata": {
        "colab": {
          "base_uri": "https://localhost:8080/",
          "height": 52
        },
        "id": "wzVEAuHAY5H8",
        "outputId": "096bfc95-3822-42ea-a209-cf9fd2a0a1b9"
      },
      "execution_count": null,
      "outputs": [
        {
          "output_type": "execute_result",
          "data": {
            "text/plain": [
              "'\\n132\\nfor문의 실행결과를 예측하라.\\n\\n과일 = [\"사과\", \"귤\", \"수박\"]\\nfor 변수 in 과일:\\n  print(\"#####\")\\n'"
            ],
            "application/vnd.google.colaboratory.intrinsic+json": {
              "type": "string"
            }
          },
          "metadata": {},
          "execution_count": 1
        }
      ]
    },
    {
      "cell_type": "code",
      "source": [
        "'''\n",
        "133\n",
        "다음 for 문과 동일한 기능을 수행하는 코드를 작성하세요.\n",
        "\n",
        "for 변수 in [\"A\", \"B\", \"C\"]:\n",
        "  print(변수)\n",
        "'''\n",
        "# 변수 = 'A'\n",
        "# print(변수)\n",
        "\n",
        "# 변수 = 'B'\n",
        "# print(변수)\n",
        "\n",
        "# 변수 = 'C'\n",
        "# print(변수)\n",
        "\n",
        "for 변수 in [\"A\", \"B\", \"C\"]:\n",
        "    print(변수)\n"
      ],
      "metadata": {
        "colab": {
          "base_uri": "https://localhost:8080/"
        },
        "id": "1CDALuNJZZ4I",
        "outputId": "e9899811-3bee-497f-ad50-0ac960241c82"
      },
      "execution_count": null,
      "outputs": [
        {
          "output_type": "stream",
          "name": "stdout",
          "text": [
            "A\n",
            "B\n",
            "C\n"
          ]
        }
      ]
    },
    {
      "cell_type": "code",
      "source": [
        "'''\n",
        "134\n",
        "for문을 풀어서 동일한 동작을하는 코드를 작성하라.\n",
        "\n",
        "for 변수 in [\"A\", \"B\", \"C\"]:\n",
        "  print(\"출력:\", 변수)\n",
        "'''\n",
        "# 변수 = 'A'\n",
        "# print('출력: ', 변수)\n",
        "\n",
        "# 변수 = 'B'\n",
        "# print('출력: ', 변수)\n",
        "\n",
        "# 변수 = 'C'\n",
        "# print('출력: ', 변수)\n",
        "\n",
        "for 변수 in [\"A\", \"B\", \"C\"]:\n",
        "  print(\"출력:\", 변수)"
      ],
      "metadata": {
        "colab": {
          "base_uri": "https://localhost:8080/"
        },
        "id": "mUIi9EOqZ7kg",
        "outputId": "612e6165-987e-49e1-aa17-9e7ec66e92d4"
      },
      "execution_count": null,
      "outputs": [
        {
          "output_type": "stream",
          "name": "stdout",
          "text": [
            "출력: A\n",
            "출력: B\n",
            "출력: C\n"
          ]
        }
      ]
    },
    {
      "cell_type": "code",
      "source": [
        "'''\n",
        "135\n",
        "for문을 풀어서 동일한 동작을 하는 코드를 작성하라.\n",
        "\n",
        "for 변수 in [\"A\", \"B\", \"C\"]:\n",
        "  b = 변수.lower()\n",
        "  print(\"변환:\", b)\n",
        "'''\n",
        "변수 = 'A'\n",
        "b = 변수.lower()\n",
        "print('변환: ', b)\n",
        "\n",
        "변수 = 'B'\n",
        "b = 변수.lower()\n",
        "print('변환: ', b)\n",
        "\n",
        "변수 = 'C'\n",
        "b = 변수.lower()\n",
        "print('변환: ', b)\n",
        "\n",
        "for 변수 in [\"A\", \"B\", \"C\"]:\n",
        "  b = 변수.lower()\n",
        "  print(\"변환:\", b)"
      ],
      "metadata": {
        "colab": {
          "base_uri": "https://localhost:8080/"
        },
        "id": "WFOhHnySaUZK",
        "outputId": "dba30d75-e22d-47e7-9b48-d8c55c32ba63"
      },
      "execution_count": null,
      "outputs": [
        {
          "output_type": "stream",
          "name": "stdout",
          "text": [
            "변환:  a\n",
            "변환:  b\n",
            "변환:  c\n",
            "변환: a\n",
            "변환: b\n",
            "변환: c\n"
          ]
        }
      ]
    },
    {
      "cell_type": "code",
      "source": [
        "'''\n",
        "136\n",
        "다음 코드를 for문으로 작성하라.\n",
        "\n",
        "변수 = 10\n",
        "print(변수)\n",
        "변수 = 20\n",
        "print(변수)\n",
        "변수 = 30\n",
        "print(변수)\n",
        "'''\n",
        "for 변수 in [10, 20, 30]:\n",
        "    print(변수)"
      ],
      "metadata": {
        "colab": {
          "base_uri": "https://localhost:8080/"
        },
        "id": "-fBNs1KabLut",
        "outputId": "3a93f7e9-bfc2-474d-cb2d-98f93766cd65"
      },
      "execution_count": null,
      "outputs": [
        {
          "output_type": "stream",
          "name": "stdout",
          "text": [
            "10\n",
            "20\n",
            "30\n"
          ]
        }
      ]
    },
    {
      "cell_type": "code",
      "source": [
        "'''\n",
        "137\n",
        "다음 코드를 for문으로 작성하라.\n",
        "\n",
        "print(10)\n",
        "print(20)\n",
        "print(30)\n",
        "'''\n",
        "for i in [10, 20, 30]:\n",
        "    print(i)"
      ],
      "metadata": {
        "colab": {
          "base_uri": "https://localhost:8080/"
        },
        "id": "o5Glq8y1bes5",
        "outputId": "4b256fb4-49ea-40ab-c213-07d58991b343"
      },
      "execution_count": null,
      "outputs": [
        {
          "output_type": "stream",
          "name": "stdout",
          "text": [
            "10\n",
            "20\n",
            "30\n"
          ]
        }
      ]
    },
    {
      "cell_type": "code",
      "source": [
        "'''\n",
        "138\n",
        "다음 코드를 for문으로 작성하라.\n",
        "\n",
        "print(10)\n",
        "print(\"-------\")\n",
        "print(20)\n",
        "print(\"-------\")\n",
        "print(30)\n",
        "print(\"-------\")\n",
        "'''\n",
        "# for i in [10, '-------', 20, '-------', 30, '-------']:\n",
        "#     print(i)\n",
        "\n",
        "for i in [10, 20, 30]:\n",
        "    print(변수)\n",
        "    print('-------')"
      ],
      "metadata": {
        "colab": {
          "base_uri": "https://localhost:8080/"
        },
        "id": "Nve5jMAnbua7",
        "outputId": "25c3cb55-2f60-4239-fd5e-6339778435ac"
      },
      "execution_count": null,
      "outputs": [
        {
          "output_type": "stream",
          "name": "stdout",
          "text": [
            "10\n",
            "-------\n",
            "20\n",
            "-------\n",
            "30\n",
            "-------\n"
          ]
        }
      ]
    },
    {
      "cell_type": "code",
      "source": [
        "'''\n",
        "139\n",
        "다음 코드를 for문으로 작성하라.\n",
        "\n",
        "print(\"++++\")\n",
        "print(10)\n",
        "print(20)\n",
        "print(30)\n",
        "'''\n",
        "# for i in [10, 20, 30]:\n",
        "#     print('++++')\n",
        "#     print(i)\n",
        "\n",
        "print('++++')\n",
        "for i in [10, 20, 30]:\n",
        "    print(i)"
      ],
      "metadata": {
        "colab": {
          "base_uri": "https://localhost:8080/"
        },
        "id": "t01NOZ3zcQtM",
        "outputId": "e71ca532-7dbe-4375-e174-02cdd770d24d"
      },
      "execution_count": null,
      "outputs": [
        {
          "output_type": "stream",
          "name": "stdout",
          "text": [
            "++++\n",
            "10\n",
            "20\n",
            "30\n"
          ]
        }
      ]
    },
    {
      "cell_type": "code",
      "source": [
        "'''\n",
        "140\n",
        "다음 코드를 for문으로 작성하라.\n",
        "\n",
        "print(\"-------\")\n",
        "print(\"-------\")\n",
        "print(\"-------\")\n",
        "print(\"-------\")\n",
        "'''\n",
        "# for i in '-------':\n",
        "#     print(i)\n",
        "\n",
        "# for i in ['-------', '-------', '-------', '-------']:\n",
        "#     print(i)\n",
        "\n",
        "for i in ['1', '2', '3', '4']:\n",
        "    print('-------')"
      ],
      "metadata": {
        "colab": {
          "base_uri": "https://localhost:8080/"
        },
        "id": "u3P42NJocoD4",
        "outputId": "524a48f2-8d19-411b-b12b-68805e8d2fdf"
      },
      "execution_count": null,
      "outputs": [
        {
          "output_type": "stream",
          "name": "stdout",
          "text": [
            "-------\n",
            "-------\n",
            "-------\n",
            "-------\n"
          ]
        }
      ]
    },
    {
      "cell_type": "code",
      "source": [
        "'''\n",
        "141\n",
        "다음과 같이 판매가가 저장된 리스트가 있을 때 부가세가 포함된 가격을 for 문을 사용해서 화면에 출력하라. 단 부가세는 10원으로 가정한다.\n",
        "\n",
        "리스트 = [100, 200, 300]\n",
        "110\n",
        "210\n",
        "310\n",
        "'''\n",
        "리스트 = [100, 200, 300]\n",
        "for i in 리스트:\n",
        "    print(i+10)\n"
      ],
      "metadata": {
        "colab": {
          "base_uri": "https://localhost:8080/"
        },
        "id": "KL6-mVBie4T7",
        "outputId": "cd7f1832-e49b-48f3-e120-3f2845fdc756"
      },
      "execution_count": null,
      "outputs": [
        {
          "output_type": "stream",
          "name": "stdout",
          "text": [
            "110\n",
            "210\n",
            "310\n"
          ]
        }
      ]
    },
    {
      "cell_type": "code",
      "source": [
        "'''\n",
        "142\n",
        "for 문을 사용해서 리스트에 저장된 값을 다음과 같이 출력하라.\n",
        "\n",
        "리스트 = [\"김밥\", \"라면\", \"튀김\"]\n",
        "오늘의 메뉴: 김밥\n",
        "오늘의 메뉴: 라면\n",
        "오늘의 메뉴: 튀김\n",
        "'''\n",
        "리스트 = [\"김밥\", \"라면\", \"튀김\"]\n",
        "for i in 리스트:\n",
        "    print('오늘의 메뉴: ', i)"
      ],
      "metadata": {
        "colab": {
          "base_uri": "https://localhost:8080/"
        },
        "id": "27354ZZ4fUx8",
        "outputId": "a2599214-0723-442b-ebf1-0b3c8ff5d130"
      },
      "execution_count": null,
      "outputs": [
        {
          "output_type": "stream",
          "name": "stdout",
          "text": [
            "오늘의 메뉴:  김밥\n",
            "오늘의 메뉴:  라면\n",
            "오늘의 메뉴:  튀김\n"
          ]
        }
      ]
    },
    {
      "cell_type": "code",
      "source": [
        "'''\n",
        "143\n",
        "리스트에 주식 종목이름이 저장돼 있다.\n",
        "\n",
        "리스트 = [\"SK하이닉스\", \"삼성전자\", \"LG전자\"]\n",
        "저장된 문자열의 길이를 다음과 같이 출력하라.\n",
        "\n",
        "6\n",
        "4\n",
        "4\n",
        "'''\n",
        "리스트 = [\"SK하이닉스\", \"삼성전자\", \"LG전자\"]\n",
        "for i in 리스트:\n",
        "    print(len(i))"
      ],
      "metadata": {
        "colab": {
          "base_uri": "https://localhost:8080/"
        },
        "id": "Ltaz2NyFfogA",
        "outputId": "9be0be6a-05ae-479f-fc34-c8cbcc448501"
      },
      "execution_count": null,
      "outputs": [
        {
          "output_type": "stream",
          "name": "stdout",
          "text": [
            "6\n",
            "4\n",
            "4\n"
          ]
        }
      ]
    },
    {
      "cell_type": "code",
      "source": [
        "'''\n",
        "144\n",
        "리스트에는 동물이름이 문자열로 저장돼 있다.\n",
        "\n",
        "리스트 = ['dog', 'cat', 'parrot']\n",
        "동물 이름과 글자수를 다음과 같이 출력하라.\n",
        "\n",
        "dog 3\n",
        "cat 3\n",
        "parrot 6\n",
        "'''\n",
        "리스트 = ['dog', 'cat', 'parrot']\n",
        "\n",
        "# for i in 리스트:\n",
        "#     print(i, 3 * i.index())\n",
        "\n",
        "for i in 리스트:\n",
        "    print(i, len(i))"
      ],
      "metadata": {
        "colab": {
          "base_uri": "https://localhost:8080/"
        },
        "id": "UFwyF0xdf5P2",
        "outputId": "8abd25ec-7a2f-4b12-994c-2e630154bf41"
      },
      "execution_count": null,
      "outputs": [
        {
          "output_type": "stream",
          "name": "stdout",
          "text": [
            "dog 3\n",
            "cat 3\n",
            "parrot 6\n"
          ]
        }
      ]
    },
    {
      "cell_type": "code",
      "source": [
        "'''\n",
        "145\n",
        "리스트에 동물 이름 저장돼 있다.\n",
        "\n",
        "리스트 = ['dog', 'cat', 'parrot']\n",
        "for문을 사용해서 동물 이름의 첫 글자만 출력하라.\n",
        "\n",
        "d\n",
        "c\n",
        "p\n",
        "'''\n",
        "리스트 = ['dog', 'cat', 'parrot']\n",
        "for i in 리스트:\n",
        "    print(i[:1])\n",
        "\n",
        "for i in 리스트:\n",
        "    print(i[0])\n"
      ],
      "metadata": {
        "colab": {
          "base_uri": "https://localhost:8080/"
        },
        "id": "H3LHqXdNpojy",
        "outputId": "636ab40a-0874-4a14-d75b-da9197b76a81"
      },
      "execution_count": null,
      "outputs": [
        {
          "output_type": "stream",
          "name": "stdout",
          "text": [
            "d\n",
            "c\n",
            "p\n",
            "d\n",
            "c\n",
            "p\n"
          ]
        }
      ]
    },
    {
      "cell_type": "code",
      "source": [
        "'''\n",
        "146\n",
        "리스트에는 세 개의 숫자가 바인딩돼 있다.\n",
        "\n",
        "리스트 = [1, 2, 3]\n",
        "for문을 사용해서 다음과 같이 출력하라.\n",
        "\n",
        "3 x 1\n",
        "3 x 2\n",
        "3 x 3\n",
        "'''\n",
        "리스트 = [1, 2, 3]\n",
        "for i in 리스트:\n",
        "    print('3 x', i)\n",
        "\n",
        "for i in 리스트:\n",
        "    print('3 x', str(i))\n"
      ],
      "metadata": {
        "colab": {
          "base_uri": "https://localhost:8080/"
        },
        "id": "iixjbVHhqlIZ",
        "outputId": "2c96a004-74ab-41e9-dd02-bc4ddf6c0857"
      },
      "execution_count": null,
      "outputs": [
        {
          "output_type": "stream",
          "name": "stdout",
          "text": [
            "3 x 1\n",
            "3 x 2\n",
            "3 x 3\n",
            "3 x 1\n",
            "3 x 2\n",
            "3 x 3\n"
          ]
        }
      ]
    },
    {
      "cell_type": "code",
      "source": [
        "'''\n",
        "147\n",
        "리스트에는 세 개의 숫자가 바인딩돼 있다.\n",
        "\n",
        "리스트 = [1, 2, 3]\n",
        "for문을 사용해서 다음과 같이 출력하라.\n",
        "\n",
        "3 x 1 = 3\n",
        "3 x 2 = 6\n",
        "3 x 3 = 9\n",
        "'''\n",
        "for i in 리스트:\n",
        "    print('3 x', str(i), '=', 3 * i)"
      ],
      "metadata": {
        "colab": {
          "base_uri": "https://localhost:8080/"
        },
        "id": "qvdF4tH-rEQO",
        "outputId": "d9e64bae-c253-495e-a6be-1942d85e36de"
      },
      "execution_count": null,
      "outputs": [
        {
          "output_type": "stream",
          "name": "stdout",
          "text": [
            "3 x 1 = 3\n",
            "3 x 2 = 6\n",
            "3 x 3 = 9\n"
          ]
        }
      ]
    },
    {
      "cell_type": "code",
      "source": [
        "'''\n",
        "148\n",
        "리스트에는 네 개의 문자열이 바인딩돼 있다.\n",
        "\n",
        "리스트 = [\"가\", \"나\", \"다\", \"라\"]\n",
        "for문을 사용해서 다음과 같이 출력하라.\n",
        "\n",
        "나\n",
        "다\n",
        "라\n",
        "'''\n",
        "리스트 = [\"가\", \"나\", \"다\", \"라\"]\n",
        "for i in 리스트[1:]:\n",
        "    print(i)"
      ],
      "metadata": {
        "colab": {
          "base_uri": "https://localhost:8080/"
        },
        "id": "iQ4NDXxerefe",
        "outputId": "bb66c037-d951-451a-a5d4-8b0eb47a6c93"
      },
      "execution_count": null,
      "outputs": [
        {
          "output_type": "stream",
          "name": "stdout",
          "text": [
            "나\n",
            "다\n",
            "라\n"
          ]
        }
      ]
    },
    {
      "cell_type": "code",
      "source": [
        "'''\n",
        "149\n",
        "리스트에는 네 개의 문자열이 바인딩돼 있다.\n",
        "\n",
        "리스트 = [\"가\", \"나\", \"다\", \"라\"]\n",
        "for문을 사용해서 다음과 같이 출력하라.\n",
        "\n",
        "가\n",
        "다\n",
        "'''\n",
        "for i in 리스트[::2]:\n",
        "    print(i)\n"
      ],
      "metadata": {
        "colab": {
          "base_uri": "https://localhost:8080/"
        },
        "id": "MeMSCGZgr20o",
        "outputId": "5b9e8b75-ed8c-45dd-a171-ba0db3631491"
      },
      "execution_count": null,
      "outputs": [
        {
          "output_type": "stream",
          "name": "stdout",
          "text": [
            "가\n",
            "다\n"
          ]
        }
      ]
    },
    {
      "cell_type": "code",
      "source": [
        "'''150\n",
        "리스트에는 네 개의 문자열이 바인딩돼 있다.\n",
        "\n",
        "리스트 = [\"가\", \"나\", \"다\", \"라\"]\n",
        "for문을 사용해서 다음과 같이 출력하라.\n",
        "\n",
        "라\n",
        "다\n",
        "나\n",
        "가\n",
        "'''\n",
        "리스트 = [\"가\", \"나\", \"다\", \"라\"]\n",
        "for i in 리스트[::-1]:\n",
        "    print(i)"
      ],
      "metadata": {
        "colab": {
          "base_uri": "https://localhost:8080/"
        },
        "id": "YPuAR4iGsJEx",
        "outputId": "4ec756cb-2f56-4ada-d30e-3b74f6ed2792"
      },
      "execution_count": null,
      "outputs": [
        {
          "output_type": "stream",
          "name": "stdout",
          "text": [
            "라\n",
            "다\n",
            "나\n",
            "가\n"
          ]
        }
      ]
    },
    {
      "cell_type": "code",
      "source": [
        "'''\n",
        "151\n",
        "리스트에는 네 개의 정수가 저장돼 있다.\n",
        "\n",
        "리스트 = [3, -20, -3, 44]\n",
        "for문을 사용해서 리스트의 음수를 출력하라.\n",
        "\n",
        "-20\n",
        "-3\n",
        "'''\n",
        "리스트 = [3, -20, -3, 44]\n",
        "for i in 리스트:\n",
        "    if i < 0:\n",
        "        print(i)"
      ],
      "metadata": {
        "colab": {
          "base_uri": "https://localhost:8080/"
        },
        "id": "BM2EwU6zslEJ",
        "outputId": "37ae6c73-a8e2-4a02-dbe8-0431ef8809cc"
      },
      "execution_count": null,
      "outputs": [
        {
          "output_type": "stream",
          "name": "stdout",
          "text": [
            "-20\n",
            "-3\n"
          ]
        }
      ]
    },
    {
      "cell_type": "code",
      "source": [
        "'''\n",
        "152\n",
        "for문을 사용해서 3의 배수만을 출력하라.\n",
        "\n",
        "3\n",
        "'''\n",
        "리스트 = [3, 100, 23, 44]\n",
        "for i in 리스트:\n",
        "    if i % 3 == 0:\n",
        "        print(i)"
      ],
      "metadata": {
        "colab": {
          "base_uri": "https://localhost:8080/"
        },
        "id": "m71FD2YWs1n4",
        "outputId": "1b8c4c8b-95fc-41a6-ede1-a6d4e6c3ed71"
      },
      "execution_count": null,
      "outputs": [
        {
          "output_type": "stream",
          "name": "stdout",
          "text": [
            "3\n"
          ]
        }
      ]
    },
    {
      "cell_type": "code",
      "source": [
        "'''\n",
        "153\n",
        "리스트에서 20 보다 작은 3의 배수를 출력하라\n",
        "\n",
        "12\n",
        "18\n",
        "'''\n",
        "리스트 = [13, 21, 12, 14, 30, 18]\n",
        "for i in 리스트:\n",
        "    if i % 3 ==0 and i < 20:\n",
        "        print(i)"
      ],
      "metadata": {
        "colab": {
          "base_uri": "https://localhost:8080/"
        },
        "id": "Jk5YguyVtECH",
        "outputId": "2eb4e15c-a72b-4e93-c1a1-9b5c4917b726"
      },
      "execution_count": null,
      "outputs": [
        {
          "output_type": "stream",
          "name": "stdout",
          "text": [
            "12\n",
            "18\n"
          ]
        }
      ]
    },
    {
      "cell_type": "code",
      "source": [
        "'''\n",
        "154\n",
        "리스트에서 세 글자 이상의 문자를 화면에 출력하라\n",
        "\n",
        "study\n",
        "python\n",
        "language\n",
        "'''\n",
        "리스트 = [\"I\", \"study\", \"python\", \"language\", \"!\"]\n",
        "for i in 리스트:\n",
        "    if len(i) >= 3:\n",
        "        print(i)"
      ],
      "metadata": {
        "colab": {
          "base_uri": "https://localhost:8080/"
        },
        "id": "986E_ovNtSe5",
        "outputId": "8c2c0bc7-d3b7-4f15-da02-9ffa5810ed3f"
      },
      "execution_count": null,
      "outputs": [
        {
          "output_type": "stream",
          "name": "stdout",
          "text": [
            "study\n",
            "python\n",
            "language\n"
          ]
        }
      ]
    },
    {
      "cell_type": "code",
      "source": [
        "'''\n",
        "155\n",
        "리스트에서 대문자만 화면에 출력하라.\n",
        "\n",
        "A\n",
        "D\n",
        "'''\n",
        "리스트 = [\"A\", \"b\", \"c\", \"D\"]\n",
        "# for i in 리스트:\n",
        "#     if i.islower():\n",
        "#         print()\n",
        "#     else:\n",
        "#         print(i)\n",
        "\n",
        "for i in 리스트:\n",
        "    if i.isupper():\n",
        "        print(i)"
      ],
      "metadata": {
        "colab": {
          "base_uri": "https://localhost:8080/"
        },
        "id": "eAVQa7xNtTI5",
        "outputId": "1fafb36d-7928-4378-ef9d-d77947e2ee52"
      },
      "execution_count": null,
      "outputs": [
        {
          "output_type": "stream",
          "name": "stdout",
          "text": [
            "A\n",
            "D\n"
          ]
        }
      ]
    },
    {
      "cell_type": "code",
      "source": [
        "'''\n",
        "156\n",
        "리스트에서 소문자만 화면에 출력하라.\n",
        "\n",
        "b\n",
        "c\n",
        "'''\n",
        "리스트 = [\"A\", \"b\", \"c\", \"D\"]\n",
        "for i in 리스트:\n",
        "    if i.islower():\n",
        "        print(i)"
      ],
      "metadata": {
        "colab": {
          "base_uri": "https://localhost:8080/"
        },
        "id": "0jYbcpwctTNk",
        "outputId": "d8ab2456-d8fd-43be-e0cc-7a7cd557af7e"
      },
      "execution_count": null,
      "outputs": [
        {
          "output_type": "stream",
          "name": "stdout",
          "text": [
            "b\n",
            "c\n"
          ]
        }
      ]
    },
    {
      "cell_type": "code",
      "source": [
        "'''\n",
        "157\n",
        "이름의 첫 글자를 대문자로 변경해서 출력하라.\n",
        "\n",
        "Dog\n",
        "Cat\n",
        "Parrot\n",
        "'''\n",
        "리스트 = ['dog', 'cat', 'parrot']\n",
        "for i in 리스트:\n",
        "    print(i.capitalize())"
      ],
      "metadata": {
        "colab": {
          "base_uri": "https://localhost:8080/"
        },
        "id": "GRlHcMr3urJv",
        "outputId": "14b37127-1db0-4dc3-fb86-4fadcffdb4cd"
      },
      "execution_count": null,
      "outputs": [
        {
          "output_type": "stream",
          "name": "stdout",
          "text": [
            "Dog\n",
            "Cat\n",
            "Parrot\n"
          ]
        }
      ]
    },
    {
      "cell_type": "code",
      "source": [
        "'''\n",
        "158\n",
        "파일 이름이 저장된 리스트에서 확장자를 제거하고 파일 이름만 화면에 출력하라. (힌트: split() 메서드)\n",
        "\n",
        "hello\n",
        "ex01\n",
        "intro\n",
        "'''\n",
        "리스트 = ['hello.py', 'ex01.py', 'intro.hwp']\n",
        "for i in 리스트:\n",
        "    file_name = i.split('.')[0]\n",
        "    print(file_name)\n",
        "\n"
      ],
      "metadata": {
        "colab": {
          "base_uri": "https://localhost:8080/"
        },
        "id": "4fZgrn3BtTSR",
        "outputId": "8bb2761b-b830-4deb-da9d-d6368ea50862"
      },
      "execution_count": null,
      "outputs": [
        {
          "output_type": "stream",
          "name": "stdout",
          "text": [
            "hello\n",
            "ex01\n",
            "intro\n"
          ]
        }
      ]
    },
    {
      "cell_type": "code",
      "source": [
        "'''\n",
        "159\n",
        "파일 이름이 저장된 리스트에서 확장자가 .h인 파일 이름을 출력하라.\n",
        "\n",
        "intra.h\n",
        "define.h\n",
        "'''\n",
        "리스트 = ['intra.h', 'intra.c', 'define.h', 'run.py']\n",
        "for i in 리스트:\n",
        "    split_name = i.split('.')\n",
        "    if split_name[1] == 'h':\n",
        "        print(i)\n",
        "        print(split_name[0])\n"
      ],
      "metadata": {
        "colab": {
          "base_uri": "https://localhost:8080/"
        },
        "id": "dKbMyywKvp1v",
        "outputId": "804732d6-e5fa-45bf-c0d9-5934afbeece9"
      },
      "execution_count": null,
      "outputs": [
        {
          "output_type": "stream",
          "name": "stdout",
          "text": [
            "intra.h\n",
            "intra\n",
            "define.h\n",
            "define\n"
          ]
        }
      ]
    },
    {
      "cell_type": "code",
      "source": [
        "'''\n",
        "160\n",
        "파일 이름이 저장된 리스트에서 확장자가 .h나 .c인 파일을 화면에 출력하라.\n",
        "\n",
        "intra.h\n",
        "intra.c\n",
        "define.h\n",
        "'''\n",
        "리스트 = ['intra.h', 'intra.c', 'define.h', 'run.py']\n",
        "for i in 리스트:\n",
        "    split_name = i.split('.')\n",
        "    if split_name[1] == 'h' or split_name[1] == 'c':\n",
        "        print(i)"
      ],
      "metadata": {
        "colab": {
          "base_uri": "https://localhost:8080/"
        },
        "id": "mGYW8gkKwy5b",
        "outputId": "9ed5e106-f354-443a-b373-c1db62b1856e"
      },
      "execution_count": null,
      "outputs": [
        {
          "output_type": "stream",
          "name": "stdout",
          "text": [
            "intra.h\n",
            "intra.c\n",
            "define.h\n"
          ]
        }
      ]
    },
    {
      "cell_type": "code",
      "source": [
        "'''\n",
        "161\n",
        "for문과 range 구문을 사용해서 0~99까지 한 라인에 하나씩 순차적으로 출력하는 프로그램을 작성하라.\n",
        "'''\n",
        "for i in range(100):\n",
        "    print(i)"
      ],
      "metadata": {
        "colab": {
          "base_uri": "https://localhost:8080/"
        },
        "id": "t2Aj8560xtUy",
        "outputId": "8b23f01c-aac8-4ec0-a3be-58c3fcbfe383"
      },
      "execution_count": null,
      "outputs": [
        {
          "output_type": "stream",
          "name": "stdout",
          "text": [
            "0\n",
            "1\n",
            "2\n",
            "3\n",
            "4\n",
            "5\n",
            "6\n",
            "7\n",
            "8\n",
            "9\n",
            "10\n",
            "11\n",
            "12\n",
            "13\n",
            "14\n",
            "15\n",
            "16\n",
            "17\n",
            "18\n",
            "19\n",
            "20\n",
            "21\n",
            "22\n",
            "23\n",
            "24\n",
            "25\n",
            "26\n",
            "27\n",
            "28\n",
            "29\n",
            "30\n",
            "31\n",
            "32\n",
            "33\n",
            "34\n",
            "35\n",
            "36\n",
            "37\n",
            "38\n",
            "39\n",
            "40\n",
            "41\n",
            "42\n",
            "43\n",
            "44\n",
            "45\n",
            "46\n",
            "47\n",
            "48\n",
            "49\n",
            "50\n",
            "51\n",
            "52\n",
            "53\n",
            "54\n",
            "55\n",
            "56\n",
            "57\n",
            "58\n",
            "59\n",
            "60\n",
            "61\n",
            "62\n",
            "63\n",
            "64\n",
            "65\n",
            "66\n",
            "67\n",
            "68\n",
            "69\n",
            "70\n",
            "71\n",
            "72\n",
            "73\n",
            "74\n",
            "75\n",
            "76\n",
            "77\n",
            "78\n",
            "79\n",
            "80\n",
            "81\n",
            "82\n",
            "83\n",
            "84\n",
            "85\n",
            "86\n",
            "87\n",
            "88\n",
            "89\n",
            "90\n",
            "91\n",
            "92\n",
            "93\n",
            "94\n",
            "95\n",
            "96\n",
            "97\n",
            "98\n",
            "99\n"
          ]
        }
      ]
    },
    {
      "cell_type": "code",
      "source": [
        "'''\n",
        "162\n",
        "월드컵은 4년에 한 번 개최된다. range()를 사용하여 2002~2050년까지 중 월드컵이 개최되는 연도를 출력하라.\n",
        "\n",
        "2002\n",
        "2006\n",
        "2010\n",
        "...\n",
        "2042\n",
        "2046\n",
        "2050\n",
        "'''\n",
        "for i in range(2002, 2050, 4):\n",
        "    print(i)\n",
        "\n",
        "for i in range(2002, 2051, 4):\n",
        "    print(i)"
      ],
      "metadata": {
        "colab": {
          "base_uri": "https://localhost:8080/"
        },
        "id": "pLIWonsByAwf",
        "outputId": "57211256-315a-456b-f391-2f9e9504278b"
      },
      "execution_count": null,
      "outputs": [
        {
          "output_type": "stream",
          "name": "stdout",
          "text": [
            "2002\n",
            "2006\n",
            "2010\n",
            "2014\n",
            "2018\n",
            "2022\n",
            "2026\n",
            "2030\n",
            "2034\n",
            "2038\n",
            "2042\n",
            "2046\n"
          ]
        }
      ]
    },
    {
      "cell_type": "code",
      "source": [
        "'''\n",
        "163\n",
        "1부터 30까지의 숫자 중 3의 배수를 출력하라.\n",
        "\n",
        "3\n",
        "6\n",
        "9\n",
        "12\n",
        "15\n",
        "18\n",
        "21\n",
        "24\n",
        "27\n",
        "30\n",
        "'''\n",
        "for i in range(3, 31, 3):\n",
        "    print(i)"
      ],
      "metadata": {
        "colab": {
          "base_uri": "https://localhost:8080/"
        },
        "id": "55TejrqxyiuR",
        "outputId": "4a8678c8-f447-4ae9-c8a6-681cf57d3f5c"
      },
      "execution_count": null,
      "outputs": [
        {
          "output_type": "stream",
          "name": "stdout",
          "text": [
            "3\n",
            "6\n",
            "9\n",
            "12\n",
            "15\n",
            "18\n",
            "21\n",
            "24\n",
            "27\n",
            "30\n"
          ]
        }
      ]
    },
    {
      "cell_type": "code",
      "source": [
        "'''\n",
        "164\n",
        "99부터 0까지 1씩 감소하는 숫자들을, 한 라인에 하나씩 출력하라.\n",
        "'''\n",
        "for i in range(99, -1, -1):\n",
        "    print(i)\n",
        "\n",
        "for i in range(100):\n",
        "    print(99 - i)"
      ],
      "metadata": {
        "colab": {
          "base_uri": "https://localhost:8080/"
        },
        "id": "L3W5CHRGy0rc",
        "outputId": "919bc6de-caf0-4970-e865-7efe7eef492b"
      },
      "execution_count": null,
      "outputs": [
        {
          "output_type": "stream",
          "name": "stdout",
          "text": [
            "99\n",
            "98\n",
            "97\n",
            "96\n",
            "95\n",
            "94\n",
            "93\n",
            "92\n",
            "91\n",
            "90\n",
            "89\n",
            "88\n",
            "87\n",
            "86\n",
            "85\n",
            "84\n",
            "83\n",
            "82\n",
            "81\n",
            "80\n",
            "79\n",
            "78\n",
            "77\n",
            "76\n",
            "75\n",
            "74\n",
            "73\n",
            "72\n",
            "71\n",
            "70\n",
            "69\n",
            "68\n",
            "67\n",
            "66\n",
            "65\n",
            "64\n",
            "63\n",
            "62\n",
            "61\n",
            "60\n",
            "59\n",
            "58\n",
            "57\n",
            "56\n",
            "55\n",
            "54\n",
            "53\n",
            "52\n",
            "51\n",
            "50\n",
            "49\n",
            "48\n",
            "47\n",
            "46\n",
            "45\n",
            "44\n",
            "43\n",
            "42\n",
            "41\n",
            "40\n",
            "39\n",
            "38\n",
            "37\n",
            "36\n",
            "35\n",
            "34\n",
            "33\n",
            "32\n",
            "31\n",
            "30\n",
            "29\n",
            "28\n",
            "27\n",
            "26\n",
            "25\n",
            "24\n",
            "23\n",
            "22\n",
            "21\n",
            "20\n",
            "19\n",
            "18\n",
            "17\n",
            "16\n",
            "15\n",
            "14\n",
            "13\n",
            "12\n",
            "11\n",
            "10\n",
            "9\n",
            "8\n",
            "7\n",
            "6\n",
            "5\n",
            "4\n",
            "3\n",
            "2\n",
            "1\n",
            "0\n"
          ]
        }
      ]
    },
    {
      "cell_type": "code",
      "source": [
        "'''\n",
        "165\n",
        "for문을 사용해서 아래와 같이 출력하라.\n",
        "\n",
        "0.0\n",
        "0.1\n",
        "0.2\n",
        "0.3\n",
        "0.4\n",
        "0.5\n",
        "...\n",
        "0.9\n",
        "'''\n",
        "# for i in range(0.0, 1.0, 0.1):\n",
        "#     print(i)\n",
        "\n",
        "for i in range(10):\n",
        "    print (i/10)"
      ],
      "metadata": {
        "colab": {
          "base_uri": "https://localhost:8080/"
        },
        "id": "s52ouvUCzJPt",
        "outputId": "f2b9cb80-f2e5-459c-9d8d-322c5b995a13"
      },
      "execution_count": null,
      "outputs": [
        {
          "output_type": "stream",
          "name": "stdout",
          "text": [
            "0.0\n",
            "0.1\n",
            "0.2\n",
            "0.3\n",
            "0.4\n",
            "0.5\n",
            "0.6\n",
            "0.7\n",
            "0.8\n",
            "0.9\n"
          ]
        }
      ]
    },
    {
      "cell_type": "code",
      "source": [
        "'''\n",
        "166\n",
        "구구단 3단을 출력하라.\n",
        "\n",
        "3x1 = 3\n",
        "3x2 = 6\n",
        "3x3 = 9\n",
        "3x4 = 12\n",
        "3x5 = 15\n",
        "3x6 = 18\n",
        "3x7 = 21\n",
        "3x8 = 24\n",
        "3x9 = 27\n",
        "'''\n",
        "# for i in int(3):\n",
        "#     for j in range(1, 10):\n",
        "#         print(f'{i}x{j} =', {i}*{j})\n",
        "\n",
        "for i in range(1, 10):\n",
        "    print(3, 'x', i, '=', 3 * i)"
      ],
      "metadata": {
        "colab": {
          "base_uri": "https://localhost:8080/"
        },
        "id": "aVwQLBJczkDN",
        "outputId": "36d27d4e-01cd-4b79-f1fa-2792bc93443e"
      },
      "execution_count": null,
      "outputs": [
        {
          "output_type": "stream",
          "name": "stdout",
          "text": [
            "3 x 1 = 3\n",
            "3 x 2 = 6\n",
            "3 x 3 = 9\n",
            "3 x 4 = 12\n",
            "3 x 5 = 15\n",
            "3 x 6 = 18\n",
            "3 x 7 = 21\n",
            "3 x 8 = 24\n",
            "3 x 9 = 27\n"
          ]
        }
      ]
    },
    {
      "cell_type": "code",
      "source": [
        "'''\n",
        "167\n",
        "구구단 3단을 출력하라. 단 홀수 번째만 출력한다.\n",
        "\n",
        "3x1 = 3\n",
        "3x3 = 9\n",
        "3x5 = 15\n",
        "3x7 = 21\n",
        "3x9 = 27\n",
        "'''\n",
        "for i in range(1, 10, 2):\n",
        "    print(3, 'x', i, '=', 3*i)\n"
      ],
      "metadata": {
        "colab": {
          "base_uri": "https://localhost:8080/"
        },
        "id": "Vhvgidna0VKH",
        "outputId": "68c55e85-d219-4545-de95-3a6e3a8b1cc4"
      },
      "execution_count": null,
      "outputs": [
        {
          "output_type": "stream",
          "name": "stdout",
          "text": [
            "3 x 1 = 3\n",
            "3 x 3 = 9\n",
            "3 x 5 = 15\n",
            "3 x 7 = 21\n",
            "3 x 9 = 27\n"
          ]
        }
      ]
    },
    {
      "cell_type": "code",
      "source": [
        "'''\n",
        "168\n",
        "1~10까지의 숫자에 대해 모두 더한 값을 출력하는 프로그램을 for 문을 사용하여 작성하라.\n",
        "\n",
        "합 : 55\n",
        "'''\n",
        "# for i in range(1, 11):\n",
        "#     i+=i\n",
        "#     print(i)\n",
        "\n",
        "hab = 0\n",
        "for i in range(1, 11):\n",
        "    hab += i\n",
        "    print(hab)"
      ],
      "metadata": {
        "colab": {
          "base_uri": "https://localhost:8080/"
        },
        "id": "c9fzotH_0yV1",
        "outputId": "80219c08-396f-443b-fafa-65998b178007"
      },
      "execution_count": null,
      "outputs": [
        {
          "output_type": "stream",
          "name": "stdout",
          "text": [
            "1\n",
            "3\n",
            "6\n",
            "10\n",
            "15\n",
            "21\n",
            "28\n",
            "36\n",
            "45\n",
            "55\n"
          ]
        }
      ]
    },
    {
      "cell_type": "code",
      "source": [
        "'''\n",
        "169\n",
        "1~10까지의 숫자 중 모든 홀수의 합을 출력하는 프로그램을 for 문을 사용하여 작성하라.\n",
        "\n",
        "합: 25\n",
        "'''\n",
        "hab = 0\n",
        "for i in range(1, 11, 2):\n",
        "    hab += i\n",
        "    print(hab)\n",
        "\n"
      ],
      "metadata": {
        "colab": {
          "base_uri": "https://localhost:8080/"
        },
        "id": "EB2fSLAL1xg5",
        "outputId": "23582c43-88be-4677-b18a-1e0ad46c0a57"
      },
      "execution_count": null,
      "outputs": [
        {
          "output_type": "stream",
          "name": "stdout",
          "text": [
            "1\n",
            "4\n",
            "9\n",
            "16\n",
            "25\n"
          ]
        }
      ]
    },
    {
      "cell_type": "code",
      "source": [
        "'''\n",
        "170\n",
        "1~10까지의 숫자를 모두 곱한 값을 출력하는 프로그램을 for 문을 사용하여 작성하라.\n",
        "'''\n",
        "multi = 1\n",
        "for i in range(1, 11):\n",
        "    multi *= i\n",
        "    print(multi)\n"
      ],
      "metadata": {
        "colab": {
          "base_uri": "https://localhost:8080/"
        },
        "id": "GH_Jg1ki2J9I",
        "outputId": "c872f14f-f39b-4a10-b96d-f178f5c68e2f"
      },
      "execution_count": null,
      "outputs": [
        {
          "output_type": "stream",
          "name": "stdout",
          "text": [
            "1\n",
            "2\n",
            "6\n",
            "24\n",
            "120\n",
            "720\n",
            "5040\n",
            "40320\n",
            "362880\n",
            "3628800\n"
          ]
        }
      ]
    },
    {
      "cell_type": "code",
      "source": [
        "'''\n",
        "171\n",
        "아래와 같이 리스트의 데이터를 출력하라. 단, for문과 range문을 사용하라.\n",
        "\n",
        "32100\n",
        "32150\n",
        "32000\n",
        "32500\n",
        "'''\n",
        "price_list = [32100, 32150, 32000, 32500]\n",
        "for i in price_list:\n",
        "    print(i)\n",
        "\n",
        "for i in range(4):\n",
        "    print(price_list[i])\n",
        "\n",
        "for i in range(len(price_list)):\n",
        "    print(price_list[i])\n",
        "# len() 함수를 사용하면 price_list 가 변해도 코드의 수정이 필요없습니다."
      ],
      "metadata": {
        "colab": {
          "base_uri": "https://localhost:8080/"
        },
        "id": "9LQ4D7gG8uVh",
        "outputId": "a48c1be4-5f3a-4545-8ae1-f0dfa5164713"
      },
      "execution_count": null,
      "outputs": [
        {
          "output_type": "stream",
          "name": "stdout",
          "text": [
            "32100\n",
            "32150\n",
            "32000\n",
            "32500\n",
            "32100\n",
            "32150\n",
            "32000\n",
            "32500\n"
          ]
        }
      ]
    },
    {
      "cell_type": "code",
      "source": [
        "'''\n",
        "172\n",
        "아래와 같이 리스트의 데이터를 출력하라. 단, for문과 range문을 사용하라.\n",
        "\n",
        "0 32100\n",
        "1 32150\n",
        "2 32000\n",
        "3 32500\n",
        "'''\n",
        "price_list = [32100, 32150, 32000, 32500]\n",
        "# for i in range(4):\n",
        "#     print(i, price_list[i])\n",
        "\n",
        "for i, j in enumerate(price_list):\n",
        "    print(i, j) #enumerate 함수"
      ],
      "metadata": {
        "colab": {
          "base_uri": "https://localhost:8080/"
        },
        "id": "ZoEi073k9pla",
        "outputId": "571133fd-a55a-4629-baa1-a8d0578d18e0"
      },
      "execution_count": null,
      "outputs": [
        {
          "output_type": "stream",
          "name": "stdout",
          "text": [
            "0 32100\n",
            "1 32150\n",
            "2 32000\n",
            "3 32500\n"
          ]
        }
      ]
    },
    {
      "cell_type": "code",
      "source": [
        "'''\n",
        "173\n",
        "아래와 같이 리스트의 데이터를 출력하라. 단, for문과 range문을 사용하라.\n",
        "\n",
        "3 32100\n",
        "2 32150\n",
        "1 32000\n",
        "0 32500\n",
        "'''\n",
        "price_list = [32100, 32150, 32000, 32500]\n",
        "# for i in range(3, -1, -1):\n",
        "#     print(i, )\n",
        "\n",
        "# for i in range(len(price_list)):\n",
        "#     print(3 - i, price_list[i])\n",
        "\n",
        "for i in range(len(price_list)):\n",
        "    print((len(price_list) - 1) - i, price_list[i])"
      ],
      "metadata": {
        "id": "2SYLngTm-bOf"
      },
      "execution_count": null,
      "outputs": []
    },
    {
      "cell_type": "code",
      "source": [
        "'''\n",
        "174\n",
        "아래와 같이 리스트의 데이터를 출력하라. 단, for문과 range문을 사용하라.\n",
        "\n",
        "100 32150\n",
        "110 32000\n",
        "120 32500\n",
        "'''\n",
        "price_list = [32100, 32150, 32000, 32500]\n",
        "for i in range(1, 4):\n",
        "    print(90 + 10 * i, price_list[i])"
      ],
      "metadata": {
        "id": "6evauAhRAEuQ"
      },
      "execution_count": null,
      "outputs": []
    },
    {
      "cell_type": "code",
      "source": [
        "'''\n",
        "175\n",
        "my_list를 아래와 같이 출력하라.\n",
        "\n",
        "가 나\n",
        "나 다\n",
        "다 라\n",
        "'''\n",
        "my_list = [\"가\", \"나\", \"다\", \"라\"]\n",
        "# for i in my_list\n",
        "\n",
        "for i in [0, 1, 2]:\n",
        "    print(my_list[i], my_list[i+1])\n",
        "\n",
        "for i in range( len(my_list) - 1 ) :\n",
        "  print(my_list[i], my_list[i+1])\n",
        "\n",
        "for i in range( 1, len(my_list) ) :\n",
        "  print(my_list[i-1], my_list[i])\n",
        "\n"
      ],
      "metadata": {
        "id": "647yF-BkAzKp"
      },
      "execution_count": null,
      "outputs": []
    },
    {
      "cell_type": "code",
      "source": [
        "'''\n",
        "176\n",
        "리스트를 아래와 같이 출력하라.\n",
        "\n",
        "가 나 다\n",
        "나 다 라\n",
        "다 라 마\n",
        "'''\n",
        "my_list = [\"가\", \"나\", \"다\", \"라\", \"마\"]\n",
        "for i in range(0, 3):\n",
        "    print(my_list[i], my_list[i+1], my_list[i+2])"
      ],
      "metadata": {
        "colab": {
          "base_uri": "https://localhost:8080/"
        },
        "id": "rC7Xg5oUDMgq",
        "outputId": "e0a6c15a-f89e-4cf1-f96c-a854e698c6f9"
      },
      "execution_count": null,
      "outputs": [
        {
          "output_type": "stream",
          "name": "stdout",
          "text": [
            "가 나 다\n",
            "나 다 라\n",
            "다 라 마\n"
          ]
        }
      ]
    },
    {
      "cell_type": "code",
      "source": [
        "'''\n",
        "177\n",
        "반복문과 range 함수를 사용해서 my_list를 아래와 같이 출력하라.\n",
        "\n",
        "라 다\n",
        "다 나\n",
        "나 가\n",
        "'''\n",
        "my_list = [\"가\", \"나\", \"다\", \"라\"]\n",
        "for i in range(3, 0, -1):\n",
        "    print(my_list[i], my_list[i-1])"
      ],
      "metadata": {
        "colab": {
          "base_uri": "https://localhost:8080/"
        },
        "id": "nt22Aef_F7WO",
        "outputId": "1173cbae-128e-45a9-fcc9-aa3ace6026af"
      },
      "execution_count": null,
      "outputs": [
        {
          "output_type": "stream",
          "name": "stdout",
          "text": [
            "라 다\n",
            "다 나\n",
            "나 가\n"
          ]
        }
      ]
    },
    {
      "cell_type": "code",
      "source": [
        "'''\n",
        "178\n",
        "리스트에는 네 개의 정수가 저장되어 있다. 각각의 데이터에 대해서 자신과 우측값과의 차분값을 화면에 출력하라.\n",
        "\n",
        "예를들어 100을 기준으로 우측에 위치한 200과의 차분 값를 화면에 출력하고, 200을 기준으로 우측에 위치한 400과의 차분값을 화면에 출력한다. 이어서 400을 기준으로 우측에 위치한 800과의 차분값을 화면에 출력한다.\n",
        "'''\n",
        "my_list = [100, 200, 400, 800]\n",
        "for i in range(1, 4):\n",
        "    print(my_list[i]-my_list[i-1])"
      ],
      "metadata": {
        "colab": {
          "base_uri": "https://localhost:8080/"
        },
        "id": "LBuOG1hxGxk1",
        "outputId": "08393793-fa0a-43c5-bc43-62dbf72ba395"
      },
      "execution_count": null,
      "outputs": [
        {
          "output_type": "stream",
          "name": "stdout",
          "text": [
            "100\n",
            "200\n",
            "400\n"
          ]
        }
      ]
    },
    {
      "cell_type": "code",
      "source": [
        "'''\n",
        "179\n",
        "리스트에는 6일 간의 종가 데이터가 저장되어 있다. 종가 데이터의 3일 이동 평균을 계산하고 이를 화면에 출력하라.\n",
        "\n",
        "첫 번째 줄에는 100, 200, 400의 평균값이 출력된다. 두 번째 줄에는 200, 400, 800의 평균값이 출력된다. 같은 방식으로 나머지 데이터의 평균을 출력한다.\n",
        "'''\n",
        "my_list = [100, 200, 400, 800, 1000, 1300]\n",
        "for i in range(4):\n",
        "    avg = (my_list[i] + my_list[i+1] + my_list[i+2])/3\n",
        "    print(avg)"
      ],
      "metadata": {
        "colab": {
          "base_uri": "https://localhost:8080/"
        },
        "id": "J8eW1kHiHYfN",
        "outputId": "fef4ddab-d7cb-4661-bd8c-d86ab703cff8"
      },
      "execution_count": null,
      "outputs": [
        {
          "output_type": "stream",
          "name": "stdout",
          "text": [
            "233.33333333333334\n",
            "466.6666666666667\n",
            "733.3333333333334\n",
            "1033.3333333333333\n"
          ]
        }
      ]
    },
    {
      "cell_type": "code",
      "source": [
        "'''\n",
        "180\n",
        "리스트에 5일간의 저가, 고가 정보가 저장돼 있다. 고가와 저가의 차를 변동폭이라고 정의할 때, low, high 두 개의 리스트를 사용해서 5일간의 변동폭을 volatility 리스트에 저장하라.\n",
        "\n",
        "'''\n",
        "low_prices  = [100, 200, 400, 800, 1000]\n",
        "high_prices = [150, 300, 430, 880, 1000]\n",
        "\n",
        "change_range = list(zip(high_prices, low_prices))\n",
        "\n",
        "volatility = []\n",
        "\n",
        "# for i in range(5):\n",
        "#     gap = (change_range[i][0]-change_range[i][1])\n",
        "#     volatility.append(gap)\n",
        "\n",
        "# print(volatility)\n",
        "\n",
        "#답안\n",
        "volatility = []\n",
        "for i in range(len(low_prices)) :\n",
        "    volatility.append(high_prices[i] - low_prices[i])\n",
        "\n",
        "# high_prices[2] - low_prices[2]\n",
        "\n"
      ],
      "metadata": {
        "colab": {
          "base_uri": "https://localhost:8080/"
        },
        "id": "cGpHLrEqIEto",
        "outputId": "c88a0c76-6c0e-4d54-d587-bea85386cb78"
      },
      "execution_count": null,
      "outputs": [
        {
          "output_type": "execute_result",
          "data": {
            "text/plain": [
              "30"
            ]
          },
          "metadata": {},
          "execution_count": 102
        }
      ]
    },
    {
      "cell_type": "code",
      "source": [
        "'''\n",
        "191\n",
        "data에는 매수한 종목들의 OHLC (open/high/low/close) 가격 정보가 바인딩 되어있다.\n",
        "\n",
        "\n",
        "\n",
        "수수료를 0.014 %로 가정할 때, 각 가격에 수수료를 포함한 가격을 한라인에 하나씩 출력하라.\n",
        "\n",
        "2000.28\n",
        "3050.427\n",
        "2050.2870000000003\n",
        "'''\n",
        "data = [\n",
        "    [ 2000,  3050,  2050,  1980],\n",
        "    [ 7500,  2050,  2050,  1980],\n",
        "    [15450, 15050, 15550, 14900]\n",
        "]\n",
        "\n",
        "# for i in range(3):\n",
        "#     data[i][0]*0.014, data[i][1]*0.014, data[i][2]*0.014, data[i][3]*0.014\n",
        "\n",
        "for day in data:\n",
        "    for price in day:\n",
        "        print(price + (price * 0.014 * 0.01))\n",
        "\n",
        "\n"
      ],
      "metadata": {
        "colab": {
          "base_uri": "https://localhost:8080/"
        },
        "id": "ZTMtShjsZp2n",
        "outputId": "44f5b288-4e59-475b-86a2-b55aaada138e"
      },
      "execution_count": null,
      "outputs": [
        {
          "output_type": "stream",
          "name": "stdout",
          "text": [
            "2000.28\n",
            "3050.427\n",
            "2050.287\n",
            "1980.2772\n",
            "7501.05\n",
            "2050.287\n",
            "2050.287\n",
            "1980.2772\n",
            "15452.163\n",
            "15052.107\n",
            "15552.177\n",
            "14902.086\n"
          ]
        }
      ]
    },
    {
      "cell_type": "code",
      "source": [
        "'''\n",
        "192\n",
        "191번의 출력 결과에 행단위로 \"----\" 구분자를 추가하라.\n",
        "\n",
        "2000.28\n",
        "3050.427\n",
        "2050.2870000000003\n",
        "1980.2772\n",
        "----\n",
        "7501.05\n",
        "2050.2870000000003\n",
        "2050.2870000000003\n",
        "1980.2772\n",
        "----\n",
        "15452.163\n",
        "15052.107\n",
        "15552.177\n",
        "14902.086000000001\n",
        "----\n",
        "'''\n",
        "for day in data:\n",
        "    # print('----')\n",
        "    for price in day:\n",
        "        print(price + (price * 0.014 * 0.01))\n",
        "    print('----')\n",
        "\n"
      ],
      "metadata": {
        "colab": {
          "base_uri": "https://localhost:8080/"
        },
        "id": "CXKmxQoEcB_g",
        "outputId": "3077b223-51dd-4d6b-fc3e-9ab5d4b073f5"
      },
      "execution_count": null,
      "outputs": [
        {
          "output_type": "stream",
          "name": "stdout",
          "text": [
            "2000.28\n",
            "3050.427\n",
            "2050.287\n",
            "1980.2772\n",
            "----\n",
            "7501.05\n",
            "2050.287\n",
            "2050.287\n",
            "1980.2772\n",
            "----\n",
            "15452.163\n",
            "15052.107\n",
            "15552.177\n",
            "14902.086\n",
            "----\n"
          ]
        }
      ]
    },
    {
      "cell_type": "code",
      "source": [
        "'''\n",
        "193\n",
        "192 번 문제의 결괏값을 result 이름의 리스트에 1차원 배열로 저장하라.\n",
        "\n",
        ">> print(result)\n",
        "[2000.28, 3050.427, 2050.2870000000003, 1980.2772, 7501.05, 2050.2870000000003, 2050.2870000000003, ...]\n",
        "'''\n",
        "data = [\n",
        "    [ 2000,  3050,  2050,  1980],\n",
        "    [ 7500,  2050,  2050,  1980],\n",
        "    [15450, 15050, 15550, 14900]\n",
        "]\n",
        "\n",
        "result = []\n",
        "\n",
        "for day in data:\n",
        "    for price in day:\n",
        "        result2 = (price + (price * 0.014 * 0.01))\n",
        "        result.append(result2)\n",
        "\n",
        "result\n",
        "\n"
      ],
      "metadata": {
        "colab": {
          "base_uri": "https://localhost:8080/"
        },
        "id": "GFRA_J6UcaQN",
        "outputId": "7fff1f70-1408-4244-c26d-7ee683aaceaa"
      },
      "execution_count": null,
      "outputs": [
        {
          "output_type": "execute_result",
          "data": {
            "text/plain": [
              "[2000.28,\n",
              " 3050.427,\n",
              " 2050.287,\n",
              " 1980.2772,\n",
              " 7501.05,\n",
              " 2050.287,\n",
              " 2050.287,\n",
              " 1980.2772,\n",
              " 15452.163,\n",
              " 15052.107,\n",
              " 15552.177,\n",
              " 14902.086]"
            ]
          },
          "metadata": {},
          "execution_count": 112
        }
      ]
    },
    {
      "cell_type": "code",
      "source": [
        "'''\n",
        "194\n",
        "191번 문제의 결괏값을 result 이름의 리스트에 2차원 배열로 저장하라. 저장 포맷은 아래와 같다. 각 행에 대한 데이터끼리 리스트에 저장되어야 한다.\n",
        "\n",
        ">> print(result)\n",
        "[\n",
        " [2000.28, 3050.427, 2050.2870000000003, 1980.2772],\n",
        " [7501.05, 2050.2870000000003, 2050.2870000000003, 1980.2772],\n",
        " [15452.163, 15052.107, 15552.177, 14902.086000000001]\n",
        "]\n",
        "'''\n",
        "data = [\n",
        "    [ 2000,  3050,  2050,  1980],\n",
        "    [ 7500,  2050,  2050,  1980],\n",
        "    [15450, 15050, 15550, 14900]\n",
        "]\n",
        "\n",
        "result = []\n",
        "\n",
        "for day in data:\n",
        "    sub = []\n",
        "    for price in day:\n",
        "        result2 = (price + (price * 0.014 * 0.01))\n",
        "        sub.append(result2)\n",
        "    result.append(sub)\n",
        "\n",
        "print(result)\n"
      ],
      "metadata": {
        "colab": {
          "base_uri": "https://localhost:8080/"
        },
        "id": "C--WVc3-eBJz",
        "outputId": "d4438fe6-8c75-4d9e-b2af-01fe14deff8f"
      },
      "execution_count": null,
      "outputs": [
        {
          "output_type": "stream",
          "name": "stdout",
          "text": [
            "[[2000.28, 3050.427, 2050.287, 1980.2772], [7501.05, 2050.287, 2050.287, 1980.2772], [15452.163, 15052.107, 15552.177, 14902.086]]\n"
          ]
        }
      ]
    },
    {
      "cell_type": "code",
      "source": [
        "'''\n",
        "195\n",
        "ohlc 리스트에는 시가(open), 고가 (high), 저가 (low) , 종가(close)가 날짜별로 저장돼 있다. 화면에 종가데이터를 출력하라.\n",
        "\n",
        "100\n",
        "190\n",
        "310\n",
        "'''\n",
        "ohlc = [[\"open\", \"high\", \"low\", \"close\"],\n",
        "        [100, 110, 70, 100],\n",
        "        [200, 210, 180, 190],\n",
        "        [300, 310, 300, 310]]\n",
        "\n",
        "# for day in ohlc[1:]:\n",
        "#     print(day)\n",
        "\n",
        "# for data in day[3:]:\n",
        "#     print(data)\n",
        "\n",
        "# for day in ohlc[1:]:\n",
        "#     for data in day[3:]:\n",
        "#         print(data)\n",
        "\n",
        "for day in ohlc[1:]:\n",
        "    print(day[3])\n",
        "\n",
        "\n",
        "\n"
      ],
      "metadata": {
        "colab": {
          "base_uri": "https://localhost:8080/"
        },
        "id": "ZfNlZqt0gMqv",
        "outputId": "97986a4d-aa71-4633-a90e-99bf9e5d77a3"
      },
      "execution_count": null,
      "outputs": [
        {
          "output_type": "stream",
          "name": "stdout",
          "text": [
            "100\n",
            "190\n",
            "310\n"
          ]
        }
      ]
    },
    {
      "cell_type": "code",
      "source": [
        "'''\n",
        "196\n",
        "ohlc 리스트에는 시가(open), 고가 (high), 저가 (low) , 종가(close)가 날짜별로 저장돼 있다. 종가가 150원보다 큰경우에만 종가를 출력하라.\n",
        "\n",
        "\n",
        "190\n",
        "310\n",
        "'''\n",
        "ohlc = [[\"open\", \"high\", \"low\", \"close\"],\n",
        "        [100, 110, 70, 100],\n",
        "        [200, 210, 180, 190],\n",
        "        [300, 310, 300, 310]]\n",
        "\n",
        "for day in ohlc[1:]:\n",
        "    if day[3] > 150:\n",
        "        print(day[3])"
      ],
      "metadata": {
        "colab": {
          "base_uri": "https://localhost:8080/"
        },
        "id": "cbaHqKaniTFe",
        "outputId": "6702dcd0-9d2c-4e76-e843-cd8a8cd294cb"
      },
      "execution_count": null,
      "outputs": [
        {
          "output_type": "stream",
          "name": "stdout",
          "text": [
            "190\n",
            "310\n"
          ]
        }
      ]
    },
    {
      "cell_type": "code",
      "source": [
        "'''\n",
        "197\n",
        "ohlc 리스트에는 시가(open), 고가 (high), 저가 (low) , 종가(close)가 날짜별로 저장돼 있다. 종가가 시가 보다 크거나 같은 경우에만 종가를 출력하라.\n",
        "\n",
        "100\n",
        "310\n",
        "'''\n",
        "ohlc = [[\"open\", \"high\", \"low\", \"close\"],\n",
        "        [100, 110, 70, 100],\n",
        "        [200, 210, 180, 190],\n",
        "        [300, 310, 300, 310]]\n",
        "\n",
        "for day in ohlc[1:]:\n",
        "    if day[3] >= day[0]:\n",
        "        print(day[3])"
      ],
      "metadata": {
        "colab": {
          "base_uri": "https://localhost:8080/"
        },
        "id": "_w1REymuiykR",
        "outputId": "4aff22e1-ca39-4a0d-c573-0297f761e8d8"
      },
      "execution_count": null,
      "outputs": [
        {
          "output_type": "stream",
          "name": "stdout",
          "text": [
            "100\n",
            "310\n"
          ]
        }
      ]
    },
    {
      "cell_type": "code",
      "source": [
        "'''\n",
        "198\n",
        "ohlc 리스트에는 시가(open), 고가 (high), 저가 (low) , 종가(close)가 날짜별로 저장돼 있다. 고가와 저가의 차이를 변동폭으로 정의할 때 변동폭을 volatility 이름의 리스트에 저장하라.\n",
        "\n",
        "ohlc = [[\"open\", \"high\", \"low\", \"close\"],\n",
        "        [100, 110, 70, 100],\n",
        "        [200, 210, 180, 190],\n",
        "        [300, 310, 300, 310]]\n",
        ">> print(volatility)\n",
        "[40, 30, 10]\n",
        "'''\n",
        "volatility = []\n",
        "\n",
        "for day in ohlc[1:]:\n",
        "    gap = day[1] - day[2]\n",
        "    volatility.append(gap)\n",
        "\n",
        "print(volatility)\n"
      ],
      "metadata": {
        "colab": {
          "base_uri": "https://localhost:8080/"
        },
        "id": "9MxSfcN2jM2p",
        "outputId": "94e55ff5-1efb-4964-aeba-92f755169eb5"
      },
      "execution_count": null,
      "outputs": [
        {
          "output_type": "stream",
          "name": "stdout",
          "text": [
            "[40, 30, 10]\n"
          ]
        }
      ]
    },
    {
      "cell_type": "code",
      "source": [
        "'''\n",
        "199\n",
        "리스트에는 3일 간의 ohlc 데이터가 저장돼 있다. 종가가 시가보다 높은 날의 변동성 (고가 - 저가)을 화면에 출력하라.\n",
        "\n",
        "종가가 시가보다 높은 거래일의 OHLC는 [300, 310, 300, 310] 이다. 따라서 이 거래일의 변동성은 10 (310 - 300)이다.\n",
        "\n",
        "10\n",
        "'''\n",
        "ohlc = [[\"open\", \"high\", \"low\", \"close\"],\n",
        "        [100, 110, 70, 100],\n",
        "        [200, 210, 180, 190],\n",
        "        [300, 310, 300, 310]]\n",
        "\n",
        "for day in ohlc[1:]:\n",
        "    if day[3] > day[0]:\n",
        "        print(day[1]-day[2])"
      ],
      "metadata": {
        "colab": {
          "base_uri": "https://localhost:8080/"
        },
        "id": "MEaSC0wOkA8v",
        "outputId": "d0fe496a-1fb6-4939-dab8-faa08286f031"
      },
      "execution_count": null,
      "outputs": [
        {
          "output_type": "stream",
          "name": "stdout",
          "text": [
            "10\n"
          ]
        }
      ]
    },
    {
      "cell_type": "code",
      "source": [
        "'''\n",
        "200\n",
        "리스트에는 3일 간의 ohlc 데이터가 저장돼 있다. 시가에 매수해서 종가에 매도 했을 경우 총 수익금을 계산하라.\n",
        "\n",
        "1일차 수익 0원 (100 - 100), 2일차 수익 -10원 (190 - 200), 3일차 수익 10원 (310 - 300) 이다.\n",
        "\n",
        "0\n",
        "'''\n",
        "ohlc = [[\"open\", \"high\", \"low\", \"close\"],\n",
        "        [100, 110, 70, 100],\n",
        "        [200, 210, 180, 190],\n",
        "        [300, 310, 300, 310]]\n",
        "\n",
        "hap = 0\n",
        "for day in ohlc[1:]:\n",
        "    gap = day[3]-day[0]\n",
        "    hap += gap\n",
        "\n",
        "print(hap)\n"
      ],
      "metadata": {
        "colab": {
          "base_uri": "https://localhost:8080/"
        },
        "id": "h0LYBN36kusz",
        "outputId": "985c7c7b-dcf3-44ce-b754-9b41601704c0"
      },
      "execution_count": null,
      "outputs": [
        {
          "output_type": "stream",
          "name": "stdout",
          "text": [
            "0\n"
          ]
        }
      ]
    }
  ]
}