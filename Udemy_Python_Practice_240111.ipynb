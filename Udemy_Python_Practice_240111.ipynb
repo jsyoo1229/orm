{
  "nbformat": 4,
  "nbformat_minor": 0,
  "metadata": {
    "colab": {
      "provenance": [],
      "authorship_tag": "ABX9TyNV4pLhu59VVmeKmCzDiem2",
      "include_colab_link": true
    },
    "kernelspec": {
      "name": "python3",
      "display_name": "Python 3"
    },
    "language_info": {
      "name": "python"
    }
  },
  "cells": [
    {
      "cell_type": "markdown",
      "metadata": {
        "id": "view-in-github",
        "colab_type": "text"
      },
      "source": [
        "<a href=\"https://colab.research.google.com/github/jsyoo1229/orm/blob/main/Udemy_Python_Practice_240111.ipynb\" target=\"_parent\"><img src=\"https://colab.research.google.com/assets/colab-badge.svg\" alt=\"Open In Colab\"/></a>"
      ]
    },
    {
      "cell_type": "code",
      "execution_count": null,
      "metadata": {
        "colab": {
          "base_uri": "https://localhost:8080/"
        },
        "id": "u6ZNLax_PuKn",
        "outputId": "913bfaf5-9ec7-475c-87ec-a8d18f00a59e"
      },
      "outputs": [
        {
          "output_type": "stream",
          "name": "stdout",
          "text": [
            "key value\n",
            "a b\n"
          ]
        }
      ],
      "source": [
        "dict = {'key': 'value', 'a': 'b'}\n",
        "\n",
        "for k, v in dict.items():\n",
        "    print(k, v)\n",
        "\n",
        "# list(dict.items())"
      ]
    },
    {
      "cell_type": "code",
      "source": [
        "class Book():\n",
        "    def __init__(self, title, author, pages):\n",
        "        self.title = title\n",
        "        self.author = author\n",
        "        self.pages = pages\n",
        "\n",
        "    def  __str__(self):\n",
        "        return f'{self.title} by {self.author}'\n",
        "\n",
        "    def  __len__(self):\n",
        "        return self.pages\n",
        "\n",
        "    def  __del__(self):\n",
        "        print('A book object has been deleted')\n"
      ],
      "metadata": {
        "id": "_B1e9SKuS7BZ"
      },
      "execution_count": null,
      "outputs": []
    },
    {
      "cell_type": "code",
      "source": [
        "b = Book('Python rocks', 'Jose', 200)\n",
        "print(b)"
      ],
      "metadata": {
        "colab": {
          "base_uri": "https://localhost:8080/"
        },
        "id": "_YQwaN16odCH",
        "outputId": "751ec0bf-01a7-4ed7-fdb5-f7558b2823a7"
      },
      "execution_count": null,
      "outputs": [
        {
          "output_type": "stream",
          "name": "stdout",
          "text": [
            "Python rocks by Jose\n"
          ]
        }
      ]
    },
    {
      "cell_type": "code",
      "source": [
        "str(b)\n",
        "len(b)"
      ],
      "metadata": {
        "colab": {
          "base_uri": "https://localhost:8080/"
        },
        "id": "1_lCoYWAo306",
        "outputId": "2b337f69-e576-4171-ae77-1732c00fd9c4"
      },
      "execution_count": null,
      "outputs": [
        {
          "output_type": "execute_result",
          "data": {
            "text/plain": [
              "200"
            ]
          },
          "metadata": {},
          "execution_count": 30
        }
      ]
    },
    {
      "cell_type": "code",
      "source": [
        "del b"
      ],
      "metadata": {
        "colab": {
          "base_uri": "https://localhost:8080/"
        },
        "id": "w9wFzSvgqJAq",
        "outputId": "ae4ada83-6479-4abf-91ba-ab887707d857"
      },
      "execution_count": null,
      "outputs": [
        {
          "output_type": "stream",
          "name": "stdout",
          "text": [
            "A book object has been deleted\n"
          ]
        }
      ]
    },
    {
      "cell_type": "code",
      "source": [
        "b"
      ],
      "metadata": {
        "colab": {
          "base_uri": "https://localhost:8080/",
          "height": 178
        },
        "id": "W11oBagSqMAc",
        "outputId": "c2973c72-f593-44a9-f965-5379811ae2bf"
      },
      "execution_count": null,
      "outputs": [
        {
          "output_type": "error",
          "ename": "NameError",
          "evalue": "name 'b' is not defined",
          "traceback": [
            "\u001b[0;31m---------------------------------------------------------------------------\u001b[0m",
            "\u001b[0;31mNameError\u001b[0m                                 Traceback (most recent call last)",
            "\u001b[0;32m<ipython-input-32-89e6c98d9288>\u001b[0m in \u001b[0;36m<cell line: 1>\u001b[0;34m()\u001b[0m\n\u001b[0;32m----> 1\u001b[0;31m \u001b[0mb\u001b[0m\u001b[0;34m\u001b[0m\u001b[0;34m\u001b[0m\u001b[0m\n\u001b[0m",
            "\u001b[0;31mNameError\u001b[0m: name 'b' is not defined"
          ]
        }
      ]
    },
    {
      "cell_type": "code",
      "source": [
        "class Animal():\n",
        "    def __init__(self):\n",
        "        print('Animal Created')\n",
        "\n",
        "    def who_am_i(self):\n",
        "        print('I am an animal')\n",
        "\n",
        "    def eat(self):\n",
        "        print('I am eating')\n",
        "\n",
        "myAnimal = Animal()\n",
        "myAnimal.eat()"
      ],
      "metadata": {
        "colab": {
          "base_uri": "https://localhost:8080/"
        },
        "id": "nDv2zW3Xr4Pp",
        "outputId": "9203c813-f89c-4058-9064-f8bd91b36f42"
      },
      "execution_count": null,
      "outputs": [
        {
          "output_type": "stream",
          "name": "stdout",
          "text": [
            "Animal Created\n",
            "I am eating\n"
          ]
        }
      ]
    },
    {
      "cell_type": "code",
      "source": [
        "class Dog(Animal):\n",
        "\n",
        "    # def __init__(self):\n",
        "    #     Animal.__init__(self)\n",
        "    #     print('Dog Created')\n",
        "\n",
        "    def who_am_i(self):\n",
        "        print('I am a dog')\n",
        "\n",
        "    def bark(self):\n",
        "        print('WOOF')\n",
        "\n",
        "    def eat(self):\n",
        "        print('I am a dog and eating')\n",
        "\n",
        "puppy = Dog()\n",
        "puppy.eat()\n",
        "puppy.who_am_i()\n",
        "puppy.bark()\n"
      ],
      "metadata": {
        "colab": {
          "base_uri": "https://localhost:8080/"
        },
        "id": "QjA7kJDws8lv",
        "outputId": "d4f455b6-6b47-47c3-f9e2-211b5627d201"
      },
      "execution_count": null,
      "outputs": [
        {
          "output_type": "stream",
          "name": "stdout",
          "text": [
            "Animal Created\n",
            "I am a dog and eating\n",
            "I am a dog\n",
            "WOOF\n"
          ]
        }
      ]
    },
    {
      "cell_type": "code",
      "source": [
        "def square(num):\n",
        "    return num**2"
      ],
      "metadata": {
        "id": "suarJgMimJEC"
      },
      "execution_count": null,
      "outputs": []
    },
    {
      "cell_type": "code",
      "source": [
        "my_nums = [1,2,3,4,5]"
      ],
      "metadata": {
        "id": "K7ibDZIgmRQA"
      },
      "execution_count": null,
      "outputs": []
    },
    {
      "cell_type": "code",
      "source": [
        "for item in map(square, my_nums):\n",
        "    print(item)"
      ],
      "metadata": {
        "colab": {
          "base_uri": "https://localhost:8080/"
        },
        "id": "bM8vXx4cmU-q",
        "outputId": "6d83a497-5cef-4d87-db2c-a86b3eca6184"
      },
      "execution_count": null,
      "outputs": [
        {
          "output_type": "stream",
          "name": "stdout",
          "text": [
            "1\n",
            "4\n",
            "9\n",
            "16\n",
            "25\n"
          ]
        }
      ]
    },
    {
      "cell_type": "code",
      "source": [
        "list(map(square, my_nums))"
      ],
      "metadata": {
        "colab": {
          "base_uri": "https://localhost:8080/"
        },
        "id": "hvXcsdqrmbS4",
        "outputId": "28e667dc-cdd4-47e5-9c21-c80b46b5e731"
      },
      "execution_count": null,
      "outputs": [
        {
          "output_type": "execute_result",
          "data": {
            "text/plain": [
              "[1, 4, 9, 16, 25]"
            ]
          },
          "metadata": {},
          "execution_count": 4
        }
      ]
    },
    {
      "cell_type": "code",
      "source": [
        "def splicer(mystring):\n",
        "    if len(mystring)%2 == 0:\n",
        "        return 'EVEN'\n",
        "    else:\n",
        "        return mystring[0]"
      ],
      "metadata": {
        "id": "XNR0VUKHmvK1"
      },
      "execution_count": null,
      "outputs": []
    },
    {
      "cell_type": "code",
      "source": [
        "names = ['Andy', 'Eve', 'Sally']"
      ],
      "metadata": {
        "id": "CyyYwbYVnG4J"
      },
      "execution_count": null,
      "outputs": []
    },
    {
      "cell_type": "code",
      "source": [
        "list(map(splicer, names))"
      ],
      "metadata": {
        "colab": {
          "base_uri": "https://localhost:8080/"
        },
        "id": "vRPHCKsJnSwf",
        "outputId": "3a848249-007c-469f-df91-d267d1c5765d"
      },
      "execution_count": null,
      "outputs": [
        {
          "output_type": "execute_result",
          "data": {
            "text/plain": [
              "['EVEN', 'E', 'S']"
            ]
          },
          "metadata": {},
          "execution_count": 7
        }
      ]
    },
    {
      "cell_type": "code",
      "source": [
        "def check_even(num):\n",
        "    return num%2 == 0"
      ],
      "metadata": {
        "id": "xewabYTBnXKG"
      },
      "execution_count": null,
      "outputs": []
    },
    {
      "cell_type": "code",
      "source": [
        "mynums = [1,2,3,4,5,6]"
      ],
      "metadata": {
        "id": "OdTePWAAogr2"
      },
      "execution_count": null,
      "outputs": []
    },
    {
      "cell_type": "code",
      "source": [
        "list(filter(check_even, mynums))"
      ],
      "metadata": {
        "colab": {
          "base_uri": "https://localhost:8080/"
        },
        "id": "5rJe_WGLo078",
        "outputId": "a21d8216-d07a-4054-a038-85305f9525d1"
      },
      "execution_count": null,
      "outputs": [
        {
          "output_type": "execute_result",
          "data": {
            "text/plain": [
              "[2, 4, 6]"
            ]
          },
          "metadata": {},
          "execution_count": 14
        }
      ]
    },
    {
      "cell_type": "code",
      "source": [
        "for i in filter(check_even, mynums):\n",
        "    print(i)"
      ],
      "metadata": {
        "colab": {
          "base_uri": "https://localhost:8080/"
        },
        "id": "qBKT1BB2pac0",
        "outputId": "ec66fd00-ee9e-4fbc-e453-833ab5f4b1d4"
      },
      "execution_count": null,
      "outputs": [
        {
          "output_type": "stream",
          "name": "stdout",
          "text": [
            "2\n",
            "4\n",
            "6\n"
          ]
        }
      ]
    },
    {
      "cell_type": "code",
      "source": [
        "lambda num: num ** 2"
      ],
      "metadata": {
        "id": "gHgvnuxGp5Fx"
      },
      "execution_count": null,
      "outputs": []
    },
    {
      "cell_type": "code",
      "source": [],
      "metadata": {
        "id": "It0M99RytYg7"
      },
      "execution_count": null,
      "outputs": []
    },
    {
      "cell_type": "code",
      "source": [],
      "metadata": {
        "id": "C0Nm4HqEtR1H"
      },
      "execution_count": null,
      "outputs": []
    },
    {
      "cell_type": "code",
      "source": [],
      "metadata": {
        "id": "wUegAcqEpU95"
      },
      "execution_count": null,
      "outputs": []
    },
    {
      "cell_type": "code",
      "source": [],
      "metadata": {
        "id": "J-it3Wc_pEoy"
      },
      "execution_count": null,
      "outputs": []
    },
    {
      "cell_type": "code",
      "source": [],
      "metadata": {
        "id": "8_SfmzzNo_rZ"
      },
      "execution_count": null,
      "outputs": []
    },
    {
      "cell_type": "code",
      "source": [],
      "metadata": {
        "id": "EVtBU0Puo54T"
      },
      "execution_count": null,
      "outputs": []
    }
  ]
}