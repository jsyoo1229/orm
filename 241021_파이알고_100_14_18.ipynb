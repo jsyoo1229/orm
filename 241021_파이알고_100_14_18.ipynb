{
  "nbformat": 4,
  "nbformat_minor": 0,
  "metadata": {
    "colab": {
      "provenance": [],
      "authorship_tag": "ABX9TyM3+ZajGrFKFR/3iV0C3ONX",
      "include_colab_link": true
    },
    "kernelspec": {
      "name": "python3",
      "display_name": "Python 3"
    },
    "language_info": {
      "name": "python"
    }
  },
  "cells": [
    {
      "cell_type": "markdown",
      "metadata": {
        "id": "view-in-github",
        "colab_type": "text"
      },
      "source": [
        "<a href=\"https://colab.research.google.com/github/jsyoo1229/orm/blob/main/241021_%ED%8C%8C%EC%9D%B4%EC%95%8C%EA%B3%A0_100_14_18.ipynb\" target=\"_parent\"><img src=\"https://colab.research.google.com/assets/colab-badge.svg\" alt=\"Open In Colab\"/></a>"
      ]
    },
    {
      "cell_type": "markdown",
      "source": [
        "###14번"
      ],
      "metadata": {
        "id": "VC39VYISe7Th"
      }
    },
    {
      "cell_type": "code",
      "execution_count": null,
      "metadata": {
        "colab": {
          "base_uri": "https://localhost:8080/"
        },
        "id": "ToKICZiQW4tW",
        "outputId": "40d5d88d-5727-4c52-f152-9ade1933401f"
      },
      "outputs": [
        {
          "output_type": "execute_result",
          "data": {
            "text/plain": [
              "['Moby Dick', '1984', 'To Kill a Mockingbird']"
            ]
          },
          "metadata": {},
          "execution_count": 4
        }
      ],
      "source": [
        "# https://100.pyalgo.co.kr/?page=14#\n",
        "# ['To Kill a Mockingbird', 'Moby Dick', '1984']\n",
        "\n",
        "Books = {'AX21': 'Moby Dick', 'BX32': '1984', 'CX14': 'To Kill a Mockingbird'}\n",
        "code = Books.keys()\n",
        "title = Books.values()\n",
        "\n",
        "def solution(data):\n",
        "    return sorted(title, key = lambda x: code)\n",
        "\n",
        "solution(Books)\n"
      ]
    },
    {
      "cell_type": "code",
      "source": [
        "Books = {'AX21': 'Moby Dick', 'BX32': '1984', 'CX14': 'To Kill a Mockingbird'}\n",
        "\n",
        "def solution(data):\n",
        "    sorted_keys = sorted(data.keys())    # 키 값들을 미리 정렬 시킴\n",
        "    return [data[i] for i in sorted_keys]  # 미리 정렬된, 키 값들을, 리스트 컴프리헨션을 통해 활용\n",
        "\n",
        "solution(Books)"
      ],
      "metadata": {
        "colab": {
          "base_uri": "https://localhost:8080/"
        },
        "id": "lgZAKSSyZajg",
        "outputId": "0a17b7f9-3f7c-4231-abf7-eb9495999cc4"
      },
      "execution_count": null,
      "outputs": [
        {
          "output_type": "execute_result",
          "data": {
            "text/plain": [
              "['Moby Dick', '1984', 'To Kill a Mockingbird']"
            ]
          },
          "metadata": {},
          "execution_count": 5
        }
      ]
    },
    {
      "cell_type": "markdown",
      "source": [
        "###15번"
      ],
      "metadata": {
        "id": "OfcvXDpye_9W"
      }
    },
    {
      "cell_type": "code",
      "source": [
        "# https://100.pyalgo.co.kr/?page=15#\n",
        "\n",
        "'''\n",
        "위니브 A 회의실에는 회의 시간 목록이 AM/PM 형식으로 표현되어 있습니다.\n",
        "이 시간들을 24시간제로 변환한 뒤, 오름차순으로 정렬하는 코드를 작성해주세요.\n",
        "시간은 'HH:MM AM' 또는 'HH:MM PM' 형식으로 주어지며, 12시간제를 24시간제로\n",
        "변환할 때 '12:00 AM'은 '00:00', '12:00 PM'은 '12:00'으로 변환합니다.\n",
        "'''\n",
        "\n",
        "# 제한 사항\n",
        "# 시간은 'HH:MM AM' 또는 'HH:MM PM' 형식으로 주어집니다.\n",
        "# 'HH'는 01에서 12 사이, 'MM'은 00에서 59 사이입니다.\n",
        "# 시간 목록에는 최소 1개에서 최대 100개의 시간이 주어집니다.\n",
        "\n",
        "# ['12:00 AM', '09:00 AM', '11:30 AM', '12:45 PM', '01:00 PM']\n",
        "\n",
        "time = ['01:00 PM', '11:30 AM', '12:45 PM', '09:00 AM', '12:00 AM']\n",
        "\n",
        "def solution(data):\n",
        "    def convert_time(time):\n",
        "        hh, mm, ampm = time.split(' ')[0].split(':') + time.split(' ')[1:]\n",
        "\n",
        "        if ampm == 'PM' and hh ! == '12'\n",
        "\n",
        "    return sorted(data, key = convert_time)\n",
        "\n",
        "\n",
        "# input[0].split(' ') # list\n",
        "# input[0].split(' ')[0] # str\n",
        "# input[0].split(' ')[0].split(':') # list\n",
        "# input[0].split(' ')[1:]  # list\n",
        "# input[0].split(' ')[1]   # str\n",
        "\n",
        "# split()이나, slicing으로 끝나면, list\n",
        "# index로 끝나면, str"
      ],
      "metadata": {
        "id": "LwYjQ6XYa_ng"
      },
      "execution_count": 26,
      "outputs": []
    },
    {
      "cell_type": "markdown",
      "source": [
        "###16번"
      ],
      "metadata": {
        "id": "dN4JzM_9fCxo"
      }
    },
    {
      "cell_type": "code",
      "source": [
        "# https://100.pyalgo.co.kr/?page=16#\n",
        "\n",
        "['20-01-2024', '12/15/2023', '2022.05.30']\n",
        "['2022/05/30', '2023/12/15', '2024/01/20']\n",
        "\n",
        "['03/25/2021', '2020.12.31', '15-04-2022']\n",
        "['2020/12/31', '2021/03/25', '2022/04/15']\n",
        "\n",
        "\n",
        "\n",
        "def solution(data):\n",
        "\n",
        "    def convert_date(date):\n",
        "        if '-' in date:\n",
        "            day, month, year = date.split('-')\n",
        "        elif '/' in date:\n",
        "            month, day, year = date.split('/')\n",
        "        else:\n",
        "            year, month, day = date.split('.')\n",
        "        return year, month, day  #언패킹\n",
        "\n",
        "    converted_dates = [convert_date(date) for date in data] #언패킹 적용\n",
        "    sorted_dates = sorted(converted_dates)  #언패킹한 리스트 정렬\n",
        "\n",
        "    return ['/'.join(date) for date in sorted_dates]  #.join()  #정렬한 리스트, '/'로 합치기\n",
        "\n",
        "\n"
      ],
      "metadata": {
        "id": "LPoObUnqUfGk"
      },
      "execution_count": null,
      "outputs": []
    },
    {
      "cell_type": "code",
      "source": [
        "# ['24-01-26 금', '24-01-22 월', '24-01-19 금']\n",
        "\n",
        "dates = {'월': ['2024-01-01', '2024-01-08', '2024-01-15', '2024-01-22'],\n",
        " '화': ['2024-01-02', '2024-01-09', '2024-01-16'],\n",
        " '수': ['2024-01-03', '2024-01-10'],\n",
        " '목': ['2024-01-04', '2024-01-11', '2024-01-18'],\n",
        " '금': ['2024-01-05', '2024-01-12', '2024-01-19', '2024-01-26']}\n",
        "\n",
        "years = [i for i in dates.values()]\n",
        "days = [i for i in dates.keys()]\n",
        "sorted(dates[])\n",
        "\n",
        "# sorted(years, reverse = True)\n",
        "\n",
        "# dates.values()\n",
        "# dates.keys()\n",
        "\n",
        "\n",
        "\n",
        "\n"
      ],
      "metadata": {
        "colab": {
          "base_uri": "https://localhost:8080/",
          "height": 247
        },
        "id": "nDp7fv0trmPh",
        "outputId": "c52f8d1d-8b92-44c6-bacc-7096292091c2"
      },
      "execution_count": 37,
      "outputs": [
        {
          "output_type": "error",
          "ename": "TypeError",
          "evalue": "unhashable type: 'list'",
          "traceback": [
            "\u001b[0;31m---------------------------------------------------------------------------\u001b[0m",
            "\u001b[0;31mTypeError\u001b[0m                                 Traceback (most recent call last)",
            "\u001b[0;32m<ipython-input-37-9e41e354a90e>\u001b[0m in \u001b[0;36m<cell line: 11>\u001b[0;34m()\u001b[0m\n\u001b[1;32m      9\u001b[0m \u001b[0myears\u001b[0m \u001b[0;34m=\u001b[0m \u001b[0;34m[\u001b[0m\u001b[0mi\u001b[0m \u001b[0;32mfor\u001b[0m \u001b[0mi\u001b[0m \u001b[0;32min\u001b[0m \u001b[0mdates\u001b[0m\u001b[0;34m.\u001b[0m\u001b[0mvalues\u001b[0m\u001b[0;34m(\u001b[0m\u001b[0;34m)\u001b[0m\u001b[0;34m]\u001b[0m\u001b[0;34m\u001b[0m\u001b[0;34m\u001b[0m\u001b[0m\n\u001b[1;32m     10\u001b[0m \u001b[0mdays\u001b[0m \u001b[0;34m=\u001b[0m \u001b[0;34m[\u001b[0m\u001b[0mi\u001b[0m \u001b[0;32mfor\u001b[0m \u001b[0mi\u001b[0m \u001b[0;32min\u001b[0m \u001b[0mdates\u001b[0m\u001b[0;34m.\u001b[0m\u001b[0mkeys\u001b[0m\u001b[0;34m(\u001b[0m\u001b[0;34m)\u001b[0m\u001b[0;34m]\u001b[0m\u001b[0;34m\u001b[0m\u001b[0;34m\u001b[0m\u001b[0m\n\u001b[0;32m---> 11\u001b[0;31m \u001b[0msorted\u001b[0m\u001b[0;34m(\u001b[0m\u001b[0mdates\u001b[0m\u001b[0;34m[\u001b[0m\u001b[0mdays\u001b[0m\u001b[0;34m]\u001b[0m\u001b[0;34m)\u001b[0m\u001b[0;34m\u001b[0m\u001b[0;34m\u001b[0m\u001b[0m\n\u001b[0m\u001b[1;32m     12\u001b[0m \u001b[0;34m\u001b[0m\u001b[0m\n\u001b[1;32m     13\u001b[0m \u001b[0;31m# sorted(years, reverse = True)\u001b[0m\u001b[0;34m\u001b[0m\u001b[0;34m\u001b[0m\u001b[0m\n",
            "\u001b[0;31mTypeError\u001b[0m: unhashable type: 'list'"
          ]
        }
      ]
    },
    {
      "cell_type": "markdown",
      "source": [
        "###17번"
      ],
      "metadata": {
        "id": "Gw4U-ZD2fFeO"
      }
    },
    {
      "cell_type": "code",
      "source": [
        "# https://100.pyalgo.co.kr/?page=17#\n",
        "dates = {'월': ['2024-01-01', '2024-01-08', '2024-01-15', '2024-01-22'],\n",
        " '화': ['2024-01-02', '2024-01-09', '2024-01-16'],\n",
        " '수': ['2024-01-03', '2024-01-10'],\n",
        " '목': ['2024-01-04', '2024-01-11', '2024-01-18'],\n",
        " '금': ['2024-01-05', '2024-01-12', '2024-01-19', '2024-01-26']}\n",
        "\n",
        "# dates.items()\n",
        "\n",
        "\n",
        "# ------튜플 언패킹 방법-------\n",
        "# dates.items() #튜플\n",
        "# [('월', ['2024-01-01', '2024-01-08', '2024-01-15', '2024-01-22']),\n",
        "#  ('화', ['2024-01-02', '2024-01-09', '2024-01-16']),\n",
        "#  ('수', ['2024-01-03', '2024-01-10']),\n",
        "#  ('목', ['2024-01-04', '2024-01-11', '2024-01-18']),\n",
        "#  ('금', ['2024-01-05', '2024-01-12', '2024-01-19', '2024-01-26'])]\n",
        "\n",
        "# day, dates in dates.items()\n",
        "# day, dates == dates.items()  #Possible  #변수의 개수와 튜플의 개수가 불일치\n",
        "# a, b, c, d, e = dates.items()   #Impossible  #변수의 개수와 튜플의 개수가 일치\n",
        "\n",
        "# for day, dates in dates.items():  #복수 튜플일 경우\n",
        "#         print(day)\n",
        "# -----------------------------\n",
        "\n",
        "# ---------리스트 언패킹 방법----------\n",
        "# lst = [['a','b','c'],['d','e','f'],['h','i','j']]\n",
        "# A, B, C = lst\n",
        "# A    #Possible  #변수의 개수와 리스트 요소의 개수가 불일치\n",
        "\n",
        "# lst = [('a','b','c'), ('d','e','f'), ('h','i','j')]\n",
        "# A, B = lst    #Impossible  #변수의 개수와 리스트 요소의 개수가 일치\n",
        "\n",
        "# lst = [('a','b','c'), ('d','e','f'), ('h','i','j')]\n",
        "# A, B, C = lst\n",
        "# A\n",
        "\n",
        "#-------------------------------------\n",
        "\n",
        "\n",
        "# my_tuple = [(1, \"apple\", 3.14), (2, \"banana\", 8.24), (3, \"peach\", 10,2), (4, 'melon', 12.2)]\n",
        "# number, fruit, value = my_tuple\n",
        "\n",
        "\n",
        "# dates.items()\n",
        "\n",
        "\n",
        "# date = '20-01-2024'\n",
        "# day, month, year = date.split('-')\n",
        "# day\n",
        "\n",
        "\n",
        "\n",
        "# def solution(data):\n",
        "#     all_schedules = []\n",
        "\n",
        "#     for day, dates in data.items():  #반복문 items 언패킹 #dict\n",
        "#         for date in dates:  #이중 반복문\n",
        "#             converted_date = f'{date[2:]} {day}'\n",
        "#             all_schedules.append(converted_date)\n",
        "#     all_schedules.sort(reverse = True) #sort 함수: 원본 변경\n",
        "#     return all_schedules[:3]\n",
        "\n",
        "# solution(dates)\n",
        "\n",
        "\n",
        "\n"
      ],
      "metadata": {
        "colab": {
          "base_uri": "https://localhost:8080/"
        },
        "id": "jnKn8zv53y3p",
        "outputId": "f4e66f7f-3193-4fd9-8b3e-6278234d568d"
      },
      "execution_count": 28,
      "outputs": [
        {
          "output_type": "execute_result",
          "data": {
            "text/plain": [
              "('월', ['2024-01-01', '2024-01-08', '2024-01-15', '2024-01-22'])"
            ]
          },
          "metadata": {},
          "execution_count": 28
        }
      ]
    },
    {
      "cell_type": "markdown",
      "source": [
        "###18번"
      ],
      "metadata": {
        "id": "zdRAvO_qfHv-"
      }
    },
    {
      "cell_type": "code",
      "source": [
        "# https://100.pyalgo.co.kr/?page=18#\n",
        "# ['24-01-06: 21', '24-01-04: 20', '24-01-05: 19']\n",
        "\n",
        "temper_data = {'2024-01-01': 15, '2024-01-02': 17, '2024-01-03': 16, '2024-01-04': 20, '2024-01-05': 19, '2024-01-06': 21, '2024-01-07': 18}\n",
        "\n",
        "# l = [i for i in temper_data.items()]\n",
        "# sorted_data = sorted(l, key = lambda x: x[1], reverse = True)\n",
        "# top_3 = sorted_data[:3]\n",
        "\n",
        "# [f'{i[0]}: {i[1]}' for i in top_3]\n",
        "\n",
        "def solution(data):\n",
        "    l = [i for i in data.items()]\n",
        "    sorted_data = sorted(l, key = lambda x: x[1], reverse = True)\n",
        "    top_3 = sorted_data[:3]\n",
        "\n",
        "    return [f'{i[0]}: {i[1]}' for i in top_3]\n",
        "\n",
        "solution(temper_data)\n",
        "\n",
        "\n",
        "\n",
        "\n"
      ],
      "metadata": {
        "colab": {
          "base_uri": "https://localhost:8080/"
        },
        "id": "1V0380C5HyXJ",
        "outputId": "9dba7494-c311-46a9-f967-cb81bdf84bfb"
      },
      "execution_count": 42,
      "outputs": [
        {
          "output_type": "execute_result",
          "data": {
            "text/plain": [
              "['2024-01-06: 21', '2024-01-04: 20', '2024-01-05: 19']"
            ]
          },
          "metadata": {},
          "execution_count": 42
        }
      ]
    }
  ]
}