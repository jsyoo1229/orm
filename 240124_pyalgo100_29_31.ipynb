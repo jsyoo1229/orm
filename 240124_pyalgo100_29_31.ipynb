{
  "nbformat": 4,
  "nbformat_minor": 0,
  "metadata": {
    "colab": {
      "provenance": [],
      "authorship_tag": "ABX9TyMLN5utocP9pwFxrJI+Pllf",
      "include_colab_link": true
    },
    "kernelspec": {
      "name": "python3",
      "display_name": "Python 3"
    },
    "language_info": {
      "name": "python"
    }
  },
  "cells": [
    {
      "cell_type": "markdown",
      "metadata": {
        "id": "view-in-github",
        "colab_type": "text"
      },
      "source": [
        "<a href=\"https://colab.research.google.com/github/jsyoo1229/orm/blob/main/240124_pyalgo100_29_31.ipynb\" target=\"_parent\"><img src=\"https://colab.research.google.com/assets/colab-badge.svg\" alt=\"Open In Colab\"/></a>"
      ]
    },
    {
      "cell_type": "markdown",
      "source": [
        "###29"
      ],
      "metadata": {
        "id": "6Ad49bqgfVw3"
      }
    },
    {
      "cell_type": "code",
      "execution_count": null,
      "metadata": {
        "id": "qUQs51sccoYN"
      },
      "outputs": [],
      "source": [
        "l = [4, 1, 2, 1, 2]\t#4\n",
        "l2 = [2, 2, 1]\t#1\n",
        "\n",
        "def solution(lst):\n",
        "    for i in lst:\n",
        "        if lst.count(str(i)) == 1:\n",
        "            return i\n",
        "\n",
        "solution(l)\n"
      ]
    },
    {
      "cell_type": "code",
      "source": [
        "l = [4, 1, 2, 1, 2]\t#4\n",
        "l2 = [2, 2, 1]\t#1\n",
        "\n",
        "def find_unique_number_xor(nums):\n",
        "    # 모든 숫자에 대해 XOR 연산 수행\n",
        "    unique = 0\n",
        "    for num in nums:\n",
        "        unique ^= num\n",
        "    return unique\n",
        "\n",
        "find_unique_number_xor(l2)"
      ],
      "metadata": {
        "colab": {
          "base_uri": "https://localhost:8080/"
        },
        "id": "kuiJ34YUy3BQ",
        "outputId": "ef10f806-dadc-4823-99c2-0631dd295712"
      },
      "execution_count": null,
      "outputs": [
        {
          "output_type": "execute_result",
          "data": {
            "text/plain": [
              "0"
            ]
          },
          "metadata": {},
          "execution_count": 16
        }
      ]
    },
    {
      "cell_type": "code",
      "source": [
        "l = [4, 1, 2, 1, 2]\t#4\n",
        "l2 = [2, 2, 1]\t#1\n",
        "\n",
        "def solution(data):\n",
        "    unique = 0\n",
        "\n",
        "    for i in data:\n",
        "        unique ^= i\n",
        "        return unique\n",
        "\n",
        "\n",
        "solution(l)"
      ],
      "metadata": {
        "colab": {
          "base_uri": "https://localhost:8080/"
        },
        "id": "mWdAagel2RZU",
        "outputId": "bb4dc431-429f-4dbb-8fa7-65caa6a63a50"
      },
      "execution_count": null,
      "outputs": [
        {
          "output_type": "execute_result",
          "data": {
            "text/plain": [
              "4"
            ]
          },
          "metadata": {},
          "execution_count": 19
        }
      ]
    },
    {
      "cell_type": "markdown",
      "source": [
        "###30"
      ],
      "metadata": {
        "id": "AN_NNC9spRq5"
      }
    },
    {
      "cell_type": "code",
      "source": [
        "def solution(data):\n",
        "    b = bin(data)[2:]  #bin(): 정수의 이진 표현  #[2:]: Ob제거\n",
        "    r_b = b.replace('1', 'A').replace('0', 'B')\n",
        "\n",
        "    return r_b\n",
        "\n",
        "solution(5)\n",
        "\n",
        "# bin(5)  #0b101"
      ],
      "metadata": {
        "colab": {
          "base_uri": "https://localhost:8080/",
          "height": 35
        },
        "id": "SOvmF7sVpT4c",
        "outputId": "a112d7cd-53e3-40b1-dfc5-7d436759312a"
      },
      "execution_count": null,
      "outputs": [
        {
          "output_type": "execute_result",
          "data": {
            "text/plain": [
              "'ABA'"
            ],
            "application/vnd.google.colaboratory.intrinsic+json": {
              "type": "string"
            }
          },
          "metadata": {},
          "execution_count": 4
        }
      ]
    },
    {
      "cell_type": "markdown",
      "source": [
        "###31"
      ],
      "metadata": {
        "id": "CgVb2Dt2z35x"
      }
    },
    {
      "cell_type": "code",
      "source": [
        "def invert_bits(N):\n",
        "    # 정수의 이진 표현을 구하고 '0b' 접두사를 제거\n",
        "    binary_representation = bin(N)[2:]\n",
        "\n",
        "    # 각 비트를 반전\n",
        "    inverted = ''.join('1' if bit == '0' else '0' for bit in binary_representation)\n",
        "\n",
        "    # 반전된 이진 표현을 다시 정수로 변환\n",
        "    return int('0b' + inverted, 2)\n",
        "\n",
        "# 테스트\n",
        "N = 10  # 예를 들어, 10의 이진 표현은 '1010', 반전하면 '0101'이 됨\n",
        "print(invert_bits(N))  # 5\n"
      ],
      "metadata": {
        "id": "tr8OgoBTz29q"
      },
      "execution_count": null,
      "outputs": []
    },
    {
      "cell_type": "code",
      "source": [
        "def solution(data):\n",
        "    b = bin(data)[2:]\n",
        "\n",
        "    inverted = ''\n",
        "\n",
        "    for i in b:\n",
        "        if i == '0':\n",
        "            inverted += '1'\n",
        "        else:\n",
        "            inverted += '0'\n",
        "\n",
        "    return int('0b' + inverted, 2)"
      ],
      "metadata": {
        "id": "SlM1gp6FCRBM"
      },
      "execution_count": null,
      "outputs": []
    },
    {
      "cell_type": "code",
      "source": [
        "def invert_bits(N):\n",
        "    # 정수의 이진 표현을 구하고 '0b' 접두사를 제거\n",
        "    binary_representation = bin(N)[2:]\n",
        "\n",
        "    # 각 비트를 반전시키기 위한 빈 문자열 초기화\n",
        "    inverted = ''\n",
        "\n",
        "    # 각 비트를 순회하면서 반전시키고 결과 문자열에 추가\n",
        "    for bit in binary_representation:\n",
        "        if bit == '0':\n",
        "            inverted += '1'\n",
        "        else:\n",
        "            inverted += '0'\n",
        "\n",
        "    # 반전된 이진 표현을 다시 정수로 변환\n",
        "    return int('0b' + inverted, 2)\n"
      ],
      "metadata": {
        "id": "LZlv1Q5y91Wi"
      },
      "execution_count": null,
      "outputs": []
    },
    {
      "cell_type": "code",
      "source": [
        "\n",
        "# a = ''.join('1' if bit == '0' else '0' for bit in binary_representation)\n",
        "# print(a)\n",
        "\n",
        "['1' if bit == '0' else '0' for bit in binary_representation]\n",
        "\n",
        "N = 5\n",
        "\n",
        "def invert_bits(N):\n",
        "    binary_representation = bin(N)[2:]\n",
        "    for bit in binary_representation:\n",
        "        if bit == '0':\n",
        "            return '1'\n",
        "        else:\n",
        "            return '0'\n",
        "\n",
        "\n",
        "    return int('0b' + inverted, 2)\n"
      ],
      "metadata": {
        "colab": {
          "base_uri": "https://localhost:8080/"
        },
        "id": "L-VzANkpz7FB",
        "outputId": "8291ad63-082c-4326-95f0-ce5aab573e86"
      },
      "execution_count": null,
      "outputs": [
        {
          "output_type": "execute_result",
          "data": {
            "text/plain": [
              "['0', '1', '0']"
            ]
          },
          "metadata": {},
          "execution_count": 10
        }
      ]
    }
  ]
}