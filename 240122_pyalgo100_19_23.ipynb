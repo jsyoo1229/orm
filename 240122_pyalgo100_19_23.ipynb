{
  "nbformat": 4,
  "nbformat_minor": 0,
  "metadata": {
    "colab": {
      "provenance": [],
      "authorship_tag": "ABX9TyPtFBBIUhQJaMSBXq8/AuKr",
      "include_colab_link": true
    },
    "kernelspec": {
      "name": "python3",
      "display_name": "Python 3"
    },
    "language_info": {
      "name": "python"
    }
  },
  "cells": [
    {
      "cell_type": "markdown",
      "metadata": {
        "id": "view-in-github",
        "colab_type": "text"
      },
      "source": [
        "<a href=\"https://colab.research.google.com/github/jsyoo1229/orm/blob/main/240122_pyalgo100_19_23.ipynb\" target=\"_parent\"><img src=\"https://colab.research.google.com/assets/colab-badge.svg\" alt=\"Open In Colab\"/></a>"
      ]
    },
    {
      "cell_type": "markdown",
      "source": [
        "###19"
      ],
      "metadata": {
        "id": "vQRjFx-ngEPq"
      }
    },
    {
      "cell_type": "code",
      "execution_count": 18,
      "metadata": {
        "colab": {
          "base_uri": "https://localhost:8080/"
        },
        "id": "gUSSARjjdKnm",
        "outputId": "c31758ed-d59a-4b56-fa82-5068a70c39df"
      },
      "outputs": [
        {
          "output_type": "execute_result",
          "data": {
            "text/plain": [
              "['int', 'float', 'str', 'list', 'tuple', 'dict']"
            ]
          },
          "metadata": {},
          "execution_count": 18
        }
      ],
      "source": [
        "# https://100.pyalgo.co.kr/?page=19#\n",
        "data = [123, 4.56, 'hello', [1, 2, 3], (4, 5), {'a': 1, 'b': 2}]\n",
        "\n",
        "['int', 'float', 'str', 'list', 'tuple', 'dict']\n",
        "\n",
        "def solution(data):\n",
        "    return [type(i).__name__ for i in data]\n",
        "\n",
        "solution(data)\n",
        "# a = 123\n",
        "# type(a) #int\n",
        "# str(type(a))  #<class 'int'>\n",
        "# type(a).__name__  #int #__name__ 매직 메서드"
      ]
    },
    {
      "cell_type": "markdown",
      "source": [
        "###20"
      ],
      "metadata": {
        "id": "lSmNukxbgGIJ"
      }
    },
    {
      "cell_type": "code",
      "source": [
        "# https://100.pyalgo.co.kr/?page=20#\n",
        "lst = [('list', [1, 2, 3]), ('int', 4), ('str', 'hello')]\t #True\n",
        "lst2 = [('str', 100), ('dict', {'a': 1}), ('tuple', (1, 2, 3))]\t#False\n",
        "\n",
        "def solution(data):\n",
        "    for a, b in data:\n",
        "        if type(b).__name__ == a:\n",
        "            return True\n",
        "        else:\n",
        "            return False\n",
        "\n",
        "solution(lst2)"
      ],
      "metadata": {
        "colab": {
          "base_uri": "https://localhost:8080/"
        },
        "id": "PoAk-nCNfgxb",
        "outputId": "8c7e0ba1-b45e-4cab-de1b-7b3563aa308f"
      },
      "execution_count": 21,
      "outputs": [
        {
          "output_type": "execute_result",
          "data": {
            "text/plain": [
              "False"
            ]
          },
          "metadata": {},
          "execution_count": 21
        }
      ]
    },
    {
      "cell_type": "code",
      "source": [
        "def solution(data):\n",
        "    return all([type(b).__name__ == a for a, b in data])   #all(iterable): 하나로도 False면 False\n",
        "\n",
        "solution(lst2)"
      ],
      "metadata": {
        "colab": {
          "base_uri": "https://localhost:8080/"
        },
        "id": "a9NprA4WkEwR",
        "outputId": "43d847e9-8e46-4b2c-aedd-4a2a0e8e1784"
      },
      "execution_count": 29,
      "outputs": [
        {
          "output_type": "execute_result",
          "data": {
            "text/plain": [
              "False"
            ]
          },
          "metadata": {},
          "execution_count": 29
        }
      ]
    },
    {
      "cell_type": "code",
      "source": [
        "all([True, True])"
      ],
      "metadata": {
        "colab": {
          "base_uri": "https://localhost:8080/"
        },
        "id": "JU-CisfVjobe",
        "outputId": "75aa73a2-a2a6-448e-c7af-823642d49e5c"
      },
      "execution_count": 25,
      "outputs": [
        {
          "output_type": "execute_result",
          "data": {
            "text/plain": [
              "True"
            ]
          },
          "metadata": {},
          "execution_count": 25
        }
      ]
    },
    {
      "cell_type": "code",
      "source": [
        "all([True, False])"
      ],
      "metadata": {
        "colab": {
          "base_uri": "https://localhost:8080/"
        },
        "id": "D0-mK0-Rj2Qj",
        "outputId": "9997ed25-13ea-4119-d498-a61d8238dd4d"
      },
      "execution_count": 26,
      "outputs": [
        {
          "output_type": "execute_result",
          "data": {
            "text/plain": [
              "False"
            ]
          },
          "metadata": {},
          "execution_count": 26
        }
      ]
    },
    {
      "cell_type": "markdown",
      "source": [
        "###21"
      ],
      "metadata": {
        "id": "NbMfrnRllfES"
      }
    },
    {
      "cell_type": "code",
      "source": [
        "# https://100.pyalgo.co.kr/?page=21#\n",
        "t = ([1, 3, 5, 7, 9], 5)\t#2\n",
        "t2 = ([2, 4, 6, 8, 10], 7)\t#False\n",
        "\n",
        "\n",
        "\n",
        "# def solution(data):\n",
        "#     return all([b in a for a, b in data])\n",
        "\n",
        "def solution(data):\n",
        "        a, b = data\n",
        "        if b in a:\n",
        "            return b\n",
        "        else:\n",
        "            return False\n",
        "\n",
        "solution(t2)"
      ],
      "metadata": {
        "colab": {
          "base_uri": "https://localhost:8080/"
        },
        "id": "gYrvdUgblhMJ",
        "outputId": "2153bd37-4174-4f60-cdec-5a37f2fd43c6"
      },
      "execution_count": 33,
      "outputs": [
        {
          "output_type": "execute_result",
          "data": {
            "text/plain": [
              "False"
            ]
          },
          "metadata": {},
          "execution_count": 33
        }
      ]
    },
    {
      "cell_type": "markdown",
      "source": [
        "###22"
      ],
      "metadata": {
        "id": "vhxWTcGgn7sF"
      }
    },
    {
      "cell_type": "code",
      "source": [
        "# https://100.pyalgo.co.kr/?page=22#\n",
        "t = ('hello', 'e')\t#1\n",
        "t2 = ('world', 'a')\t#False\n",
        "# t[0]  #튜플에도 index가 있다.\n",
        "# t[1]\n",
        "# t.index('e')  #index 함수: 특정 요소의 index 번호\n",
        "\n",
        "\n",
        "# def solution(data):\n",
        "#     a, b = data\n",
        "#     if b == a[0]:\n",
        "#         return 0\n",
        "#     elif b == a[1]:\n",
        "#         return 1\n",
        "#     elif b == a[2]:\n",
        "#         return 2\n",
        "#     elif b == a[3]:\n",
        "#         return 3\n",
        "#     elif b == a[4]:\n",
        "#         return 4\n",
        "#     else:\n",
        "#         return False\n",
        "\n",
        "# def solution(data):\n",
        "#     index = range(len(data))\n",
        "#     a, b = data\n",
        "#     if b == a[index]:\n",
        "#         return index\n",
        "#     else:\n",
        "#         return False\n",
        "\n",
        "def solution(data):\n",
        "    try:\n",
        "        if data[0].index(data[1]):\n",
        "            return data[0].index(data[1])\n",
        "    except:                                     #ValueError:index 메소드에서,\n",
        "            return False                        #찾고자 하는 문자가 문자열 내에\n",
        "                                                #존재하지 않을 때 발생하는 오류\n",
        "                                                #try except:\n",
        "\n",
        "\n",
        "\n",
        "\n",
        "solution(t)\n",
        "# data[len(data)-1]\n",
        "\n"
      ],
      "metadata": {
        "colab": {
          "base_uri": "https://localhost:8080/"
        },
        "id": "CX2vCBDbn95B",
        "outputId": "a09f4c82-b7c0-4830-8383-f98cf41f7c57"
      },
      "execution_count": 44,
      "outputs": [
        {
          "output_type": "execute_result",
          "data": {
            "text/plain": [
              "1"
            ]
          },
          "metadata": {},
          "execution_count": 44
        }
      ]
    },
    {
      "cell_type": "markdown",
      "source": [
        "###23"
      ],
      "metadata": {
        "id": "NihNg04Byrhn"
      }
    },
    {
      "cell_type": "code",
      "source": [
        "# https://100.pyalgo.co.kr/?page=23#\n",
        "t = ([[1, 3, 5], [7, 9, 11], [13, 15, 17]], 7)\t#True\n",
        "t2 = ([[2, 4, 6], [8, 10, 12], [14, 16, 18]], 13)\t#False\n",
        "\n",
        "# def solution(data):\n",
        "#     a, b = data\n",
        "#     c, d, e = a\n",
        "#     if b in c or d or e:\n",
        "#         return True\n",
        "#     else:\n",
        "#         return False\n",
        "\n",
        "def solution(data):\n",
        "       for i in data[0]:   #for문의 의미 파악\n",
        "         if data[1] in i:\n",
        "            return True\n",
        "       return False   #False return문의 위치\n",
        "\n",
        "\n",
        "solution(t)"
      ],
      "metadata": {
        "colab": {
          "base_uri": "https://localhost:8080/"
        },
        "id": "CRB6j7W6vSxQ",
        "outputId": "89157ec3-ed45-418d-b658-6c8c8058bfcf"
      },
      "execution_count": 56,
      "outputs": [
        {
          "output_type": "execute_result",
          "data": {
            "text/plain": [
              "True"
            ]
          },
          "metadata": {},
          "execution_count": 56
        }
      ]
    }
  ]
}