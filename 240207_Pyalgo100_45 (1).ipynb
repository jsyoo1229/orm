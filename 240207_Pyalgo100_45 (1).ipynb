{
  "nbformat": 4,
  "nbformat_minor": 0,
  "metadata": {
    "colab": {
      "provenance": [],
      "authorship_tag": "ABX9TyMuBWGDxPAc2C2Mq68MZrf/",
      "include_colab_link": true
    },
    "kernelspec": {
      "name": "python3",
      "display_name": "Python 3"
    },
    "language_info": {
      "name": "python"
    }
  },
  "cells": [
    {
      "cell_type": "markdown",
      "metadata": {
        "id": "view-in-github",
        "colab_type": "text"
      },
      "source": [
        "<a href=\"https://colab.research.google.com/github/jsyoo1229/orm/blob/main/240207_Pyalgo100_45.ipynb\" target=\"_parent\"><img src=\"https://colab.research.google.com/assets/colab-badge.svg\" alt=\"Open In Colab\"/></a>"
      ]
    },
    {
      "cell_type": "code",
      "execution_count": 5,
      "metadata": {
        "colab": {
          "base_uri": "https://localhost:8080/"
        },
        "id": "Hi2hLXmThhOC",
        "outputId": "a3adeb88-68d0-4118-d477-f1bb4b91b649"
      },
      "outputs": [
        {
          "output_type": "stream",
          "name": "stdout",
          "text": [
            "A\n",
            "deque(['B', 'C'])\n",
            "C\n"
          ]
        }
      ],
      "source": [
        "from collections import deque\n",
        "\n",
        "q = deque()\n",
        "q.append('A')\n",
        "q.append('B')\n",
        "q.append('C')\n",
        "\n",
        "f = q.popleft()\n",
        "print(f)\n",
        "print(q)\n",
        "\n",
        "s = q.pop()\n",
        "print(s)"
      ]
    },
    {
      "cell_type": "markdown",
      "source": [
        "###45번"
      ],
      "metadata": {
        "id": "peJMWeg6wy3n"
      }
    },
    {
      "cell_type": "code",
      "source": [
        "from collections import deque\n",
        "\n",
        "def equalize_queue_sums(queue1, queue2):\n",
        "    # 두 큐의 합을 계산합니다.\n",
        "    sum1, sum2 = sum(queue1), sum(queue2)\n",
        "    total_sum = sum1 + sum2\n",
        "\n",
        "    # 총 합이 홀수인 경우, 정확히 같은 합을 만들 수 없습니다.\n",
        "    if total_sum % 2 != 0:\n",
        "        return -1\n",
        "\n",
        "    target_sum = total_sum // 2\n",
        "    operations = 0\n",
        "    q1, q2 = deque(queue1), deque(queue2)\n",
        "\n",
        "    # 두 큐의 합이 동일해질 때까지 원소를 옮깁니다.\n",
        "    while sum1 != sum2:\n",
        "        # 최대한의 연산 횟수를 넘어서면 불가능한 것으로 간주합니다.\n",
        "        # 이는 두 큐의 길이의 합을 넘어서는 경우를 의미합니다.\n",
        "        if operations > len(queue1) + len(queue2):\n",
        "            return -1\n",
        "\n",
        "        # 첫 번째 큐의 합이 더 큰 경우, 첫 번째 큐에서 원소를 옮깁니다.\n",
        "        if sum1 > sum2:\n",
        "            moved = q1.popleft()\n",
        "            q2.append(moved)\n",
        "            sum1 -= moved\n",
        "            sum2 += moved\n",
        "        else:\n",
        "            moved = q2.popleft()\n",
        "            q1.append(moved)\n",
        "            sum1 += moved\n",
        "            sum2 -= moved\n",
        "\n",
        "        operations += 1\n",
        "\n",
        "    return operations\n",
        "\n",
        "# 예시 실행\n",
        "queue1 = [1, 2, 1, 2]\n",
        "queue2 = [1, 10, 1, 2]\n",
        "print(equalize_queue_sums(queue1, queue2))\n"
      ],
      "metadata": {
        "id": "UGTi1Nghw0vU"
      },
      "execution_count": null,
      "outputs": []
    }
  ]
}