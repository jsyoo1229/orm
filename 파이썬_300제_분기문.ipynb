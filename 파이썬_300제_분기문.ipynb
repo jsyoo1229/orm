{
  "nbformat": 4,
  "nbformat_minor": 0,
  "metadata": {
    "colab": {
      "provenance": [],
      "authorship_tag": "ABX9TyOd0Lj/3d9+CdMtY5rO6c6Z",
      "include_colab_link": true
    },
    "kernelspec": {
      "name": "python3",
      "display_name": "Python 3"
    },
    "language_info": {
      "name": "python"
    }
  },
  "cells": [
    {
      "cell_type": "markdown",
      "metadata": {
        "id": "view-in-github",
        "colab_type": "text"
      },
      "source": [
        "<a href=\"https://colab.research.google.com/github/jsyoo1229/orm/blob/main/%ED%8C%8C%EC%9D%B4%EC%8D%AC_300%EC%A0%9C_%EB%B6%84%EA%B8%B0%EB%AC%B8.ipynb\" target=\"_parent\"><img src=\"https://colab.research.google.com/assets/colab-badge.svg\" alt=\"Open In Colab\"/></a>"
      ]
    },
    {
      "cell_type": "code",
      "execution_count": null,
      "metadata": {
        "id": "R77G85mCJIZ9"
      },
      "outputs": [],
      "source": [
        "https://wikidocs.net/7028\n",
        "https://youtu.be/T4jyLhnGD4Y(101-110)\n",
        "https://youtu.be/E3NVJGMysls(111-120)\n",
        "https://youtu.be/__m8Q0N3bhQ(121-130)"
      ]
    },
    {
      "cell_type": "code",
      "source": [
        "'''\n",
        "101\n",
        "파이썬에서 True 혹은 False를 갖는 데이터 타입은 무엇인가?\n",
        "'''\n",
        "# Boolean"
      ],
      "metadata": {
        "id": "B551G86jJKdu"
      },
      "execution_count": null,
      "outputs": []
    },
    {
      "cell_type": "code",
      "source": [
        "'''\n",
        "102\n",
        "아래 코드의 출력 결과를 예상하라\n",
        "\n",
        "print(3 == 5)\n",
        "'''\n",
        "#False\n",
        "print(3 == 5)"
      ],
      "metadata": {
        "colab": {
          "base_uri": "https://localhost:8080/"
        },
        "id": "_ABtswggJSBR",
        "outputId": "f8caddf6-2b7e-4738-f3de-887c5def10cc"
      },
      "execution_count": null,
      "outputs": [
        {
          "output_type": "stream",
          "name": "stdout",
          "text": [
            "False\n"
          ]
        }
      ]
    },
    {
      "cell_type": "code",
      "source": [
        "'''\n",
        "103\n",
        "아래 코드의 출력 결과를 예상하라\n",
        "'''\n",
        "#True\n",
        "print(3 < 5)"
      ],
      "metadata": {
        "colab": {
          "base_uri": "https://localhost:8080/"
        },
        "id": "0fDflmrxJaxB",
        "outputId": "e7fa1fc8-afe1-4b63-ca87-a46456f44dff"
      },
      "execution_count": null,
      "outputs": [
        {
          "output_type": "stream",
          "name": "stdout",
          "text": [
            "True\n"
          ]
        }
      ]
    },
    {
      "cell_type": "code",
      "source": [
        "'''\n",
        "104\n",
        "아래 코드의 결과를 예상하라.\n",
        "'''\n",
        "x = 4\n",
        "print(1 < x < 5)\n",
        "#True"
      ],
      "metadata": {
        "colab": {
          "base_uri": "https://localhost:8080/"
        },
        "id": "OGRMArfkJjLS",
        "outputId": "84a83e41-6c56-4b49-feba-1727d5be4d3e"
      },
      "execution_count": null,
      "outputs": [
        {
          "output_type": "stream",
          "name": "stdout",
          "text": [
            "True\n"
          ]
        }
      ]
    },
    {
      "cell_type": "code",
      "source": [
        "'''105\n",
        "아래 코드의 결과를 예상하라.'''\n",
        "\n",
        "print ((3 == 3) and (4 != 3))\n",
        "#True"
      ],
      "metadata": {
        "colab": {
          "base_uri": "https://localhost:8080/"
        },
        "id": "n06mvBDKJpmB",
        "outputId": "a65db240-5c90-41bf-f157-3ad147342f69"
      },
      "execution_count": null,
      "outputs": [
        {
          "output_type": "stream",
          "name": "stdout",
          "text": [
            "True\n"
          ]
        }
      ]
    },
    {
      "cell_type": "code",
      "source": [
        "'''\n",
        "106\n",
        "아래 코드에서 에러가 발생하는 원인에 대해 설명하라.\n",
        "'''\n",
        "print(3 => 4)\n",
        "#부등호가 잘못 되었다.\n",
        "#지원하지 않는 연산자입니다."
      ],
      "metadata": {
        "id": "E2wHPTGyJvz3"
      },
      "execution_count": null,
      "outputs": []
    },
    {
      "cell_type": "code",
      "source": [
        "'''\n",
        "107\n",
        "아래 코드의 출력 결과를 예상하라\n",
        "'''\n",
        "if 4 < 3:\n",
        "    print(\"Hello World\")\n",
        "#False # 나의 오답\n",
        "#조건을 만족하지 않기 때문에 아무 결과도 출력되지 않습니다."
      ],
      "metadata": {
        "id": "iJWSSzapJv3-"
      },
      "execution_count": null,
      "outputs": []
    },
    {
      "cell_type": "code",
      "source": [
        "'''\n",
        "108\n",
        "아래 코드의 출력 결과를 예상하라\n",
        "'''\n",
        "if 4 < 3:\n",
        "    print(\"Hello World.\")\n",
        "else:\n",
        "    print(\"Hi, there.\")\n",
        "\n",
        "#Hi, there."
      ],
      "metadata": {
        "colab": {
          "base_uri": "https://localhost:8080/"
        },
        "id": "kJ1h1it0Jv75",
        "outputId": "f449569c-3390-46bd-bbde-54fdb0caaa0c"
      },
      "execution_count": null,
      "outputs": [
        {
          "output_type": "stream",
          "name": "stdout",
          "text": [
            "Hi, there.\n"
          ]
        }
      ]
    },
    {
      "cell_type": "code",
      "source": [
        "'''\n",
        "109\n",
        "아래 코드의 출력 결과를 예상하라\n",
        "'''\n",
        "if True :\n",
        "    print (\"1\")\n",
        "    print (\"2\")\n",
        "else :\n",
        "    print(\"3\")\n",
        "print(\"4\")\n",
        "\n",
        "# 124 # 나의 오답\n",
        "# 1 # 줄바꿈\n",
        "# 2\n",
        "# 4"
      ],
      "metadata": {
        "colab": {
          "base_uri": "https://localhost:8080/"
        },
        "id": "7jvzlFn-KL8o",
        "outputId": "8fab4439-b977-4fde-a632-baca06003b67"
      },
      "execution_count": null,
      "outputs": [
        {
          "output_type": "stream",
          "name": "stdout",
          "text": [
            "1\n",
            "2\n",
            "4\n"
          ]
        }
      ]
    },
    {
      "cell_type": "code",
      "source": [
        "'''\n",
        "110\n",
        "아래 코드의 출력 결과를 예상하라\n",
        "'''\n",
        "if True :\n",
        "    if False:\n",
        "        print(\"1\")\n",
        "        print(\"2\")\n",
        "    else:\n",
        "        print(\"3\")\n",
        "else :\n",
        "    print(\"4\")\n",
        "print(\"5\")\n",
        "\n",
        "'''\n",
        "3\n",
        "4\n",
        "5       # 나의 오답\n",
        "'''\n"
      ],
      "metadata": {
        "colab": {
          "base_uri": "https://localhost:8080/"
        },
        "id": "FFEAboNDKMAV",
        "outputId": "b952e848-d022-4f22-a36c-33318ae1cbcf"
      },
      "execution_count": null,
      "outputs": [
        {
          "output_type": "stream",
          "name": "stdout",
          "text": [
            "3\n",
            "5\n"
          ]
        }
      ]
    },
    {
      "cell_type": "code",
      "source": [
        "'''\n",
        "111\n",
        "사용자로부터 입력받은 문자열을 두 번 출력하라. 아래는 사용자가 \"안녕하세요\"를 입력한 경우의 출력 결과이다.\n",
        "\n",
        ">> 안녕하세요\n",
        "안녕하세요안녕하세요\n",
        "'''\n",
        "greeting = input('입력: ')\n",
        "print(greeting * 2)"
      ],
      "metadata": {
        "colab": {
          "base_uri": "https://localhost:8080/"
        },
        "id": "g27-elG4Z45s",
        "outputId": "7032be5a-bb12-49c1-9e92-c69bc15bab76"
      },
      "execution_count": null,
      "outputs": [
        {
          "output_type": "stream",
          "name": "stdout",
          "text": [
            "입력: 안녕\n",
            "안녕안녕\n"
          ]
        }
      ]
    },
    {
      "cell_type": "code",
      "source": [
        "'''\n",
        "112\n",
        "사용자로부터 하나의 숫자를 입력받고, 입력 받은 숫자에 10을 더해 출력하라.\n",
        "\n",
        ">> 숫자를 입력하세요: 30\n",
        "40\n",
        "'''\n",
        "num = int(input('숫자를 입력하세요: '))\n",
        "print(num + 10)"
      ],
      "metadata": {
        "colab": {
          "base_uri": "https://localhost:8080/"
        },
        "id": "x5H-DtAfaZp9",
        "outputId": "effdf8cc-a4fb-45e4-8e67-cea61ba7eb25"
      },
      "execution_count": null,
      "outputs": [
        {
          "output_type": "stream",
          "name": "stdout",
          "text": [
            "숫자를 입력하세요: 10\n",
            "20\n"
          ]
        }
      ]
    },
    {
      "cell_type": "code",
      "source": [
        "'''\n",
        "113\n",
        "사용자로부터 하나의 숫자를 입력 받고 짝수/홀수를 판별하라.\n",
        "\n",
        ">> 30\n",
        "짝수\n",
        "'''\n",
        "num = int(input('숫자 입력: '))\n",
        "\n",
        "if num % 2 ==0:\n",
        "    print('짝수')\n",
        "else:\n",
        "    print('홀수')"
      ],
      "metadata": {
        "colab": {
          "base_uri": "https://localhost:8080/"
        },
        "id": "vbMKm7CLasU0",
        "outputId": "ec473116-03b8-41e1-eaf6-5f9925dad320"
      },
      "execution_count": null,
      "outputs": [
        {
          "output_type": "stream",
          "name": "stdout",
          "text": [
            "숫자 입력: 3\n",
            "홀수\n"
          ]
        }
      ]
    },
    {
      "cell_type": "code",
      "source": [
        "'''\n",
        "114\n",
        "사용자로부터 값을 입력받은 후 해당 값에 20을 더한 값을 출력하라. 단 사용자가 입력한 값과 20을 더한 계산 값이 255를 초과하는 경우 255를 출력해야 한다.\n",
        "\n",
        ">> 입력값: 200\n",
        "출력값: 220\n",
        ">> 입력값: 240\n",
        "출력값: 255\n",
        "'''\n",
        "num = int(input('입력값: ')) + 20\n",
        "if(num <= 255):\n",
        "    print(f'출력값: {num}')\n",
        "else:\n",
        "    print(255)"
      ],
      "metadata": {
        "colab": {
          "base_uri": "https://localhost:8080/"
        },
        "id": "tl2-kJ_DbHaA",
        "outputId": "e94a682b-5777-476c-b7aa-e7e7da4ec0aa"
      },
      "execution_count": null,
      "outputs": [
        {
          "output_type": "stream",
          "name": "stdout",
          "text": [
            "입력값: 234\n",
            "출력값: 254\n"
          ]
        }
      ]
    },
    {
      "cell_type": "code",
      "source": [
        "'''\n",
        "115\n",
        "사용자로부터 하나의 값을 입력받은 후 해당 값에 20을 뺀 값을 출력하라. 단 출력 값의 범위는 0~255이다. 예를 들어 결괏값이 0보다 작은 값이되는 경우 0을 출력하고 255보다 큰 값이 되는 경우 255를 출력해야 한다.\n",
        "\n",
        ">> 입력값: 200\n",
        "출력값: 180\n",
        ">> 입력값: 15\n",
        "출력값: 0\n",
        "'''\n",
        "num = int(input('입력값: ')) - 20\n",
        "if num < 0:\n",
        "    print('출력값: ', 0)\n",
        "elif num > 255:\n",
        "    print('출력값: ', 255)\n",
        "else:\n",
        "    print(num)"
      ],
      "metadata": {
        "colab": {
          "base_uri": "https://localhost:8080/"
        },
        "id": "x1ytjDBncOSM",
        "outputId": "f8b1f3dc-c6dd-4ec2-9aaa-0caadbe67213"
      },
      "execution_count": null,
      "outputs": [
        {
          "output_type": "stream",
          "name": "stdout",
          "text": [
            "입력값: 200\n",
            "180\n"
          ]
        }
      ]
    },
    {
      "cell_type": "code",
      "source": [
        "'''\n",
        "116\n",
        "사용자로부터 입력 받은 시간이 정각인지 판별하라.\n",
        "\n",
        ">> 현재시간:02:00\n",
        "정각 입니다.\n",
        ">> 현재시간:03:10\n",
        "정각이 아닙니다\n",
        "'''\n",
        "user = input('현재시간: ')\n",
        "if user[3:] == '00':      # user[-2:]\n",
        "    print('정각입니다.')\n",
        "else:\n",
        "    print('정각이 아닙니다.')"
      ],
      "metadata": {
        "colab": {
          "base_uri": "https://localhost:8080/"
        },
        "id": "RY0Ogkg3dB_e",
        "outputId": "34e0c6f9-d2b7-49f2-e43d-83f1b00fa9f4"
      },
      "execution_count": null,
      "outputs": [
        {
          "output_type": "stream",
          "name": "stdout",
          "text": [
            "현재시간: 12:01\n",
            "정각이 아닙니다.\n"
          ]
        }
      ]
    },
    {
      "cell_type": "code",
      "source": [
        "'''\n",
        "117\n",
        "사용자로 입력받은 단어가 아래 fruit 리스트에 포함되어 있는지를 확인하라. 포함되었다면 \"정답입니다\"를 아닐 경우 \"오답입니다\" 출력하라.\n",
        "\n",
        "fruit = [\"사과\", \"포도\", \"홍시\"]\n",
        ">> 좋아하는 과일은? 사과\n",
        "정답입니다.\n",
        "'''\n",
        "fruit = [\"사과\", \"포도\", \"홍시\"]\n",
        "user_fruit = input('좋아하는 과일은?: ')\n",
        "\n",
        "if user_fruit in fruit:\n",
        "    print('정답입니다')\n",
        "else:\n",
        "    print('오답입니다')"
      ],
      "metadata": {
        "colab": {
          "base_uri": "https://localhost:8080/"
        },
        "id": "18AygLPNd6zV",
        "outputId": "7909b8ab-89b0-409a-b433-c45c31b26004"
      },
      "execution_count": null,
      "outputs": [
        {
          "output_type": "stream",
          "name": "stdout",
          "text": [
            "좋아하는 과일은?: 귤\n",
            "오답입니다\n"
          ]
        }
      ]
    },
    {
      "cell_type": "code",
      "source": [
        "'''\n",
        "118\n",
        "투자 경고 종목 리스트가 있을 때 사용자로부터 종목명을 입력 받은 후 해당 종목이 투자 경고 종목이라면 '투자 경고 종목입니다'를 아니면 \"투자 경고 종목이 아닙니다.\"를 출력하는 프로그램을 작성하라.\n",
        "'''\n",
        "warn_investment_list = [\"Microsoft\", \"Google\", \"Naver\", \"Kakao\", \"SAMSUNG\", \"LG\"]\n",
        "\n",
        "user = input('종목명: ')\n",
        "if user in warn_investment_list:\n",
        "    print('투자 경고 종목입니다.')\n",
        "else:\n",
        "    print('투자 경고 종목이 아닙니다.')"
      ],
      "metadata": {
        "colab": {
          "base_uri": "https://localhost:8080/"
        },
        "id": "kSNiUrlHegeo",
        "outputId": "6ccce098-1f41-4279-9028-c56d6f882fa4"
      },
      "execution_count": null,
      "outputs": [
        {
          "output_type": "stream",
          "name": "stdout",
          "text": [
            "종목명: ㅂㅈㄱ2\n",
            "투자 경고 종목이 아닙니다.\n"
          ]
        }
      ]
    },
    {
      "cell_type": "code",
      "source": [
        "'''\n",
        "119\n",
        "아래와 같이 fruit 딕셔너리가 정의되어 있다. 사용자가 입력한 값이 딕셔너리 키 (key) 값에 포함되었다면 \"정답입니다\"를 아닐 경우 \"오답입니다\" 출력하라.\n",
        "\n",
        ">> 제가좋아하는계절은: 봄\n",
        "정답입니다.\n",
        "'''\n",
        "fruit = {\"봄\" : \"딸기\", \"여름\" : \"토마토\", \"가을\" : \"사과\"}\n",
        "# fruit.keys()\n",
        "season = input('제가 좋아하는 계절은: ')\n",
        "if season in fruit.keys():\n",
        "    print('정답입니다.')\n",
        "else:\n",
        "    print('오답입니다.')"
      ],
      "metadata": {
        "colab": {
          "base_uri": "https://localhost:8080/"
        },
        "id": "dnlmHu96e-zA",
        "outputId": "e83bc466-f50c-4d66-dda2-5fd310943f25"
      },
      "execution_count": null,
      "outputs": [
        {
          "output_type": "execute_result",
          "data": {
            "text/plain": [
              "dict_keys(['봄', '여름', '가을'])"
            ]
          },
          "metadata": {},
          "execution_count": 49
        }
      ]
    },
    {
      "cell_type": "code",
      "source": [
        "'''\n",
        "120\n",
        "아래와 같이 fruit 딕셔너리가 정의되어 있다. 사용자가 입력한 값이 딕셔너리 값 (value)에 포함되었다면 \"정답입니다\"를 아닐 경우 \"오답입니다\" 출력하라.\n",
        "\n",
        ">> 좋아하는과일은? 한라봉\n",
        "오답입니다.\n",
        "'''\n",
        "fruit = {\"봄\" : \"딸기\", \"여름\" : \"토마토\", \"가을\" : \"사과\"}\n",
        "# fruit.values()\n",
        "# fruit.items()\n",
        "\n",
        "user_fruit = input('좋아하는 과일은: ')\n",
        "if user_fruit in fruit.values():\n",
        "    print('정답입니다')\n",
        "else:\n",
        "    print('오답입니다')"
      ],
      "metadata": {
        "colab": {
          "base_uri": "https://localhost:8080/"
        },
        "id": "IVYTlT_agRfd",
        "outputId": "b03804ed-cb6b-43ec-d5b5-ed7f9da6d1e0"
      },
      "execution_count": null,
      "outputs": [
        {
          "output_type": "execute_result",
          "data": {
            "text/plain": [
              "dict_items([('봄', '딸기'), ('여름', '토마토'), ('가을', '사과')])"
            ]
          },
          "metadata": {},
          "execution_count": 50
        }
      ]
    },
    {
      "cell_type": "code",
      "source": [
        "'''\n",
        "121\n",
        "사용자로부터 문자 한 개를 입력 받고, 소문자일 경우 대문자로, 대문자 일 경우, 소문자로 변경해서 출력하라.\n",
        "\n",
        ">> a\n",
        "A\n",
        "힌트-1 : islower() 함수는 문자의 소문자 여부를 판별합니다. 만약 소문자일 경우 True, 대문자일 경우 False를 반환합니다. 힌트-2 : upper() 함수는 대문자로, lower() 함수는 소문자로 변경합니다.\n",
        "'''\n",
        "# user = input('입력: ')\n",
        "# if user.islower():\n",
        "#     print(user.upper())\n",
        "# elif user!= islower():\n",
        "#     print(user.lower())    #나의 오답\n",
        "\n",
        "user = input(\"\")\n",
        "if user.islower(): #islower(): 처음 앎\n",
        "    print(user.upper())\n",
        "else:\n",
        "    print(user.lower())\n"
      ],
      "metadata": {
        "colab": {
          "base_uri": "https://localhost:8080/"
        },
        "id": "qJ-W9cGShWKW",
        "outputId": "59990489-9172-42c1-a12e-aec915c34194"
      },
      "execution_count": null,
      "outputs": [
        {
          "output_type": "stream",
          "name": "stdout",
          "text": [
            "입력: s\n",
            "S\n"
          ]
        }
      ]
    },
    {
      "cell_type": "code",
      "source": [
        "'''\n",
        "122\n",
        "점수 구간에 해당하는 학점이 아래와 같이 정의되어 있다. 사용자로부터 score를 입력받아 학점을 출력하라.\n",
        "\n",
        "점수\t학점\n",
        "81~100\tA\n",
        "61~80\tB\n",
        "41~60\tC\n",
        "21~40\tD\n",
        "0~20\tE\n",
        ">> score: 83\n",
        "grade is A\n",
        "'''\n",
        "\n",
        "grade = int(input('score: '))\n",
        "if grade >= 81 and grade <= 100:\n",
        "    print('grade is A')\n",
        "elif grade >= 61 and grade <= 80:\n",
        "    print('grade is B')\n",
        "elif grade >= 41 and grade <= 60:\n",
        "    print('grade is C')\n",
        "elif grade >= 21 and grade <= 40:\n",
        "    print('grade is D')\n",
        "else:\n",
        "    print('grade is E')\n",
        "\n"
      ],
      "metadata": {
        "colab": {
          "base_uri": "https://localhost:8080/"
        },
        "id": "xfLplP8oiaXs",
        "outputId": "621a73fe-4c5b-46e0-eca5-f24c413325f0"
      },
      "execution_count": null,
      "outputs": [
        {
          "output_type": "stream",
          "name": "stdout",
          "text": [
            "score: 0\n",
            "grade is E\n"
          ]
        }
      ]
    },
    {
      "cell_type": "code",
      "source": [
        "'''123\n",
        "사용자로부터 달러, 엔, 유로, 또는 위안 금액을 입력받은 후 이를 원으로 변환하는 프로그램을 작성하라. 각 통화별 환율은 다음과 같다. 사용자는 100 달러, 1000 엔, 13 유로, 100 위안과 같이 금액과 통화명 사이에 공백을 넣어 입력한다고 가정한다.\n",
        "\n",
        "통화명\t환율\n",
        "달러\t1167\n",
        "엔\t1.096\n",
        "유로\t1268\n",
        "위안\t171\n",
        ">> 입력: 100 달러\n",
        "116700.00 원\n",
        "'''\n",
        "# user = input('입력: ')\n",
        "# money = int(user)\n",
        "\n",
        "# if money[-2:] == '달러':\n",
        "#     print()# 나의 오답\n",
        "\n",
        "환율 = {'달러': 1167,\n",
        "        '엔': 1.096,\n",
        "        '유로': 1268,\n",
        "        '위안': 171}\n",
        "\n",
        "user = input('입력: ')\n",
        "num, currency = user.split() #공백을 기준으로, 나눔 #언팩킹\n",
        "print(float(num) * 환율[currency], '원') #딕셔너리 키 활용\n",
        "#float과 int의 곱"
      ],
      "metadata": {
        "id": "flqiVBYWjtVU"
      },
      "execution_count": null,
      "outputs": []
    },
    {
      "cell_type": "code",
      "source": [
        "'''\n",
        "124\n",
        "사용자로부터 세 개의 숫자를 입력 받은 후 가장 큰 숫자를 출력하라.\n",
        "\n",
        ">> input number1: 10\n",
        ">> input number2: 9\n",
        ">> input number3: 20\n",
        "20\n",
        "'''\n",
        "num1 = int(input('input number1: '))\n",
        "num2 = int(input('input number2: '))\n",
        "num3 = int(input('input number3: '))\n",
        "2\n",
        "if num1 > num2 and num1 > num3:\n",
        "    print(num1)\n",
        "elif num2 > num1 and num2 > num3:\n",
        "    print(num2)\n",
        "else:\n",
        "    print(num3)"
      ],
      "metadata": {
        "colab": {
          "base_uri": "https://localhost:8080/"
        },
        "id": "zqhmftjImNlu",
        "outputId": "48a6d75d-bacf-4135-ee3b-89b6ea3e676f"
      },
      "execution_count": null,
      "outputs": [
        {
          "output_type": "stream",
          "name": "stdout",
          "text": [
            "input number1: 10\n",
            "input number2: 9\n",
            "input number3: 20\n",
            "20\n"
          ]
        }
      ]
    },
    {
      "cell_type": "code",
      "source": [
        "'''\n",
        "125\n",
        "휴대폰 번호 앞자리에 따라 통신사는 아래와 같이 구분된다. 사용자로부터 휴대전화 번호를 입력 받고, 통신사를 출력하는 프로그램을 작성하라.\n",
        "\n",
        "번호\t통신사\n",
        "011\tSKT\n",
        "016\tKT\n",
        "019\tLGU\n",
        "010\t알수없음\n",
        ">> 휴대전화 번호 입력: 011-345-1922\n",
        "당신은 SKT 사용자입니다.\n",
        "'''\n",
        "\n",
        "phone_book = {'011': 'SKT',\n",
        "              '016': 'KT',\n",
        "              '019': 'LGU',\n",
        "              '010': '알수없음'}\n",
        "\n",
        "user_phone_num = input('휴대전화 번호 입력: ')\n",
        "first, second, third = user_phone_num.split('-')\n",
        "\n",
        "if first == '011':\n",
        "    print('당신은 SKT 사용자입니다.')\n",
        "elif first == '016':\n",
        "    print('당신은 KT 사용자입니다.')\n",
        "elif first == '019':\n",
        "    print('당신은 LGU 사용자입니다.')\n",
        "else:\n",
        "    print('알 수 없음')\n",
        "\n",
        "#답안\n",
        "number = input(\"휴대전화 번호 입력: \")\n",
        "num = number.split(\"-\")[0]\n",
        "if num == \"011\":\n",
        "    com = \"SKT\"\n",
        "elif num == \"016\":\n",
        "    com = \"KT\"\n",
        "elif num == \"019\":\n",
        "    com = \"LGU\"\n",
        "else:\n",
        "    com = \"알수없음\"\n",
        "print(f\"당신은 {com} 사용자입니다.\")\n",
        "\n"
      ],
      "metadata": {
        "id": "9AWLcnl3oIO5",
        "colab": {
          "base_uri": "https://localhost:8080/",
          "height": 392
        },
        "outputId": "ed6487d0-5b57-4fca-cced-604a72d7d429"
      },
      "execution_count": null,
      "outputs": [
        {
          "output_type": "error",
          "ename": "KeyboardInterrupt",
          "evalue": "Interrupted by user",
          "traceback": [
            "\u001b[0;31m---------------------------------------------------------------------------\u001b[0m",
            "\u001b[0;31mKeyboardInterrupt\u001b[0m                         Traceback (most recent call last)",
            "\u001b[0;32m<ipython-input-16-d7138b87e252>\u001b[0m in \u001b[0;36m<cell line: 19>\u001b[0;34m()\u001b[0m\n\u001b[1;32m     17\u001b[0m               '010': '알수없음'}\n\u001b[1;32m     18\u001b[0m \u001b[0;34m\u001b[0m\u001b[0m\n\u001b[0;32m---> 19\u001b[0;31m \u001b[0muser_phone_num\u001b[0m \u001b[0;34m=\u001b[0m \u001b[0minput\u001b[0m\u001b[0;34m(\u001b[0m\u001b[0;34m'휴대전화 번호 입력: '\u001b[0m\u001b[0;34m)\u001b[0m\u001b[0;34m\u001b[0m\u001b[0;34m\u001b[0m\u001b[0m\n\u001b[0m\u001b[1;32m     20\u001b[0m \u001b[0mfirst\u001b[0m\u001b[0;34m,\u001b[0m \u001b[0msecond\u001b[0m\u001b[0;34m,\u001b[0m \u001b[0mthird\u001b[0m \u001b[0;34m=\u001b[0m \u001b[0muser_phone_num\u001b[0m\u001b[0;34m.\u001b[0m\u001b[0msplit\u001b[0m\u001b[0;34m(\u001b[0m\u001b[0;34m'-'\u001b[0m\u001b[0;34m)\u001b[0m\u001b[0;34m\u001b[0m\u001b[0;34m\u001b[0m\u001b[0m\n\u001b[1;32m     21\u001b[0m \u001b[0;34m\u001b[0m\u001b[0m\n",
            "\u001b[0;32m/usr/local/lib/python3.10/dist-packages/ipykernel/kernelbase.py\u001b[0m in \u001b[0;36mraw_input\u001b[0;34m(self, prompt)\u001b[0m\n\u001b[1;32m    849\u001b[0m                 \u001b[0;34m\"raw_input was called, but this frontend does not support input requests.\"\u001b[0m\u001b[0;34m\u001b[0m\u001b[0;34m\u001b[0m\u001b[0m\n\u001b[1;32m    850\u001b[0m             )\n\u001b[0;32m--> 851\u001b[0;31m         return self._input_request(str(prompt),\n\u001b[0m\u001b[1;32m    852\u001b[0m             \u001b[0mself\u001b[0m\u001b[0;34m.\u001b[0m\u001b[0m_parent_ident\u001b[0m\u001b[0;34m,\u001b[0m\u001b[0;34m\u001b[0m\u001b[0;34m\u001b[0m\u001b[0m\n\u001b[1;32m    853\u001b[0m             \u001b[0mself\u001b[0m\u001b[0;34m.\u001b[0m\u001b[0m_parent_header\u001b[0m\u001b[0;34m,\u001b[0m\u001b[0;34m\u001b[0m\u001b[0;34m\u001b[0m\u001b[0m\n",
            "\u001b[0;32m/usr/local/lib/python3.10/dist-packages/ipykernel/kernelbase.py\u001b[0m in \u001b[0;36m_input_request\u001b[0;34m(self, prompt, ident, parent, password)\u001b[0m\n\u001b[1;32m    893\u001b[0m             \u001b[0;32mexcept\u001b[0m \u001b[0mKeyboardInterrupt\u001b[0m\u001b[0;34m:\u001b[0m\u001b[0;34m\u001b[0m\u001b[0;34m\u001b[0m\u001b[0m\n\u001b[1;32m    894\u001b[0m                 \u001b[0;31m# re-raise KeyboardInterrupt, to truncate traceback\u001b[0m\u001b[0;34m\u001b[0m\u001b[0;34m\u001b[0m\u001b[0m\n\u001b[0;32m--> 895\u001b[0;31m                 \u001b[0;32mraise\u001b[0m \u001b[0mKeyboardInterrupt\u001b[0m\u001b[0;34m(\u001b[0m\u001b[0;34m\"Interrupted by user\"\u001b[0m\u001b[0;34m)\u001b[0m \u001b[0;32mfrom\u001b[0m \u001b[0;32mNone\u001b[0m\u001b[0;34m\u001b[0m\u001b[0;34m\u001b[0m\u001b[0m\n\u001b[0m\u001b[1;32m    896\u001b[0m             \u001b[0;32mexcept\u001b[0m \u001b[0mException\u001b[0m \u001b[0;32mas\u001b[0m \u001b[0me\u001b[0m\u001b[0;34m:\u001b[0m\u001b[0;34m\u001b[0m\u001b[0;34m\u001b[0m\u001b[0m\n\u001b[1;32m    897\u001b[0m                 \u001b[0mself\u001b[0m\u001b[0;34m.\u001b[0m\u001b[0mlog\u001b[0m\u001b[0;34m.\u001b[0m\u001b[0mwarning\u001b[0m\u001b[0;34m(\u001b[0m\u001b[0;34m\"Invalid Message:\"\u001b[0m\u001b[0;34m,\u001b[0m \u001b[0mexc_info\u001b[0m\u001b[0;34m=\u001b[0m\u001b[0;32mTrue\u001b[0m\u001b[0;34m)\u001b[0m\u001b[0;34m\u001b[0m\u001b[0;34m\u001b[0m\u001b[0m\n",
            "\u001b[0;31mKeyboardInterrupt\u001b[0m: Interrupted by user"
          ]
        }
      ]
    },
    {
      "cell_type": "code",
      "source": [
        "'''\n",
        "126\n",
        "우편번호는 5자리로 구성되는데, 앞의 세자리는 구를 나타낸다. 예를들어, 강북구의 경우 010, 011, 012 세 자리로 시작한다.\n",
        "\n",
        "-\t0\t1\t2\t3\t4\t5\t6\t7\t8\t9\n",
        "01\t강북구\t강북구\t강북구\t도봉구\t도봉구\t도봉구\t노원구\t노원구\t노원구\t노원구\n",
        "사용자로 부터 5자리 우편번호를 입력받고 구를 판별하라\n",
        "\n",
        ">> 우편번호: 01400\n",
        "도봉구\n",
        "'''\n",
        "\n",
        "user_address = input('우편번호: ')\n",
        "region = user_address[:3]\n",
        "\n",
        "if region == '010':\n",
        "    print('강북구')\n",
        "elif region == '011':\n",
        "    print('강북구')\n",
        "elif region == '012':\n",
        "    print('강북구')\n",
        "elif region == '013':\n",
        "    print('도봉구')\n",
        "elif region == '014':\n",
        "    print('도봉구')\n",
        "elif region == '015':\n",
        "    print('도봉구')\n",
        "else:\n",
        "    print('노원구')\n",
        "\n",
        "# 답안\n",
        "우편번호 = input(\"우편번호: \")\n",
        "우편번호 = 우편번호[:3]\n",
        "if 우편번호 in [\"010\", \"011\", \"012\"]: #훨씬 간단\n",
        "    print(\"강북구\")\n",
        "elif 우편번호 in [\"014\", \"015\", \"016\"]:\n",
        "    print(\"도봉구\")\n",
        "else:\n",
        "    print(\"노원구\")\n"
      ],
      "metadata": {
        "id": "DmZ5hhh1qw9S",
        "colab": {
          "base_uri": "https://localhost:8080/"
        },
        "outputId": "c42d44c4-1aac-4ca4-ee0e-5cd58efb554b"
      },
      "execution_count": null,
      "outputs": [
        {
          "output_type": "stream",
          "name": "stdout",
          "text": [
            "우편번호: 019\n",
            "노원구\n"
          ]
        }
      ]
    },
    {
      "cell_type": "code",
      "source": [
        "'''\n",
        "127\n",
        "주민등록번호 뒷 자리 7자리 중 첫째 자리는 성별을 나타내는데, 1, 3은 남자 2, 4는 여자를 의미한다. 사용자로부터 13자리의 주민등록번호를 입력 받은 후 성별 (남자, 여자)를 출력하는 프로그램을 작성하라.\n",
        "\n",
        ">> 주민등록번호: 821010-1635210\n",
        "남자\n",
        "'''\n",
        "user_num = input('주민등록번호: ')\n",
        "gender_num = user_num.split('-')[1]\n",
        "\n",
        "if gender_num[0] == '1' or gender_num[0] == '3':\n",
        "    print('남자')\n",
        "elif gender_num[0] == '2' or gender_num[0] == '3':\n",
        "    print('여자')\n",
        "else:\n",
        "    print('뒷자리의 첫번호는, 1-4중 하나를 입력해주십시오')"
      ],
      "metadata": {
        "id": "usEV7pv8spPu",
        "colab": {
          "base_uri": "https://localhost:8080/"
        },
        "outputId": "0451e2ba-a692-4a98-f08b-755db4e8da17"
      },
      "execution_count": null,
      "outputs": [
        {
          "output_type": "stream",
          "name": "stdout",
          "text": [
            "주민등록번호: 900129-809091\n",
            "뒷자리의 첫번호는, 1-4중 하나를 입력해주십시오\n"
          ]
        }
      ]
    },
    {
      "cell_type": "code",
      "source": [
        "'''\n",
        "128\n",
        "주민등록번호의 뒷 자리 7자리 중 두번째와 세번째는 지역코드를 의미한다. 주민 등록 번호를 입력 받은 후 출생지가 서울인지 아닌지 판단하는 코드를 작성하라\n",
        "\n",
        "지역코드\t출생지\n",
        "00 ~ 08\t서울\n",
        "09 ~ 12\t부산\n",
        ">> 주민등록번호: 821010-1635210\n",
        "서울이 아닙니다.\n",
        ">> 주민등록번호: 861010-1015210\n",
        "서울 입니다.\n",
        "'''\n",
        "user_input = input('주민등록번호: ')\n",
        "second = user_input.split('-')[1]\n",
        "birth_place = second[1:3]\n",
        "\n",
        "if birth_place in ['00', '01', '02', '03', '04', '05', '06', '07', '08']:\n",
        "    print('서울입니다.')\n",
        "elif birth_place in ['09', '10', '11', '12']:\n",
        "    print('부산입니다.')\n",
        "else:\n",
        "    print('서울, 부산 외 지역입니다.')\n",
        "\n",
        "#답안\n",
        "주민번호 = input(\"주민등록번호: \")\n",
        "뒷자리 = 주민번호.split(\"-\")[1]\n",
        "if 0 <= int(뒷자리[1:3]) <= 8:\n",
        "    print(\"서울입니다.\")\n",
        "else:\n",
        "    print(\"서울이 아닙니다.\")\n",
        "\n"
      ],
      "metadata": {
        "colab": {
          "base_uri": "https://localhost:8080/"
        },
        "id": "ZoxmJpkQu0qt",
        "outputId": "50a79dd0-0cf6-4a39-f92f-d70acc1fea28"
      },
      "execution_count": null,
      "outputs": [
        {
          "output_type": "stream",
          "name": "stdout",
          "text": [
            "주민등록번호: 900129-1133324\n",
            "서울, 부산 외 지역입니다.\n"
          ]
        }
      ]
    },
    {
      "cell_type": "code",
      "source": [
        "'''\n",
        "129\n",
        "주민등록번호는 13자리로 구성되는데 마지막 자리수는 주민등록번호의 유효성을 체크하는데 사용된다. 먼저 앞에서부터 12자리의 숫자에 2, 3, 4, 5, 6, 7, 8, 9, 2, 3, 4, 5를 차례로 곱한 뒤 그 값을 전부 더한다. 연산 결과 값을 11로 나누면 나머지가 나오는데 11에서 나머지를 뺀 값이 주민등록번호의 마지막 번호가 된다.\n",
        "\n",
        "  8 2 1 0 1 0 - 1 6 3 5 2 1 0\n",
        "x 2 3 4 5 6 7   8 9 2 3 4 5\n",
        "-----------------------------\n",
        "1차 계산: (8*2 + 2*3 + 1*4 + 0*5 + 1*6 + 0*7 + 1*8 + 6*9 + 3*2 + 5*3 + 2*4 + 1*5) = (128 % 11) = 7\n",
        "2차 계산: 11 -7 = 4\n",
        "위와 같이 821010-1635210에 대해서 계산을 해보면 마지막 자리는 4가 되어야 함을 알 수 있다. 즉, 821010-1635210은 유효하지 않은 주민등록번호임을 알 수 있다.\n",
        "\n",
        "다음과 같이 사용자로부터 주민등록번호를 입력받은 후 주민등록번호가 유효한지를 출력하는 프로그램을 작성하라.\n",
        "\n",
        ">> 주민등록번호: 821010-1635210\n",
        "유효하지 않은 주민등록번호입니다.\n",
        "'''\n",
        "user_num = input('주민등록번호: ')\n",
        "first_num = user_num.split('-')[0]\n",
        "second_num = user_num.split('-')[1]\n",
        "\n",
        "int_f_n = int(first_num)\n",
        "int_s_n = int(second_num)\n",
        "\n",
        "sum_f_n = (int_f_n[0]*2 + int_f_n[1]*3 + int_f_n[2]*4 + int_f_n[3]*5 + int_f_n[4]*6 + int_f_n[5]*7)\n",
        "sum_s_n = (int_s_n[0]*8 + int_s_n[1]*9 + int_s_n[2]*2 + int_s_n[3]*3 + int_s_n[4]*4 + int_s_n[5]*5)\n",
        "\n",
        "second_num[6] = str(11 - (sum_f_n + sum_s_n % 11))\n",
        "\n",
        "if second_num[6] is False:\n",
        "    print('유효하지 않은 주민등록번호입니다.')\n",
        "\n",
        "#답안\n",
        "num = input(\"주민등록번호: \")\n",
        "계산1 = int(num[0]) * 2 + int(num[1]) * 3 + int(num[2]) * 4 + int(num[3]) * 5 + int(num[4]) * 6 + \\\n",
        "        int(num[5]) * 7 + int(num[7]) * 8 + int(num[8]) * 9 + int(num[9]) * 2 + int(num[10])* 3 + \\\n",
        "        int(num[11])* 4 + int(num[12]) * 5\n",
        "계산2 = 11 - (계산1 % 11)\n",
        "계산3 = str(계산2)\n",
        "\n",
        "if num[-1] == 계산3[-1]:\n",
        "    print(\"유효한 주민등록번호입니다.\")\n",
        "else:\n",
        "    print(\"유효하지 않은 주민등록번호입니다.\")\n",
        "\n"
      ],
      "metadata": {
        "colab": {
          "base_uri": "https://localhost:8080/",
          "height": 264
        },
        "id": "jq9SkEpGxwcO",
        "outputId": "e178dea4-e3fc-4824-eaea-14f8ad18efae"
      },
      "execution_count": null,
      "outputs": [
        {
          "name": "stdout",
          "output_type": "stream",
          "text": [
            "주민등록번호: 821010-1635210\n"
          ]
        },
        {
          "output_type": "error",
          "ename": "TypeError",
          "evalue": "'int' object is not subscriptable",
          "traceback": [
            "\u001b[0;31m---------------------------------------------------------------------------\u001b[0m",
            "\u001b[0;31mTypeError\u001b[0m                                 Traceback (most recent call last)",
            "\u001b[0;32m<ipython-input-26-e60cdbc5a2c3>\u001b[0m in \u001b[0;36m<cell line: 24>\u001b[0;34m()\u001b[0m\n\u001b[1;32m     22\u001b[0m \u001b[0mint_s_n\u001b[0m \u001b[0;34m=\u001b[0m \u001b[0mint\u001b[0m\u001b[0;34m(\u001b[0m\u001b[0msecond_num\u001b[0m\u001b[0;34m)\u001b[0m\u001b[0;34m\u001b[0m\u001b[0;34m\u001b[0m\u001b[0m\n\u001b[1;32m     23\u001b[0m \u001b[0;34m\u001b[0m\u001b[0m\n\u001b[0;32m---> 24\u001b[0;31m \u001b[0msum_f_n\u001b[0m \u001b[0;34m=\u001b[0m \u001b[0;34m(\u001b[0m\u001b[0mint_f_n\u001b[0m\u001b[0;34m[\u001b[0m\u001b[0;36m0\u001b[0m\u001b[0;34m]\u001b[0m\u001b[0;34m*\u001b[0m\u001b[0;36m2\u001b[0m \u001b[0;34m+\u001b[0m \u001b[0mint_f_n\u001b[0m\u001b[0;34m[\u001b[0m\u001b[0;36m1\u001b[0m\u001b[0;34m]\u001b[0m\u001b[0;34m*\u001b[0m\u001b[0;36m3\u001b[0m \u001b[0;34m+\u001b[0m \u001b[0mint_f_n\u001b[0m\u001b[0;34m[\u001b[0m\u001b[0;36m2\u001b[0m\u001b[0;34m]\u001b[0m\u001b[0;34m*\u001b[0m\u001b[0;36m4\u001b[0m \u001b[0;34m+\u001b[0m \u001b[0mint_f_n\u001b[0m\u001b[0;34m[\u001b[0m\u001b[0;36m3\u001b[0m\u001b[0;34m]\u001b[0m\u001b[0;34m*\u001b[0m\u001b[0;36m5\u001b[0m \u001b[0;34m+\u001b[0m \u001b[0mint_f_n\u001b[0m\u001b[0;34m[\u001b[0m\u001b[0;36m4\u001b[0m\u001b[0;34m]\u001b[0m\u001b[0;34m*\u001b[0m\u001b[0;36m6\u001b[0m \u001b[0;34m+\u001b[0m \u001b[0mint_f_n\u001b[0m\u001b[0;34m[\u001b[0m\u001b[0;36m5\u001b[0m\u001b[0;34m]\u001b[0m\u001b[0;34m*\u001b[0m\u001b[0;36m7\u001b[0m\u001b[0;34m)\u001b[0m\u001b[0;34m\u001b[0m\u001b[0;34m\u001b[0m\u001b[0m\n\u001b[0m\u001b[1;32m     25\u001b[0m \u001b[0msum_s_n\u001b[0m \u001b[0;34m=\u001b[0m \u001b[0;34m(\u001b[0m\u001b[0mint_s_n\u001b[0m\u001b[0;34m[\u001b[0m\u001b[0;36m0\u001b[0m\u001b[0;34m]\u001b[0m\u001b[0;34m*\u001b[0m\u001b[0;36m8\u001b[0m \u001b[0;34m+\u001b[0m \u001b[0mint_s_n\u001b[0m\u001b[0;34m[\u001b[0m\u001b[0;36m1\u001b[0m\u001b[0;34m]\u001b[0m\u001b[0;34m*\u001b[0m\u001b[0;36m9\u001b[0m \u001b[0;34m+\u001b[0m \u001b[0mint_s_n\u001b[0m\u001b[0;34m[\u001b[0m\u001b[0;36m2\u001b[0m\u001b[0;34m]\u001b[0m\u001b[0;34m*\u001b[0m\u001b[0;36m2\u001b[0m \u001b[0;34m+\u001b[0m \u001b[0mint_s_n\u001b[0m\u001b[0;34m[\u001b[0m\u001b[0;36m3\u001b[0m\u001b[0;34m]\u001b[0m\u001b[0;34m*\u001b[0m\u001b[0;36m3\u001b[0m \u001b[0;34m+\u001b[0m \u001b[0mint_s_n\u001b[0m\u001b[0;34m[\u001b[0m\u001b[0;36m4\u001b[0m\u001b[0;34m]\u001b[0m\u001b[0;34m*\u001b[0m\u001b[0;36m4\u001b[0m \u001b[0;34m+\u001b[0m \u001b[0mint_s_n\u001b[0m\u001b[0;34m[\u001b[0m\u001b[0;36m5\u001b[0m\u001b[0;34m]\u001b[0m\u001b[0;34m*\u001b[0m\u001b[0;36m5\u001b[0m\u001b[0;34m)\u001b[0m\u001b[0;34m\u001b[0m\u001b[0;34m\u001b[0m\u001b[0m\n\u001b[1;32m     26\u001b[0m \u001b[0;34m\u001b[0m\u001b[0m\n",
            "\u001b[0;31mTypeError\u001b[0m: 'int' object is not subscriptable"
          ]
        }
      ]
    },
    {
      "cell_type": "code",
      "source": [
        "'''\n",
        "130\n",
        "아래 코드는 비트코인의 가격 정보를 딕셔너리로 가져오는 코드이다.\n",
        "\n",
        "import requests\n",
        "btc = requests.get(\"https://api.bithumb.com/public/ticker/\").json()['data']\n",
        "btc 딕셔너리 안에는 시가, 종가, 최고가, 최저가 등이 저장되어 있다. 최고가와 최저가의 차이를 변동폭으로 정의할 때 (시가 + 변동폭)이 최고가 보다 높을 경우 \"상승장\", 그렇지 않은 경우 \"하락장\" 문자열을 출력하라.\n",
        "\n",
        "Key Name\tDescription\n",
        "opening_price\t최근 24시간 내 시작 거래금액\n",
        "closing_price\t최근 24시간 내 마지막 거래금액\n",
        "min_price\t최근 24시간 내 최저 거래금액\n",
        "max_price\t최근 24시간 내 최고 거래금액\n",
        "'''\n",
        "\n",
        "if btc['opening_price'] + (btc['max_price']-btc['min_price']) > btc['opening_price']:\n",
        "    print('상승장')\n",
        "else:\n",
        "    print('하락장')\n",
        "\n",
        "#답안\n",
        "import requests\n",
        "btc = requests.get(\"https://api.bithumb.com/public/ticker/\").json()['data']\n",
        "\n",
        "변동폭 = float(btc['max_price']) - float(btc['min_price'])  #float 변환\n",
        "시가 = float(btc['opening_price'])\n",
        "최고가 = float(btc['max_price'])\n",
        "\n",
        "if (시가+변동폭) > 최고가:\n",
        "    print(\"상승장\")\n",
        "else:\n",
        "    print(\"하락장\")"
      ],
      "metadata": {
        "id": "TaDWuvVq156m"
      },
      "execution_count": null,
      "outputs": []
    }
  ]
}