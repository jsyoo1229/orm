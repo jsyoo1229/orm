{
  "nbformat": 4,
  "nbformat_minor": 0,
  "metadata": {
    "colab": {
      "provenance": [],
      "authorship_tag": "ABX9TyPF4l3MWpC440PNTAb8Xnqx",
      "include_colab_link": true
    },
    "kernelspec": {
      "name": "python3",
      "display_name": "Python 3"
    },
    "language_info": {
      "name": "python"
    }
  },
  "cells": [
    {
      "cell_type": "markdown",
      "metadata": {
        "id": "view-in-github",
        "colab_type": "text"
      },
      "source": [
        "<a href=\"https://colab.research.google.com/github/jsyoo1229/orm/blob/main/%ED%8C%8C%EC%9D%B4%EC%8D%AC_300%EC%A0%9C_%ED%81%B4%EB%9E%98%EC%8A%A4_240205.ipynb\" target=\"_parent\"><img src=\"https://colab.research.google.com/assets/colab-badge.svg\" alt=\"Open In Colab\"/></a>"
      ]
    },
    {
      "cell_type": "markdown",
      "source": [
        "###252 클래스 정의\n",
        "비어있는 사람 (Human) 클래스를 \"정의\" 해보세요."
      ],
      "metadata": {
        "id": "rbt2sallvhUs"
      }
    },
    {
      "cell_type": "code",
      "source": [
        "class Human:\n",
        "    pass"
      ],
      "metadata": {
        "id": "xdvIEpG-vwvj"
      },
      "execution_count": null,
      "outputs": []
    },
    {
      "cell_type": "markdown",
      "source": [
        "###253 인스턴스 생성\n",
        "사람 (Human) 클래스의 인스턴스를 \"생성\" 하고 이를 areum 변수로 바인딩해보세요."
      ],
      "metadata": {
        "id": "v8QtmZnbv9mN"
      }
    },
    {
      "cell_type": "code",
      "source": [
        "areum = Human()"
      ],
      "metadata": {
        "id": "aNPWnTySv--q"
      },
      "execution_count": null,
      "outputs": []
    },
    {
      "cell_type": "markdown",
      "source": [
        "###254 클래스 생성자-1\n",
        "사람 (Human) 클래스에 \"응애응애\"를 출력하는 생성자를 추가하세요."
      ],
      "metadata": {
        "id": "3gIZEhS6webK"
      }
    },
    {
      "cell_type": "code",
      "source": [
        "class Human:\n",
        "    def __init__(self):\n",
        "        print('응애응애')\n",
        "\n",
        "areum = Human()"
      ],
      "metadata": {
        "colab": {
          "base_uri": "https://localhost:8080/"
        },
        "id": "kDXoWoXXwiW3",
        "outputId": "8a8541b0-fc2b-4f4a-91db-729d3a50b3ae"
      },
      "execution_count": null,
      "outputs": [
        {
          "output_type": "stream",
          "name": "stdout",
          "text": [
            "응애응애\n"
          ]
        }
      ]
    },
    {
      "cell_type": "markdown",
      "source": [
        "###255 클래스 생성자-2\n",
        "사람 (Human) 클래스에 (이름, 나이, 성별)을 받는 생성자를 추가하세요."
      ],
      "metadata": {
        "id": "6bn-gXNhxA-D"
      }
    },
    {
      "cell_type": "code",
      "source": [
        "class Human:\n",
        "    def __init__(self, name, age, gender):\n",
        "        self.name = name\n",
        "        self.age = age\n",
        "        self.gender = gender\n",
        "\n",
        "\n",
        "        print(f'이름: {name}, 나이: {age}, 성별:{gender}, 응애응애')\n",
        "\n",
        "areum = Human('아리아나', '20', '여자')\n"
      ],
      "metadata": {
        "colab": {
          "base_uri": "https://localhost:8080/"
        },
        "id": "OvQKB2t6xEQA",
        "outputId": "bbfbd4b8-ae35-41ea-86c7-eca87c25affd"
      },
      "execution_count": null,
      "outputs": [
        {
          "output_type": "stream",
          "name": "stdout",
          "text": [
            "이름: 아리아나, 나이: 20, 성별:여자, 응애응애\n"
          ]
        }
      ]
    },
    {
      "cell_type": "markdown",
      "source": [
        "###256 인스턴스 속성에 접근\n",
        "255에서 생성한 인스턴스의 이름, 나이, 성별을 출력하세요. 인스턴스 변수에 접근하여 값을 출력하면 됩니다."
      ],
      "metadata": {
        "id": "-2jdv1FOyXhl"
      }
    },
    {
      "cell_type": "code",
      "source": [
        "areum.age"
      ],
      "metadata": {
        "colab": {
          "base_uri": "https://localhost:8080/",
          "height": 35
        },
        "id": "Z_G1iuOKyYsJ",
        "outputId": "7d7ac34c-9353-40d1-d5d5-3aee7b798a7a"
      },
      "execution_count": null,
      "outputs": [
        {
          "output_type": "execute_result",
          "data": {
            "text/plain": [
              "'20'"
            ],
            "application/vnd.google.colaboratory.intrinsic+json": {
              "type": "string"
            }
          },
          "metadata": {},
          "execution_count": 10
        }
      ]
    },
    {
      "cell_type": "markdown",
      "source": [
        "###257 클래스 메소드 - 1\n",
        "사람 (Human) 클래스에서 이름, 나이, 성별을 출력하는 who() 메소드를 추가하세요."
      ],
      "metadata": {
        "id": "88vdczPQyhji"
      }
    },
    {
      "cell_type": "code",
      "source": [
        "class Human:\n",
        "    def __init__(self, name, age, gender):\n",
        "        self.name = name\n",
        "        self.age = age\n",
        "        self.gender = gender\n",
        "\n",
        "    def who(self):\n",
        "        print(f'이름: {self.name}, 나이: {self.age}, 성별: {self.gender}')\n",
        "\n",
        "\n",
        "ariana = Human('아리아나', '20', '여자')\n",
        "ariana.who()\n"
      ],
      "metadata": {
        "colab": {
          "base_uri": "https://localhost:8080/"
        },
        "id": "QGqkdHYJymaF",
        "outputId": "460e1871-e576-4f26-f5b6-27b15ffdd96e"
      },
      "execution_count": null,
      "outputs": [
        {
          "output_type": "stream",
          "name": "stdout",
          "text": [
            "이름: 아리아나, 나이: 20, 성별: 여자\n"
          ]
        }
      ]
    },
    {
      "cell_type": "markdown",
      "source": [
        "###258 클래스 메소드 - 2\n",
        "사람 (Human) 클래스에 (이름, 나이, 성별)을 받는 setInfo 메소드를 추가하세요.\n",
        "\n",
        ">>> areum = Human(\"모름\", 0, \"모름\")\n",
        ">>> areum.setInfo(\"아름\", 25, \"여자\")"
      ],
      "metadata": {
        "id": "qd92_vu2zWHM"
      }
    },
    {
      "cell_type": "code",
      "source": [
        "class Human:\n",
        "    def __init__(self, name, age, gender):\n",
        "        self.name = name\n",
        "        self.age = age\n",
        "        self.gender = gender\n",
        "\n",
        "    def who(self):\n",
        "        print(f'이름: {self.name}, 나이: {self.age}, 성별: {self.gender}')\n",
        "\n",
        "    def setInfo(self, name, age, gender):\n",
        "         self.name = name\n",
        "         self.age = age\n",
        "         self.gender = gender\n",
        "\n",
        "\n",
        "\n",
        "\n",
        "ariana = Human('아리아나', '20', '여자')\n",
        "ariana.setInfo('아리아나 그란데', '22', '여자')\n",
        "ariana.who()\n"
      ],
      "metadata": {
        "colab": {
          "base_uri": "https://localhost:8080/"
        },
        "id": "hD_hYyNEzXG1",
        "outputId": "918842b0-7e84-451d-fb72-36aa96355858"
      },
      "execution_count": null,
      "outputs": [
        {
          "output_type": "stream",
          "name": "stdout",
          "text": [
            "이름: 아리아나 그란데, 나이: 22, 성별: 여자\n"
          ]
        }
      ]
    },
    {
      "cell_type": "markdown",
      "source": [
        "###259 클래스 소멸자\n",
        "사람 (human) 클래스에 \"나의 죽음을 알리지 말라\"를 출력하는 소멸자를 추가하세요."
      ],
      "metadata": {
        "id": "N51kZOaB0WVp"
      }
    },
    {
      "cell_type": "code",
      "source": [
        "class Human:\n",
        "    def __init__(self, name, age, gender):\n",
        "        self.name = name\n",
        "        self.age = age\n",
        "        self.gender = gender\n",
        "\n",
        "    def __del__(self):\n",
        "        print('나의 죽음을 알리지마라')\n",
        "\n",
        "    def who(self):\n",
        "        print(f'이름: {self.name}, 나이: {self.age}, 성별: {self.gender}')\n",
        "\n",
        "    def setInfo(self, name, age, gender):\n",
        "         self.name = name\n",
        "         self.age = age\n",
        "         self.gender = gender\n",
        "\n",
        "\n",
        "ariana = Human('아리아나', '20', '여자')\n",
        "ariana.setInfo('아리아나 그란데', '22', '여자')\n",
        "\n",
        "del(ariana)\n",
        "# ariana.who()\n"
      ],
      "metadata": {
        "id": "qbn1qUC80XVp"
      },
      "execution_count": null,
      "outputs": []
    },
    {
      "cell_type": "markdown",
      "source": [
        "###261 Stock 클래스 생성\n",
        "주식 종목에 대한 정보를 저장하는 Stock 클래스를 정의해보세요. 클래스는 속성과 메서드를 갖고 있지 않습니다."
      ],
      "metadata": {
        "id": "V8vcOb3T02FK"
      }
    },
    {
      "cell_type": "code",
      "source": [
        "class Stock:\n",
        "    def __init__(self):\n"
      ],
      "metadata": {
        "id": "UOiI69i7CZwq"
      },
      "execution_count": null,
      "outputs": []
    },
    {
      "cell_type": "markdown",
      "source": [
        "###262 생성자\n",
        "Stock 클래스의 객체가 생성될 때 종목명과 종목코드를 입력 받을 수 있도록 생성자를 정의해보세요."
      ],
      "metadata": {
        "id": "7gp_5vffCsLg"
      }
    },
    {
      "cell_type": "code",
      "source": [
        "class Stock:\n",
        "    def __init__(self, name, code):\n",
        "        self.name = name\n",
        "        self.codem = codem\n"
      ],
      "metadata": {
        "id": "BGekxw6tCwod"
      },
      "execution_count": null,
      "outputs": []
    },
    {
      "cell_type": "markdown",
      "source": [
        "###263 메서드\n",
        "객체에 종목명을 입력할 수 있는 set_name 메서드를 추가해보세요."
      ],
      "metadata": {
        "id": "Scm93VK4ED_t"
      }
    },
    {
      "cell_type": "code",
      "source": [
        "class Stock:\n",
        "    def __init__(self, name, code):\n",
        "        self.name = name\n",
        "        self.codem = codem\n",
        "\n",
        "    def set_name(self, name):\n",
        "        self.name = name\n",
        "\n"
      ],
      "metadata": {
        "id": "TdDNk1ZPEFNC"
      },
      "execution_count": null,
      "outputs": []
    },
    {
      "cell_type": "markdown",
      "source": [
        "###264 메서드\n",
        "객체에 종목코드를 입력할 수 있는 set_code 메서드를 추가해보세요."
      ],
      "metadata": {
        "id": "gXk_1OQsEF-Q"
      }
    },
    {
      "cell_type": "code",
      "source": [
        "class Stock:\n",
        "    def __init__(self, name, code):\n",
        "        self.name = name\n",
        "        self.codem = codem\n",
        "\n",
        "    def set_name(self, name):\n",
        "        self.name = name\n",
        "\n",
        "    def set_name(self, code):\n",
        "        self.code = code\n",
        "\n"
      ],
      "metadata": {
        "id": "zAv90jXiEGDi"
      },
      "execution_count": null,
      "outputs": []
    },
    {
      "cell_type": "markdown",
      "source": [
        "###265 메서드\n",
        "종목명과 종목코드를 리턴하는 get_name, get_code 메서드를 추가하세요.\n",
        "해당 메서드를 사용하여 종목명과 종목코드를 얻고 이를 출력해보세요."
      ],
      "metadata": {
        "id": "WG9dfU9BEGJb"
      }
    },
    {
      "cell_type": "code",
      "source": [
        "class Stock:\n",
        "    def __init__(self, name, code):\n",
        "        self.name = name\n",
        "        self.code = code\n",
        "\n",
        "    def set_name(self, name):\n",
        "        self.name = name\n",
        "\n",
        "    def set_name(self, code):\n",
        "        self.code = code\n",
        "\n",
        "    def get_name(self):\n",
        "        return self.name\n",
        "\n",
        "    def get_code(self):\n",
        "        return self.code\n",
        "\n",
        "google = Stock('google', '123')\n",
        "\n",
        "google.get_name()\n",
        "google.get_code()\n",
        "\n"
      ],
      "metadata": {
        "colab": {
          "base_uri": "https://localhost:8080/",
          "height": 35
        },
        "id": "djC_290ZEGPc",
        "outputId": "719ccda2-ccf8-4d9a-d175-d103dca6be31"
      },
      "execution_count": null,
      "outputs": [
        {
          "output_type": "execute_result",
          "data": {
            "text/plain": [
              "'123'"
            ],
            "application/vnd.google.colaboratory.intrinsic+json": {
              "type": "string"
            }
          },
          "metadata": {},
          "execution_count": 6
        }
      ]
    },
    {
      "cell_type": "markdown",
      "source": [
        "###266 객체의 속성값 업데이트\n",
        "생성자에서 종목명, 종목코드, PER, PBR, 배당수익률을 입력 받을 수 있도록 생성자를 수정하세요. PER, PBR, 배당수익률은 float 타입입니다."
      ],
      "metadata": {
        "id": "RA97nPEaEGVT"
      }
    },
    {
      "cell_type": "code",
      "source": [
        "class Stock:\n",
        "    def __init__(self, name, code, PER, PBR, 배당수익률):\n",
        "        self.name = name\n",
        "        self.code = code\n",
        "        self.PER = PER\n",
        "        self.PBR = PBR\n",
        "        self.배당수익률 = 배당수익률\n",
        "\n",
        "    def set_name(self, name):\n",
        "        self.name = name\n",
        "\n",
        "    def set_name(self, code):\n",
        "        self.code = code\n",
        "\n",
        "    def get_name(self):\n",
        "        return self.name\n",
        "\n",
        "    def get_code(self):\n",
        "        return self.code\n",
        "\n",
        "google = Stock('google', '123')\n",
        "\n",
        "google.get_name()\n",
        "google.get_code()\n",
        "\n"
      ],
      "metadata": {
        "id": "l8ZO7QQREGaM"
      },
      "execution_count": null,
      "outputs": []
    },
    {
      "cell_type": "markdown",
      "source": [
        "###267 객체 생성\n",
        "266번에서 정의한 생성자를 통해 다음 정보를 갖는 객체를 생성해보세요.\n"
      ],
      "metadata": {
        "id": "bKhgsNpYEGgp"
      }
    },
    {
      "cell_type": "code",
      "source": [
        "# 항목\t정보\n",
        "# 종목명\t삼성전자\n",
        "# 종목코드\t005930\n",
        "# PER\t15.79\n",
        "# PBR\t1.33\n",
        "# 배당수익률\t2.83"
      ],
      "metadata": {
        "id": "aPdxi_mYH3Lj"
      },
      "execution_count": null,
      "outputs": []
    },
    {
      "cell_type": "code",
      "source": [
        "class Stock:\n",
        "    def __init__(self, name, code, PER, PBR, 배당수익률):\n",
        "        self.name = name\n",
        "        self.code = code\n",
        "        self.PER = PER\n",
        "        self.PBR = PBR\n",
        "        self.배당수익률 = 배당수익률\n",
        "\n",
        "    def set_name(self, name):\n",
        "        self.name = name\n",
        "\n",
        "    def set_name(self, code):\n",
        "        self.code = code\n",
        "\n",
        "    def get_name(self):\n",
        "        return self.name\n",
        "\n",
        "    def get_code(self):\n",
        "        return self.code\n",
        "\n",
        "삼성전자 = Stock('삼성전자', '005930', 15.79, 1.33, 2.83)\n",
        "\n",
        "삼성전자.get_name()\n",
        "삼성전자.get_code()\n",
        "\n"
      ],
      "metadata": {
        "colab": {
          "base_uri": "https://localhost:8080/",
          "height": 35
        },
        "id": "xi3QfkT9H9j3",
        "outputId": "b0e40862-2d96-4f48-aa09-ed102dd1bbc3"
      },
      "execution_count": null,
      "outputs": [
        {
          "output_type": "execute_result",
          "data": {
            "text/plain": [
              "'005930'"
            ],
            "application/vnd.google.colaboratory.intrinsic+json": {
              "type": "string"
            }
          },
          "metadata": {},
          "execution_count": 10
        }
      ]
    },
    {
      "cell_type": "markdown",
      "source": [
        "###268 객체의 속성 수정\n",
        "PER, PBR, 배당수익률은 변경될 수 있는 값입니다. 이 값을 변경할 때 사용하는 set_per, set_pbr, set_dividend 메서드를 추가하세요."
      ],
      "metadata": {
        "id": "Sr6K09krIijy"
      }
    },
    {
      "cell_type": "code",
      "source": [
        "class Stock:\n",
        "    def __init__(self, name, code, PER, PBR, dividend):\n",
        "        self.name = name\n",
        "        self.code = code\n",
        "        self.PER = PER\n",
        "        self.PBR = PBR\n",
        "        self.dividend = dividend\n",
        "\n",
        "    def set_name(self, name):\n",
        "        self.name = name\n",
        "\n",
        "    def set_per(self, per):\n",
        "        self.per = per\n",
        "\n",
        "    def set_pbr(self, pbr):\n",
        "        self.pbr = pbr\n",
        "\n",
        "    def set_dividend(self, dividend):\n",
        "        self.dividend = dividend\n",
        "\n",
        "    def get_name(self):\n",
        "        return self.name\n",
        "\n",
        "    def get_code(self):\n",
        "        return self.code\n",
        "\n",
        "\n",
        "삼성전자 = Stock('삼성전자', '005930', 15.79, 1.33, 2.83)\n",
        "\n",
        "삼성전자.get_name()\n",
        "삼성전자.get_code()\n",
        "\n"
      ],
      "metadata": {
        "id": "dUD5YwQXIiqD"
      },
      "execution_count": null,
      "outputs": []
    },
    {
      "cell_type": "markdown",
      "source": [
        "###269 객체의 속성 수정\n",
        "267번에서 생성한 객체에 set_per 메서드를 호출하여 per 값을 12.75로 수정해보세요."
      ],
      "metadata": {
        "id": "7hyb4jW4IiyQ"
      }
    },
    {
      "cell_type": "code",
      "source": [
        "class Stock:\n",
        "    def __init__(self, name, code, PER, PBR, dividend):\n",
        "        self.name = name\n",
        "        self.code = code\n",
        "        self.PER = PER\n",
        "        self.PBR = PBR\n",
        "        self.dividend = dividend\n",
        "\n",
        "    def set_name(self, name):\n",
        "        self.name = name\n",
        "\n",
        "    def set_per(self, per):\n",
        "        self.per = per\n",
        "\n",
        "    def set_pbr(self, pbr):\n",
        "        self.pbr = pbr\n",
        "\n",
        "    def set_dividend(self, dividend):\n",
        "        self.dividend = dividend\n",
        "\n",
        "    def get_name(self):\n",
        "        return self.name\n",
        "\n",
        "    def get_code(self):\n",
        "        return self.code\n",
        "\n",
        "    def get_per(self):\n",
        "        return self.per\n",
        "\n",
        "\n",
        "삼성전자 = Stock('삼성전자', '005930', 15.79, 1.33, 2.83)\n",
        "\n",
        "삼성전자.get_name()\n",
        "삼성전자.get_code()\n",
        "\n",
        "삼성전자.set_per(12.75)\n",
        "\n",
        "삼성전자.get_per()"
      ],
      "metadata": {
        "colab": {
          "base_uri": "https://localhost:8080/"
        },
        "id": "0TlikD0HJxh9",
        "outputId": "bea67cb4-5274-4a11-c14a-88a92ef4f8f6"
      },
      "execution_count": null,
      "outputs": [
        {
          "output_type": "execute_result",
          "data": {
            "text/plain": [
              "12.75"
            ]
          },
          "metadata": {},
          "execution_count": 11
        }
      ]
    },
    {
      "cell_type": "code",
      "source": [],
      "metadata": {
        "id": "DbjWHINtJxot"
      },
      "execution_count": null,
      "outputs": []
    },
    {
      "cell_type": "code",
      "source": [],
      "metadata": {
        "id": "2KU2So9NJyEj"
      },
      "execution_count": null,
      "outputs": []
    },
    {
      "cell_type": "code",
      "source": [],
      "metadata": {
        "id": "SkblZcZzJyKz"
      },
      "execution_count": null,
      "outputs": []
    }
  ]
}