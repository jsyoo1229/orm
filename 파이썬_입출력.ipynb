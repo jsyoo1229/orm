{
  "nbformat": 4,
  "nbformat_minor": 0,
  "metadata": {
    "colab": {
      "provenance": [],
      "authorship_tag": "ABX9TyNOjEDlOvlH2E2RrgGkadYR",
      "include_colab_link": true
    },
    "kernelspec": {
      "name": "python3",
      "display_name": "Python 3"
    },
    "language_info": {
      "name": "python"
    }
  },
  "cells": [
    {
      "cell_type": "markdown",
      "metadata": {
        "id": "view-in-github",
        "colab_type": "text"
      },
      "source": [
        "<a href=\"https://colab.research.google.com/github/jsyoo1229/orm/blob/main/%ED%8C%8C%EC%9D%B4%EC%8D%AC_%EC%9E%85%EC%B6%9C%EB%A0%A5.ipynb\" target=\"_parent\"><img src=\"https://colab.research.google.com/assets/colab-badge.svg\" alt=\"Open In Colab\"/></a>"
      ]
    },
    {
      "cell_type": "markdown",
      "source": [
        "## 1.1 input 입력"
      ],
      "metadata": {
        "id": "GOnEdKJ3NBk8"
      }
    },
    {
      "cell_type": "code",
      "execution_count": 1,
      "metadata": {
        "colab": {
          "base_uri": "https://localhost:8080/",
          "height": 53
        },
        "id": "sWlNFJmtLywX",
        "outputId": "43807368-eaa1-450c-ed8d-4b8062c28ef9"
      },
      "outputs": [
        {
          "name": "stdout",
          "output_type": "stream",
          "text": [
            "입력해주세요hello world\n"
          ]
        },
        {
          "output_type": "execute_result",
          "data": {
            "text/plain": [
              "'hello world'"
            ],
            "application/vnd.google.colaboratory.intrinsic+json": {
              "type": "string"
            }
          },
          "metadata": {},
          "execution_count": 1
        }
      ],
      "source": [
        "input('입력해주세요')"
      ]
    },
    {
      "cell_type": "markdown",
      "source": [
        "## 1.2 input 실습\n",
        "input 값을, 변수에 할당"
      ],
      "metadata": {
        "id": "N61A_KkaManw"
      }
    },
    {
      "cell_type": "code",
      "source": [
        "name = input('이름을 입력: ')"
      ],
      "metadata": {
        "colab": {
          "base_uri": "https://localhost:8080/"
        },
        "id": "ROshxz4hMh98",
        "outputId": "6eca64a8-92f3-4d0a-cb58-862cf86ec23e"
      },
      "execution_count": 3,
      "outputs": [
        {
          "name": "stdout",
          "output_type": "stream",
          "text": [
            "이름을 입력: 유진선\n"
          ]
        }
      ]
    },
    {
      "cell_type": "code",
      "source": [
        "print(name)"
      ],
      "metadata": {
        "colab": {
          "base_uri": "https://localhost:8080/"
        },
        "id": "vS0V3dB9Mwnt",
        "outputId": "6750f99a-31a1-44a8-cd2b-99c1c46357c3"
      },
      "execution_count": 5,
      "outputs": [
        {
          "output_type": "stream",
          "name": "stdout",
          "text": [
            "유진선\n"
          ]
        }
      ]
    },
    {
      "cell_type": "code",
      "source": [
        "# input 덧셈(문자)\n",
        "a = input('첫번째 숫자: ')\n",
        "b = input('두번째 숫자: ')\n",
        "print('a+b=', a+b )"
      ],
      "metadata": {
        "colab": {
          "base_uri": "https://localhost:8080/"
        },
        "id": "6_PeusJPNO0O",
        "outputId": "75ba46eb-fb43-4bab-9dc3-58097ee7bd99"
      },
      "execution_count": 6,
      "outputs": [
        {
          "output_type": "stream",
          "name": "stdout",
          "text": [
            "첫번째 숫자: 1\n",
            "두번째 숫자: 2\n",
            "a+b= 12\n"
          ]
        }
      ]
    },
    {
      "cell_type": "markdown",
      "source": [
        "# 2. 출력함수"
      ],
      "metadata": {
        "id": "pTcgWDyLNtVE"
      }
    },
    {
      "cell_type": "code",
      "source": [
        "# 1. 여러줄 출력\n",
        "'출력합니다.'\n"
      ],
      "metadata": {
        "id": "w2boocXENxoo"
      },
      "execution_count": null,
      "outputs": []
    },
    {
      "cell_type": "code",
      "source": [
        "# 2, 여러값 출력\n",
        "print('hello', 'world', '!')"
      ],
      "metadata": {
        "id": "F7zK3kepP2-D"
      },
      "execution_count": null,
      "outputs": []
    },
    {
      "cell_type": "code",
      "source": [
        "# 3. sep 구분자\n",
        "print('hello', 'world', '!', sep='-')"
      ],
      "metadata": {
        "colab": {
          "base_uri": "https://localhost:8080/"
        },
        "id": "9R9KlJOuP_H7",
        "outputId": "b0f990c9-e9e7-4ea8-a314-d02b089f646f"
      },
      "execution_count": 7,
      "outputs": [
        {
          "output_type": "stream",
          "name": "stdout",
          "text": [
            "hello-world-!\n"
          ]
        }
      ]
    },
    {
      "cell_type": "code",
      "source": [
        "# 4. sep, end 구분자\n",
        "print('hello', 'world', '!', sep='-', end='!!!')"
      ],
      "metadata": {
        "colab": {
          "base_uri": "https://localhost:8080/"
        },
        "id": "10jyXH7zQL3H",
        "outputId": "cfd0675e-a937-4d8b-d0d2-6081d65244c2"
      },
      "execution_count": 8,
      "outputs": [
        {
          "output_type": "stream",
          "name": "stdout",
          "text": [
            "hello-world-!!!!"
          ]
        }
      ]
    },
    {
      "cell_type": "code",
      "source": [
        "# 4-1. f-string\n",
        "name='licat'\n",
        "age=10\n",
        "print(f'제 이름은 {name}, 나이는 {age}입니다.')"
      ],
      "metadata": {
        "colab": {
          "base_uri": "https://localhost:8080/"
        },
        "id": "ffR87DVbRnqm",
        "outputId": "432e78ca-86af-4583-99e6-725d5e505ba6"
      },
      "execution_count": 9,
      "outputs": [
        {
          "output_type": "stream",
          "name": "stdout",
          "text": [
            "제 이름은 licat, 나이는 10입니다.\n"
          ]
        }
      ]
    },
    {
      "cell_type": "code",
      "source": [
        "# 4-2 f-string 인풋\n",
        "name = input('이름 입력: ')\n",
        "age = int(input('나이 입력: '))\n",
        "print(f'제 이름은 {name}, 나이는 {age}입니다.')"
      ],
      "metadata": {
        "colab": {
          "base_uri": "https://localhost:8080/"
        },
        "id": "d8n_C4q8R4RR",
        "outputId": "cfcd26cd-9fa0-47aa-8ba7-eeb655d1c2c3"
      },
      "execution_count": 10,
      "outputs": [
        {
          "output_type": "stream",
          "name": "stdout",
          "text": [
            "이름 입력: 유진선\n",
            "나이 입력: 34\n",
            "제 이름은 유진선, 나이는 34입니다.\n"
          ]
        }
      ]
    },
    {
      "cell_type": "code",
      "source": [
        "# 5. None\n",
        "a = None\n",
        "print(a)"
      ],
      "metadata": {
        "colab": {
          "base_uri": "https://localhost:8080/"
        },
        "id": "AEW4be6pUEwP",
        "outputId": "3d4874f8-63cc-4c1c-9144-69509cb30662"
      },
      "execution_count": 11,
      "outputs": [
        {
          "output_type": "stream",
          "name": "stdout",
          "text": [
            "None\n"
          ]
        }
      ]
    }
  ]
}