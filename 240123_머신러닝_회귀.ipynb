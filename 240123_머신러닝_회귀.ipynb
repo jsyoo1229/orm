{
  "nbformat": 4,
  "nbformat_minor": 0,
  "metadata": {
    "colab": {
      "provenance": [],
      "include_colab_link": true
    },
    "kernelspec": {
      "name": "python3",
      "display_name": "Python 3"
    },
    "language_info": {
      "name": "python"
    }
  },
  "cells": [
    {
      "cell_type": "markdown",
      "metadata": {
        "id": "view-in-github",
        "colab_type": "text"
      },
      "source": [
        "<a href=\"https://colab.research.google.com/github/jsyoo1229/orm/blob/main/240123_%EB%A8%B8%EC%8B%A0%EB%9F%AC%EB%8B%9D_%ED%9A%8C%EA%B7%80.ipynb\" target=\"_parent\"><img src=\"https://colab.research.google.com/assets/colab-badge.svg\" alt=\"Open In Colab\"/></a>"
      ]
    },
    {
      "cell_type": "markdown",
      "source": [
        "# 1. 회귀분석\n",
        "* 타겟이 연속형이기 때문에 회귀를 적용해야한다"
      ],
      "metadata": {
        "id": "CnFOfvaf0gvR"
      }
    },
    {
      "cell_type": "code",
      "execution_count": null,
      "metadata": {
        "id": "_4ssFOHPzhhc"
      },
      "outputs": [],
      "source": [
        "import pandas as pd\n",
        "dataset = pd.read_csv('/content/california_housing_train.csv')"
      ]
    },
    {
      "cell_type": "code",
      "source": [
        "print(dataset)"
      ],
      "metadata": {
        "id": "S5NhMKG90TaU"
      },
      "execution_count": null,
      "outputs": []
    },
    {
      "cell_type": "code",
      "source": [
        "dataset.info()"
      ],
      "metadata": {
        "id": "6pVCfG-y0YYZ"
      },
      "execution_count": null,
      "outputs": []
    },
    {
      "cell_type": "code",
      "source": [
        "dataset.describe()"
      ],
      "metadata": {
        "id": "9V0Dm4Tz0r9F"
      },
      "execution_count": null,
      "outputs": []
    },
    {
      "cell_type": "code",
      "source": [
        "df = dataset"
      ],
      "metadata": {
        "id": "BKUrlZcC1ccz"
      },
      "execution_count": null,
      "outputs": []
    },
    {
      "cell_type": "code",
      "source": [
        "import numpy as np\n",
        "import matplotlib.pyplot as plt\n",
        "import seaborn as sns\n",
        "\n",
        "# 로그 변환 수행\n",
        "df['log_median_income'] = np.log(df['median_income'])\n",
        "\n",
        "# 원래 데이터와 로그 변환된 데이터의 분포 비교를 위한 시각화\n",
        "plt.figure(figsize=(12, 6))\n",
        "\n",
        "# 원래 데이터의 분포 (median_income)\n",
        "plt.subplot(1, 2, 1)\n",
        "sns.histplot(df['median_income'], kde=True, bins=30)\n",
        "plt.title('Original Median Income Distribution')\n",
        "\n",
        "# 로그 변환된 데이터의 분포 (log_median_income)\n",
        "plt.subplot(1, 2, 2)\n",
        "sns.histplot(df['log_median_income'], kde=True, bins=30)\n",
        "plt.title('Log Transformed Median Income Distribution')\n",
        "\n",
        "plt.tight_layout()\n",
        "plt.show()"
      ],
      "metadata": {
        "id": "7brreknD0tqo"
      },
      "execution_count": null,
      "outputs": []
    },
    {
      "cell_type": "code",
      "source": [
        "# 로그 변환된 데이터 확인\n",
        "df[['median_income', 'log_median_income']].head()"
      ],
      "metadata": {
        "id": "59eV373P1d1i"
      },
      "execution_count": null,
      "outputs": []
    },
    {
      "cell_type": "code",
      "source": [
        "# 데이터 분포 확인을 위한 히스토그램\n",
        "df.hist(bins=20, figsize=(12, 8))\n",
        "plt.tight_layout()\n",
        "plt.show()\n",
        "\n",
        "# 상관 관계 분석을 위한 히트맵\n",
        "plt.figure(figsize=(10, 8))\n",
        "sns.heatmap(df.corr(), annot=True, fmt='.2f', cmap='coolwarm')\n",
        "plt.show()"
      ],
      "metadata": {
        "id": "ykrdaNA62HTa"
      },
      "execution_count": null,
      "outputs": []
    },
    {
      "cell_type": "code",
      "source": [
        "from sklearn.linear_model import LinearRegression\n",
        "from sklearn.model_selection import train_test_split\n",
        "from sklearn.metrics import mean_squared_error, r2_score\n",
        "\n",
        "# 독립변수와 종속변수 분리\n",
        "X = df.drop('median_house_value', axis=1)\n",
        "y = df['median_house_value']\n",
        "\n",
        "# 학습 데이터와 테스트 데이터 분리\n",
        "X_train, X_test, y_train, y_test = train_test_split(X, y, test_size=0.2, random_state=0)\n",
        "\n",
        "# 선형 회귀 모델 생성 및 학습\n",
        "model = LinearRegression()\n",
        "model.fit(X_train, y_train)"
      ],
      "metadata": {
        "id": "EUP0J6PN2fUo"
      },
      "execution_count": null,
      "outputs": []
    },
    {
      "cell_type": "code",
      "source": [
        "# 테스트 데이터에 대한 예측 수행\n",
        "y_pred = model.predict(X_test)\n",
        "\n",
        "# 모델 성능 평가\n",
        "mse = mean_squared_error(y_test, y_pred)\n",
        "r2 = r2_score(y_test, y_pred)\n",
        "\n",
        "print('MSE:', mse)\n",
        "print('R² Score:', r2)"
      ],
      "metadata": {
        "id": "LIbCBGvX6ue0"
      },
      "execution_count": null,
      "outputs": []
    },
    {
      "cell_type": "code",
      "source": [
        "# 선형 회귀 모델의 계수 출력\n",
        "coefficients = pd.DataFrame(model.coef_, X.columns, columns=['Coefficient'])\n",
        "print(coefficients)\n",
        "\n",
        "# 계수의 중요도 해석\n",
        "# 예: 'median_income'의 계수가 높고 유의미하다면, 이 변수는 주택 가격에 큰 영향을 미치는 것으로 해석할 수 있습니다.\n"
      ],
      "metadata": {
        "id": "a67nB8pN64Qt"
      },
      "execution_count": null,
      "outputs": []
    },
    {
      "cell_type": "code",
      "source": [
        "from sklearn.preprocessing import StandardScaler\n",
        "\n",
        "# 표준화를 위한 객체 생성\n",
        "scaler = StandardScaler()\n",
        "\n",
        "# 독립변수에 대한 스케일링 수행\n",
        "X_scaled = scaler.fit_transform(X)\n",
        "\n",
        "# 스케일링된 데이터로 학습 데이터와 테스트 데이터 분리\n",
        "X_train_scaled, X_test_scaled, y_train, y_test = train_test_split(X_scaled, y, test_size=0.2, random_state=0)\n",
        "\n",
        "# 스케일링된 데이터로 선형 회귀 모델 재학습\n",
        "model_scaled = LinearRegression()\n",
        "model_scaled.fit(X_train_scaled, y_train)\n",
        "\n",
        "# 스케일링 전후 모델 성능 비교\n",
        "y_pred = model.predict(X_test)\n",
        "y_pred_scaled = model_scaled.predict(X_test_scaled)\n",
        "\n",
        "mse_before = mean_squared_error(y_test, y_pred)\n",
        "mse_after = mean_squared_error(y_test, y_pred_scaled)\n",
        "\n",
        "print('MSE before scaling:', mse_before)\n",
        "print('MSE after scaling:', mse_after)"
      ],
      "metadata": {
        "colab": {
          "base_uri": "https://localhost:8080/"
        },
        "id": "ZcpEs4mk7f80",
        "outputId": "60732ec9-4213-47a0-ad54-14f2ac183008"
      },
      "execution_count": null,
      "outputs": [
        {
          "output_type": "stream",
          "name": "stdout",
          "text": [
            "MSE before scaling: 4737434289.781313\n",
            "MSE after scaling: 4737434289.781304\n"
          ]
        }
      ]
    },
    {
      "cell_type": "code",
      "source": [],
      "metadata": {
        "id": "cn6CLr638m9N"
      },
      "execution_count": null,
      "outputs": []
    }
  ]
}