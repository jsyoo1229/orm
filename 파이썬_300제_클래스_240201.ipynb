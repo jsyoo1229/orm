{
  "nbformat": 4,
  "nbformat_minor": 0,
  "metadata": {
    "colab": {
      "provenance": [],
      "authorship_tag": "ABX9TyMK+TOZ7nwKoRCCFy+uAy40",
      "include_colab_link": true
    },
    "kernelspec": {
      "name": "python3",
      "display_name": "Python 3"
    },
    "language_info": {
      "name": "python"
    }
  },
  "cells": [
    {
      "cell_type": "markdown",
      "metadata": {
        "id": "view-in-github",
        "colab_type": "text"
      },
      "source": [
        "<a href=\"https://colab.research.google.com/github/jsyoo1229/orm/blob/main/%ED%8C%8C%EC%9D%B4%EC%8D%AC_300%EC%A0%9C_%ED%81%B4%EB%9E%98%EC%8A%A4_240201.ipynb\" target=\"_parent\"><img src=\"https://colab.research.google.com/assets/colab-badge.svg\" alt=\"Open In Colab\"/></a>"
      ]
    },
    {
      "cell_type": "markdown",
      "source": [
        "###252 클래스 정의\n",
        "비어있는 사람 (Human) 클래스를 \"정의\" 해보세요."
      ],
      "metadata": {
        "id": "rbt2sallvhUs"
      }
    },
    {
      "cell_type": "code",
      "source": [
        "class Human:\n",
        "    pass"
      ],
      "metadata": {
        "id": "xdvIEpG-vwvj"
      },
      "execution_count": 1,
      "outputs": []
    },
    {
      "cell_type": "markdown",
      "source": [
        "###253 인스턴스 생성\n",
        "사람 (Human) 클래스의 인스턴스를 \"생성\" 하고 이를 areum 변수로 바인딩해보세요."
      ],
      "metadata": {
        "id": "v8QtmZnbv9mN"
      }
    },
    {
      "cell_type": "code",
      "source": [
        "areum = Human()"
      ],
      "metadata": {
        "id": "aNPWnTySv--q"
      },
      "execution_count": 3,
      "outputs": []
    },
    {
      "cell_type": "markdown",
      "source": [
        "###254 클래스 생성자-1\n",
        "사람 (Human) 클래스에 \"응애응애\"를 출력하는 생성자를 추가하세요."
      ],
      "metadata": {
        "id": "3gIZEhS6webK"
      }
    },
    {
      "cell_type": "code",
      "source": [
        "class Human:\n",
        "    def __init__(self):\n",
        "        print('응애응애')\n",
        "\n",
        "areum = Human()"
      ],
      "metadata": {
        "colab": {
          "base_uri": "https://localhost:8080/"
        },
        "id": "kDXoWoXXwiW3",
        "outputId": "8a8541b0-fc2b-4f4a-91db-729d3a50b3ae"
      },
      "execution_count": 7,
      "outputs": [
        {
          "output_type": "stream",
          "name": "stdout",
          "text": [
            "응애응애\n"
          ]
        }
      ]
    },
    {
      "cell_type": "markdown",
      "source": [
        "###255 클래스 생성자-2\n",
        "사람 (Human) 클래스에 (이름, 나이, 성별)을 받는 생성자를 추가하세요."
      ],
      "metadata": {
        "id": "6bn-gXNhxA-D"
      }
    },
    {
      "cell_type": "code",
      "source": [
        "class Human:\n",
        "    def __init__(self, name, age, gender):\n",
        "        self.name = name\n",
        "        self.age = age\n",
        "        self.gender = gender\n",
        "\n",
        "\n",
        "        print(f'이름: {name}, 나이: {age}, 성별:{gender}, 응애응애')\n",
        "\n",
        "areum = Human('아리아나', '20', '여자')\n"
      ],
      "metadata": {
        "colab": {
          "base_uri": "https://localhost:8080/"
        },
        "id": "OvQKB2t6xEQA",
        "outputId": "bbfbd4b8-ae35-41ea-86c7-eca87c25affd"
      },
      "execution_count": 9,
      "outputs": [
        {
          "output_type": "stream",
          "name": "stdout",
          "text": [
            "이름: 아리아나, 나이: 20, 성별:여자, 응애응애\n"
          ]
        }
      ]
    },
    {
      "cell_type": "markdown",
      "source": [
        "###256 인스턴스 속성에 접근\n",
        "255에서 생성한 인스턴스의 이름, 나이, 성별을 출력하세요. 인스턴스 변수에 접근하여 값을 출력하면 됩니다."
      ],
      "metadata": {
        "id": "-2jdv1FOyXhl"
      }
    },
    {
      "cell_type": "code",
      "source": [
        "areum.age"
      ],
      "metadata": {
        "colab": {
          "base_uri": "https://localhost:8080/",
          "height": 35
        },
        "id": "Z_G1iuOKyYsJ",
        "outputId": "7d7ac34c-9353-40d1-d5d5-3aee7b798a7a"
      },
      "execution_count": 10,
      "outputs": [
        {
          "output_type": "execute_result",
          "data": {
            "text/plain": [
              "'20'"
            ],
            "application/vnd.google.colaboratory.intrinsic+json": {
              "type": "string"
            }
          },
          "metadata": {},
          "execution_count": 10
        }
      ]
    },
    {
      "cell_type": "markdown",
      "source": [
        "###257 클래스 메소드 - 1\n",
        "사람 (Human) 클래스에서 이름, 나이, 성별을 출력하는 who() 메소드를 추가하세요."
      ],
      "metadata": {
        "id": "88vdczPQyhji"
      }
    },
    {
      "cell_type": "code",
      "source": [
        "class Human:\n",
        "    def __init__(self, name, age, gender):\n",
        "        self.name = name\n",
        "        self.age = age\n",
        "        self.gender = gender\n",
        "\n",
        "    def who(self):\n",
        "        print(f'이름: {self.name}, 나이: {self.age}, 성별: {self.gender}')\n",
        "\n",
        "\n",
        "ariana = Human('아리아나', '20', '여자')\n",
        "ariana.who()\n"
      ],
      "metadata": {
        "colab": {
          "base_uri": "https://localhost:8080/"
        },
        "id": "QGqkdHYJymaF",
        "outputId": "460e1871-e576-4f26-f5b6-27b15ffdd96e"
      },
      "execution_count": 12,
      "outputs": [
        {
          "output_type": "stream",
          "name": "stdout",
          "text": [
            "이름: 아리아나, 나이: 20, 성별: 여자\n"
          ]
        }
      ]
    },
    {
      "cell_type": "markdown",
      "source": [
        "###258 클래스 메소드 - 2\n",
        "사람 (Human) 클래스에 (이름, 나이, 성별)을 받는 setInfo 메소드를 추가하세요.\n",
        "\n",
        ">>> areum = Human(\"모름\", 0, \"모름\")\n",
        ">>> areum.setInfo(\"아름\", 25, \"여자\")"
      ],
      "metadata": {
        "id": "qd92_vu2zWHM"
      }
    },
    {
      "cell_type": "code",
      "source": [
        "class Human:\n",
        "    def __init__(self, name, age, gender):\n",
        "        self.name = name\n",
        "        self.age = age\n",
        "        self.gender = gender\n",
        "\n",
        "    def who(self):\n",
        "        print(f'이름: {self.name}, 나이: {self.age}, 성별: {self.gender}')\n",
        "\n",
        "    def setInfo(self, name, age, gender):\n",
        "         self.name = name\n",
        "         self.age = age\n",
        "         self.gender = gender\n",
        "\n",
        "\n",
        "\n",
        "\n",
        "ariana = Human('아리아나', '20', '여자')\n",
        "ariana.setInfo('아리아나 그란데', '22', '여자')\n",
        "ariana.who()\n"
      ],
      "metadata": {
        "colab": {
          "base_uri": "https://localhost:8080/"
        },
        "id": "hD_hYyNEzXG1",
        "outputId": "918842b0-7e84-451d-fb72-36aa96355858"
      },
      "execution_count": 17,
      "outputs": [
        {
          "output_type": "stream",
          "name": "stdout",
          "text": [
            "이름: 아리아나 그란데, 나이: 22, 성별: 여자\n"
          ]
        }
      ]
    },
    {
      "cell_type": "markdown",
      "source": [
        "###259 클래스 소멸자\n",
        "사람 (human) 클래스에 \"나의 죽음을 알리지 말라\"를 출력하는 소멸자를 추가하세요."
      ],
      "metadata": {
        "id": "N51kZOaB0WVp"
      }
    },
    {
      "cell_type": "code",
      "source": [
        "class Human:\n",
        "    def __init__(self, name, age, gender):\n",
        "        self.name = name\n",
        "        self.age = age\n",
        "        self.gender = gender\n",
        "\n",
        "    def __del__(self):\n",
        "        print('나의 죽음을 알리지마라')\n",
        "\n",
        "    def who(self):\n",
        "        print(f'이름: {self.name}, 나이: {self.age}, 성별: {self.gender}')\n",
        "\n",
        "    def setInfo(self, name, age, gender):\n",
        "         self.name = name\n",
        "         self.age = age\n",
        "         self.gender = gender\n",
        "\n",
        "\n",
        "ariana = Human('아리아나', '20', '여자')\n",
        "ariana.setInfo('아리아나 그란데', '22', '여자')\n",
        "\n",
        "del(ariana)\n",
        "# ariana.who()\n"
      ],
      "metadata": {
        "id": "qbn1qUC80XVp"
      },
      "execution_count": null,
      "outputs": []
    },
    {
      "cell_type": "code",
      "source": [],
      "metadata": {
        "id": "V8vcOb3T02FK"
      },
      "execution_count": null,
      "outputs": []
    }
  ]
}