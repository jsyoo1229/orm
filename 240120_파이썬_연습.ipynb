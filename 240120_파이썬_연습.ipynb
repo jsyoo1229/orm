{
  "nbformat": 4,
  "nbformat_minor": 0,
  "metadata": {
    "colab": {
      "provenance": [],
      "authorship_tag": "ABX9TyPbBNbmwrL+cq9SsyjZ3iGW",
      "include_colab_link": true
    },
    "kernelspec": {
      "name": "python3",
      "display_name": "Python 3"
    },
    "language_info": {
      "name": "python"
    }
  },
  "cells": [
    {
      "cell_type": "markdown",
      "metadata": {
        "id": "view-in-github",
        "colab_type": "text"
      },
      "source": [
        "<a href=\"https://colab.research.google.com/github/jsyoo1229/orm/blob/main/240120_%ED%8C%8C%EC%9D%B4%EC%8D%AC_%EC%97%B0%EC%8A%B5.ipynb\" target=\"_parent\"><img src=\"https://colab.research.google.com/assets/colab-badge.svg\" alt=\"Open In Colab\"/></a>"
      ]
    },
    {
      "cell_type": "markdown",
      "source": [
        "###Generator"
      ],
      "metadata": {
        "id": "QIv5LVDxOxE0"
      }
    },
    {
      "cell_type": "code",
      "execution_count": null,
      "metadata": {
        "id": "TqwBtkSItVUb"
      },
      "outputs": [],
      "source": [
        "def gen(n):\n",
        "    for x in range(n):\n",
        "        yield x**3\n"
      ]
    },
    {
      "cell_type": "code",
      "source": [
        "gen(10)"
      ],
      "metadata": {
        "colab": {
          "base_uri": "https://localhost:8080/"
        },
        "id": "3z3b97P0uQbJ",
        "outputId": "ab6fce11-f29d-4deb-da26-eb3bc6c22575"
      },
      "execution_count": null,
      "outputs": [
        {
          "output_type": "execute_result",
          "data": {
            "text/plain": [
              "<generator object gen at 0x7bac809ed770>"
            ]
          },
          "metadata": {},
          "execution_count": 6
        }
      ]
    },
    {
      "cell_type": "code",
      "source": [
        "def gen():\n",
        "    x = 0\n",
        "    while True:\n",
        "        yield x\n",
        "        x += 2\n",
        "\n",
        "list(zip('hello', gen()))"
      ],
      "metadata": {
        "colab": {
          "base_uri": "https://localhost:8080/"
        },
        "id": "H8Syg7mTZu4v",
        "outputId": "e51ac19a-0c78-47db-8d91-bbb9b5cf994d"
      },
      "execution_count": null,
      "outputs": [
        {
          "output_type": "execute_result",
          "data": {
            "text/plain": [
              "[('h', 0), ('e', 2), ('l', 4), ('l', 6), ('o', 8)]"
            ]
          },
          "metadata": {},
          "execution_count": 1
        }
      ]
    },
    {
      "cell_type": "markdown",
      "source": [
        "###Module"
      ],
      "metadata": {
        "id": "JV5inBp3O1Z8"
      }
    },
    {
      "cell_type": "code",
      "source": [
        "import a.b.c.info as i\n",
        "\n",
        "i.name"
      ],
      "metadata": {
        "colab": {
          "base_uri": "https://localhost:8080/",
          "height": 35
        },
        "id": "K21C6G2gc_Bo",
        "outputId": "eebef38f-33af-4e7a-9e30-28469bab1f28"
      },
      "execution_count": null,
      "outputs": [
        {
          "output_type": "execute_result",
          "data": {
            "text/plain": [
              "'ariana grangde'"
            ],
            "application/vnd.google.colaboratory.intrinsic+json": {
              "type": "string"
            }
          },
          "metadata": {},
          "execution_count": 2
        }
      ]
    },
    {
      "cell_type": "code",
      "source": [
        "import sys\n",
        "\n",
        "sys.path\n",
        "sys.modules"
      ],
      "metadata": {
        "id": "2Wn6rYR1dMvz"
      },
      "execution_count": null,
      "outputs": []
    },
    {
      "cell_type": "code",
      "source": [
        "from info import name, age, hello\n",
        "\n",
        "print(name)\n",
        "print(age)"
      ],
      "metadata": {
        "colab": {
          "base_uri": "https://localhost:8080/"
        },
        "id": "b4nHaTdtehVY",
        "outputId": "0160d81c-3bc5-4091-a3f0-89faebf3ab5b"
      },
      "execution_count": null,
      "outputs": [
        {
          "output_type": "stream",
          "name": "stdout",
          "text": [
            "ariana\n",
            "20\n"
          ]
        }
      ]
    },
    {
      "cell_type": "code",
      "source": [
        "import os\n",
        "\n",
        "os.mkdir('amanda')\n",
        "\n"
      ],
      "metadata": {
        "id": "StyQ6YdZghzi"
      },
      "execution_count": null,
      "outputs": []
    },
    {
      "cell_type": "code",
      "source": [
        "import json\n",
        "\n",
        "data = [{\n",
        "        \"지역이름\": \"전국\",\n",
        "        \"확진자수\": 24889,\n",
        "        \"격리해제수\": 23030,\n",
        "        \"사망자수\": 438,\n",
        "        \"십만명당발생율\": 48.0,\n",
        "        \"지역별확진자비율\": \"\"\n",
        "    },\n",
        "    {\n",
        "        \"지역이름\": \"서울\",\n",
        "        \"확진자수\": 5607,\n",
        "        \"격리해제수\": 5050,\n",
        "        \"사망자수\": 66,\n",
        "        \"십만명당발생율\": 57.61,\n",
        "        \"지역별확진자비율\": 22.53\n",
        "    }]\n",
        "\n",
        "s = json.dumps(data)   # str\n",
        "print(s)\n",
        "print(type(s))\n",
        "\n",
        "d = json.loads(s)\n",
        "print(d)\n",
        "print(type(d))"
      ],
      "metadata": {
        "colab": {
          "base_uri": "https://localhost:8080/"
        },
        "id": "nHtAT74oiS3w",
        "outputId": "6eec9fcf-2b46-4d60-f53b-71e45d3e324a"
      },
      "execution_count": null,
      "outputs": [
        {
          "output_type": "stream",
          "name": "stdout",
          "text": [
            "[{\"\\uc9c0\\uc5ed\\uc774\\ub984\": \"\\uc804\\uad6d\", \"\\ud655\\uc9c4\\uc790\\uc218\": 24889, \"\\uaca9\\ub9ac\\ud574\\uc81c\\uc218\": 23030, \"\\uc0ac\\ub9dd\\uc790\\uc218\": 438, \"\\uc2ed\\ub9cc\\uba85\\ub2f9\\ubc1c\\uc0dd\\uc728\": 48.0, \"\\uc9c0\\uc5ed\\ubcc4\\ud655\\uc9c4\\uc790\\ube44\\uc728\": \"\"}, {\"\\uc9c0\\uc5ed\\uc774\\ub984\": \"\\uc11c\\uc6b8\", \"\\ud655\\uc9c4\\uc790\\uc218\": 5607, \"\\uaca9\\ub9ac\\ud574\\uc81c\\uc218\": 5050, \"\\uc0ac\\ub9dd\\uc790\\uc218\": 66, \"\\uc2ed\\ub9cc\\uba85\\ub2f9\\ubc1c\\uc0dd\\uc728\": 57.61, \"\\uc9c0\\uc5ed\\ubcc4\\ud655\\uc9c4\\uc790\\ube44\\uc728\": 22.53}]\n",
            "<class 'str'>\n",
            "[{'지역이름': '전국', '확진자수': 24889, '격리해제수': 23030, '사망자수': 438, '십만명당발생율': 48.0, '지역별확진자비율': ''}, {'지역이름': '서울', '확진자수': 5607, '격리해제수': 5050, '사망자수': 66, '십만명당발생율': 57.61, '지역별확진자비율': 22.53}]\n",
            "<class 'list'>\n"
          ]
        }
      ]
    },
    {
      "cell_type": "code",
      "source": [
        "import collections\n",
        "l = [1, 2, 3, 4]\n",
        "d = collections.deque(l)\n",
        "d.rotate(1)\n",
        "d.rotate(4)\n",
        "d"
      ],
      "metadata": {
        "colab": {
          "base_uri": "https://localhost:8080/"
        },
        "id": "2kD3GC1ynKKp",
        "outputId": "3d00e9bb-4413-46eb-b613-582e7a47fd28"
      },
      "execution_count": null,
      "outputs": [
        {
          "output_type": "execute_result",
          "data": {
            "text/plain": [
              "deque([4, 1, 2, 3])"
            ]
          },
          "metadata": {},
          "execution_count": 22
        }
      ]
    },
    {
      "cell_type": "code",
      "source": [
        "s = 'hello world'\n",
        "c = collections.Counter(s)\n",
        "c"
      ],
      "metadata": {
        "colab": {
          "base_uri": "https://localhost:8080/"
        },
        "id": "CTx8baL5n9vT",
        "outputId": "461ecdb7-e76f-4a73-c9a5-4ca2d6cafaea"
      },
      "execution_count": null,
      "outputs": [
        {
          "output_type": "execute_result",
          "data": {
            "text/plain": [
              "Counter({'h': 1, 'e': 1, 'l': 3, 'o': 2, ' ': 1, 'w': 1, 'r': 1, 'd': 1})"
            ]
          },
          "metadata": {},
          "execution_count": 25
        }
      ]
    },
    {
      "cell_type": "code",
      "source": [
        "c.most_common()"
      ],
      "metadata": {
        "colab": {
          "base_uri": "https://localhost:8080/"
        },
        "id": "GvsC1k5gkg-P",
        "outputId": "09a69df6-7d0d-43e0-dd48-ac6d96df2261"
      },
      "execution_count": null,
      "outputs": [
        {
          "output_type": "execute_result",
          "data": {
            "text/plain": [
              "[('l', 3),\n",
              " ('o', 2),\n",
              " ('h', 1),\n",
              " ('e', 1),\n",
              " (' ', 1),\n",
              " ('w', 1),\n",
              " ('r', 1),\n",
              " ('d', 1)]"
            ]
          },
          "metadata": {},
          "execution_count": 26
        }
      ]
    },
    {
      "cell_type": "markdown",
      "source": [
        "###File I/O"
      ],
      "metadata": {
        "id": "Ck8F2m26PBvN"
      }
    },
    {
      "cell_type": "code",
      "source": [
        "with open('text.txt', 'w') as f:\n",
        "    f.write('hello world')"
      ],
      "metadata": {
        "id": "LhbZdl82ooO-"
      },
      "execution_count": null,
      "outputs": []
    },
    {
      "cell_type": "markdown",
      "source": [
        "###Exception Handling"
      ],
      "metadata": {
        "id": "srnbmkEMPHew"
      }
    },
    {
      "cell_type": "code",
      "source": [
        "print('hello')\n",
        "try:\n",
        "    s = 1/0\n",
        "    print(s)\n",
        "except:\n",
        "    print('error 발생')\n",
        "print('world')"
      ],
      "metadata": {
        "colab": {
          "base_uri": "https://localhost:8080/"
        },
        "id": "3qeo5gQfpsnO",
        "outputId": "0482f4a1-c61e-4859-f6b2-798048adc788"
      },
      "execution_count": null,
      "outputs": [
        {
          "output_type": "stream",
          "name": "stdout",
          "text": [
            "hello\n",
            "error 발생\n",
            "world\n"
          ]
        }
      ]
    },
    {
      "cell_type": "markdown",
      "source": [
        "###일차, 고차함수"
      ],
      "metadata": {
        "id": "21t5sNtgPehy"
      }
    },
    {
      "cell_type": "code",
      "source": [
        "l = [1,2,3,4]\n",
        "def apply_function(lst, func):\n",
        "    return list(map(func, lst))\n",
        "\n",
        "result = apply_function(l, lambda x: x*2)\n",
        "print(result)"
      ],
      "metadata": {
        "colab": {
          "base_uri": "https://localhost:8080/"
        },
        "id": "BlRagtUar15i",
        "outputId": "ea7a015e-844c-4e94-bde0-793e34fb144b"
      },
      "execution_count": null,
      "outputs": [
        {
          "output_type": "stream",
          "name": "stdout",
          "text": [
            "[2, 4, 6, 8]\n"
          ]
        }
      ]
    },
    {
      "cell_type": "code",
      "source": [
        "def multiply_by_n(n):\n",
        "    return lambda x: x * n\n",
        "\n",
        "multiplier = multiply_by_n(5)\n",
        "multiplier(3)"
      ],
      "metadata": {
        "colab": {
          "base_uri": "https://localhost:8080/"
        },
        "id": "6bi3gCeduh-O",
        "outputId": "c5f897b3-eb10-43f3-98b1-3e97aeb81e5d"
      },
      "execution_count": null,
      "outputs": [
        {
          "output_type": "execute_result",
          "data": {
            "text/plain": [
              "15"
            ]
          },
          "metadata": {},
          "execution_count": 31
        }
      ]
    },
    {
      "cell_type": "code",
      "source": [
        "class Calc:\n",
        "    pass\n",
        "\n",
        "add = Calc()\n",
        "\n",
        "add.oper = lambda x, y: x + y\n",
        "add.oper(10, 20)"
      ],
      "metadata": {
        "colab": {
          "base_uri": "https://localhost:8080/"
        },
        "id": "xTpZRoaGwqxe",
        "outputId": "c520f268-3127-4cb4-9795-f92b6ac9bb3f"
      },
      "execution_count": null,
      "outputs": [
        {
          "output_type": "execute_result",
          "data": {
            "text/plain": [
              "30"
            ]
          },
          "metadata": {},
          "execution_count": 32
        }
      ]
    },
    {
      "cell_type": "markdown",
      "source": [
        "###Python 알고리즘 베이직 100"
      ],
      "metadata": {
        "id": "gwW8wiC1PlAy"
      }
    },
    {
      "cell_type": "code",
      "source": [
        "https://100.pyalgo.co.kr/?page=10\n",
        "\n",
        "# 게임 밸런스 조절\n",
        "# 문제 설명\n",
        "# 라이캣은 연말 출시할 게임의 게임 난이도를 조절하는 업무를 담당하게 되었습니다.\n",
        "# 우선 능력치가 비정상적으로 높은 캐릭터들의 리스트를 뽑고자 합니다.\n",
        "# 캐릭터 이름, 공격력, 방어력, 체력, 마력이 리스트로 ['Licat', 98, 30, 21, 60]와\n",
        "# 같이 주어졌을 때 모든 능력치의 합이 350 이상이 되는 캐릭터의 이름을 출력하는\n",
        "# solution함수를 완성해주세요.\n",
        "\n",
        "# 제한 사항\n",
        "# 3 ≤ 캐릭터의 수 ≤ 10\n",
        "# 10 ≤ 능력치 ≤ 100\n",
        "\n",
        "# 캐릭터 이름, 공격력, 방어력, 체력, 마력이 리스트로 ['Licat', 98, 30, 21, 60]와\n",
        "# 같이 주어졌을 때 모든 능력치의 합이 350 이상이 되는 캐릭터의 이름을 출력하는\n",
        "# solution함수를 완성해주세요.\n",
        "\n",
        "# 입출력 예\n",
        "# 입력\t출력\n",
        "# [['Licat', 98, 92, 85, 97], ['Mura', 95, 32, 51, 30], ['Binky', 98, 98, 51, 32]]\n",
        "\n",
        "#   ['Licat']\n",
        "# [['Gray', 98, 92, 85, 97], ['Gom', 98, 30, 21, 60], ['Allosa', 98, 90, 99, 98]]\n",
        "\n",
        "#   ['Allosa', 'Gary']\n",
        "\n",
        "# 입출력 설명\n",
        "# [['Licat', 98, 92, 85, 97], ['Mura', 95, 32, 51, 30], ['Binky', 98, 98, 51, 32]]\n",
        "# 이 입력되었을 때\n",
        "#  모든 능력치의 합이 350이 넘는 캐릭터는 'Licat'뿐입니다.\n",
        "#   'Licat'은 98 + 92 + 85 + 97 = 372로 350이 넘어갑니다.\n",
        "#   따라서 'Licat'을 리스트에 담아 출력합니다.\n",
        "#   여러명일 경우 알파벳 순으로 정렬하여 출력하여야 합니다.\n",
        "\n",
        "lst = [['Licat', 98, 92, 85, 97], ['Mura', 95, 32, 51, 30], ['Binky', 98, 98, 51, 32]]\n",
        "\n",
        "def solution(lst):\n",
        "    result = [i[0] for i in lst if i[1]+i[2]+i[3]+i[4] > 350]\n",
        "    return result\n",
        "\n",
        "solution(lst)"
      ],
      "metadata": {
        "colab": {
          "base_uri": "https://localhost:8080/"
        },
        "id": "WbpgosG7OlNd",
        "outputId": "990ac359-0ad5-442c-8d30-71d4ca323b27"
      },
      "execution_count": null,
      "outputs": [
        {
          "output_type": "execute_result",
          "data": {
            "text/plain": [
              "['Licat']"
            ]
          },
          "metadata": {},
          "execution_count": 10
        }
      ]
    },
    {
      "cell_type": "code",
      "source": [
        "l = [1, 2, 100, 200, 3, 4, 10, 20]\n",
        "\n",
        "sorted(l)"
      ],
      "metadata": {
        "colab": {
          "base_uri": "https://localhost:8080/"
        },
        "id": "7gERyHjYTvv6",
        "outputId": "b6eb4d1d-f496-42cf-8a90-d12aba3fc4e7"
      },
      "execution_count": null,
      "outputs": [
        {
          "output_type": "execute_result",
          "data": {
            "text/plain": [
              "[1, 2, 3, 4, 10, 20, 100, 200]"
            ]
          },
          "metadata": {},
          "execution_count": 11
        }
      ]
    },
    {
      "cell_type": "code",
      "source": [
        "sorted(l, reverse = True)"
      ],
      "metadata": {
        "colab": {
          "base_uri": "https://localhost:8080/"
        },
        "id": "Que2UkOzT4mP",
        "outputId": "b132320d-b749-460f-bb8a-ba9a96a07052"
      },
      "execution_count": null,
      "outputs": [
        {
          "output_type": "execute_result",
          "data": {
            "text/plain": [
              "[200, 100, 20, 10, 4, 3, 2, 1]"
            ]
          },
          "metadata": {},
          "execution_count": 12
        }
      ]
    },
    {
      "cell_type": "code",
      "source": [
        "l = ['hello', 'l', 'hllo', 'hel', 'heo', 'a']\n",
        "sorted(l)"
      ],
      "metadata": {
        "colab": {
          "base_uri": "https://localhost:8080/"
        },
        "id": "ZwxT6LVhT8hn",
        "outputId": "740c8e51-4c04-45fd-d83c-e45a165c740d"
      },
      "execution_count": null,
      "outputs": [
        {
          "output_type": "execute_result",
          "data": {
            "text/plain": [
              "['a', 'hel', 'hello', 'heo', 'hllo', 'l']"
            ]
          },
          "metadata": {},
          "execution_count": 14
        }
      ]
    },
    {
      "cell_type": "code",
      "source": [
        "sorted(l, key = len)"
      ],
      "metadata": {
        "colab": {
          "base_uri": "https://localhost:8080/"
        },
        "id": "yF_Fce4CUEgK",
        "outputId": "d2989703-c293-4dda-f1e7-6e3920583758"
      },
      "execution_count": null,
      "outputs": [
        {
          "output_type": "execute_result",
          "data": {
            "text/plain": [
              "['l', 'a', 'hel', 'heo', 'hllo', 'hello']"
            ]
          },
          "metadata": {},
          "execution_count": 16
        }
      ]
    },
    {
      "cell_type": "code",
      "source": [
        "l = ['21', '21', '12', '22', '53', '15']\n",
        "sorted(l, key = lambda x: x[-1])"
      ],
      "metadata": {
        "colab": {
          "base_uri": "https://localhost:8080/"
        },
        "id": "Ss67ct2oUNH5",
        "outputId": "3aab7b00-73d7-4e52-9c87-caa327ac4683"
      },
      "execution_count": null,
      "outputs": [
        {
          "output_type": "execute_result",
          "data": {
            "text/plain": [
              "['21', '21', '12', '22', '53', '15']"
            ]
          },
          "metadata": {},
          "execution_count": 17
        }
      ]
    },
    {
      "cell_type": "code",
      "source": [
        "https://100.pyalgo.co.kr/?page=12\n",
        "\n",
        "# 우편 번호 정렬\n",
        "# 문제 설명\n",
        "# 각 주소가 담긴 배열과 우편번호 목록이 딕셔너리 형태로 주어질 때 에서\n",
        "#  우편번호 오름차순 순서대로 주소를 정렬하는 코드를 작성해주세요.\n",
        "\n",
        "# 제한 사항\n",
        "# 63002 ≤ 우편번호 ≤ 63364\n",
        "# 우편번호는 항상 '시 - 동 - 길' 순으로 주어집니다. 예외사항은 없습니다.\n",
        "# 같은 동은 주어지지 않으며, 같은 우편번호도 주어지지 않습니다.\n",
        "\n",
        "# 입출력 예\n",
        "# 입력\t출력\n",
        "# [['제주시 A동 한라산길 61', '제주시 B동 백록담길 63', '제주시 C동 사라봉길 31'],\n",
        "#  {'A동': 63007, 'B동': 63010, 'C동': 63002}]\n",
        "\n",
        "# ['제주시 C동 사라봉길 31', '제주시 A동 한라산길 61', '제주시 B동 백록담길 63']\n",
        "\n",
        "# 입출력 설명\n",
        "# ['제주시 A동 한라산길 61', '제주시 B동 백록담길 63', '제주시 C동 사라봉길 31']\n",
        "# 에서 각각의 우편변호는 63007, 63010, 63002입니다. 따라서 우편 번호 오름차순으로\n",
        "# 정렬을 하면 63002, 63007, 63010으로 정렬을 해야 하고, 이는 C동, B동, A동입니다.\n",
        "# 따라서 결과 값은\n",
        "#  ['제주시 C동 사라봉길 31', '제주시 A동 한라산길 61', '제주시 B동 백록담길 63']\n",
        "#  이 되어야 합니다.\n",
        "\n",
        "lst = [['제주시 A동 한라산길 61', '제주시 B동 백록담길 63', '제주시 C동 사라봉길 31'],\n",
        " {'A동': 63007, 'B동': 63010, 'C동': 63002}]\n",
        "\n",
        "\n",
        "def solution(data):\n",
        "    return sorted(data[0], key = lambda x: data[1].get(x.split(' ')[1]))\n",
        "\n",
        "solution(lst)"
      ],
      "metadata": {
        "colab": {
          "base_uri": "https://localhost:8080/"
        },
        "id": "DjzpBV-YUhQ8",
        "outputId": "b62b82fa-8185-4c9a-814a-f4416da85b39"
      },
      "execution_count": 79,
      "outputs": [
        {
          "output_type": "execute_result",
          "data": {
            "text/plain": [
              "['제주시 C동 사라봉길 31', '제주시 A동 한라산길 61', '제주시 B동 백록담길 63']"
            ]
          },
          "metadata": {},
          "execution_count": 79
        }
      ]
    },
    {
      "cell_type": "code",
      "source": [
        "https://100.pyalgo.co.kr/?page=13\n",
        "\n",
        "# ['Moby Dick', '1984', 'To Kill a Mockingbird']\n",
        "\n",
        "lst = [['Moby Dick', 'To Kill a Mockingbird', '1984', 'A'],\n",
        " {'Moby Dick': 1851, 'A': 1851, 'To Kill a Mockingbird': 1960, '1984': 1949}]\n",
        "# book_name, pulished_year = lst  # 언패킹\n",
        "\n",
        "\n",
        "\n",
        "def solution(l):\n",
        "    book_name, pulished_year = lst  # 언패킹\n",
        "    return sorted(book_name, key = lambda x: (pulished_year[x], x))   # pulished_year[x]: dict의 key로, value 얻어냄.\n",
        "                                                                      # , x: 2차 기준\n",
        "\n",
        "\n",
        "# book_name\n",
        "# pulished_year\n",
        "solution(lst)\n",
        "\n"
      ],
      "metadata": {
        "colab": {
          "base_uri": "https://localhost:8080/"
        },
        "id": "vTOr8T1l5R-y",
        "outputId": "8708c40b-6156-4fc7-b2ca-7d86682b43d1"
      },
      "execution_count": null,
      "outputs": [
        {
          "output_type": "execute_result",
          "data": {
            "text/plain": [
              "['A', 'Moby Dick', '1984', 'To Kill a Mockingbird']"
            ]
          },
          "metadata": {},
          "execution_count": 74
        }
      ]
    },
    {
      "cell_type": "code",
      "source": [
        "lst = [['Moby Dick', 'To Kill a Mockingbird', '1984', 'A'],\n",
        " {'Moby Dick': 1851, 'A': 1851, 'To Kill a Mockingbird': 1960, '1984': 1949}]\n",
        "\n",
        "book_name, pulished_year = lst  # 언패킹\n",
        "\n",
        "pulished_year.get('Moby Dick')  #dict value 가져오기\n"
      ],
      "metadata": {
        "colab": {
          "base_uri": "https://localhost:8080/"
        },
        "id": "ERHnFmAQL6Ys",
        "outputId": "596acb06-cd48-4233-8a3d-a709a06124e1"
      },
      "execution_count": 78,
      "outputs": [
        {
          "output_type": "execute_result",
          "data": {
            "text/plain": [
              "1851"
            ]
          },
          "metadata": {},
          "execution_count": 78
        }
      ]
    }
  ]
}