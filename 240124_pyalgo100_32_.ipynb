{
  "nbformat": 4,
  "nbformat_minor": 0,
  "metadata": {
    "colab": {
      "provenance": [],
      "authorship_tag": "ABX9TyMJHzAp6jXC0tlRrOfqyYel",
      "include_colab_link": true
    },
    "kernelspec": {
      "name": "python3",
      "display_name": "Python 3"
    },
    "language_info": {
      "name": "python"
    }
  },
  "cells": [
    {
      "cell_type": "markdown",
      "metadata": {
        "id": "view-in-github",
        "colab_type": "text"
      },
      "source": [
        "<a href=\"https://colab.research.google.com/github/jsyoo1229/orm/blob/main/240124_pyalgo100_32_.ipynb\" target=\"_parent\"><img src=\"https://colab.research.google.com/assets/colab-badge.svg\" alt=\"Open In Colab\"/></a>"
      ]
    },
    {
      "cell_type": "markdown",
      "source": [
        "###32"
      ],
      "metadata": {
        "id": "6WbQ8qYJ7T6U"
      }
    },
    {
      "cell_type": "code",
      "execution_count": null,
      "metadata": {
        "colab": {
          "base_uri": "https://localhost:8080/"
        },
        "id": "ungOOMtzw7nH",
        "outputId": "72380570-f87c-4c09-e3ad-3e45ab7a907b"
      },
      "outputs": [
        {
          "output_type": "stream",
          "name": "stdout",
          "text": [
            "AND 연산 결과: 0\n",
            "OR 연산 결과: 7\n"
          ]
        }
      ],
      "source": [
        "def bit_and_or(nums):\n",
        "    if not nums:\n",
        "        return 0, 0  # 배열이 비어있는 경우\n",
        "\n",
        "    bit_and = nums[0]\n",
        "    bit_or = nums[0]\n",
        "\n",
        "    for num in nums[1:]:\n",
        "        bit_and &= num\n",
        "        bit_or |= num\n",
        "\n",
        "    return bit_and, bit_or\n",
        "\n",
        "# 예시 테스트\n",
        "nums = [1, 2, 3, 4]\n",
        "and_result, or_result = bit_and_or(nums)\n",
        "print(\"AND 연산 결과:\", and_result)\n",
        "print(\"OR 연산 결과:\", or_result)\n"
      ]
    },
    {
      "cell_type": "code",
      "source": [
        "def solution(data):\n",
        "    if not data:\n",
        "        return 0\n",
        "\n",
        "    bin_and = data[0]   #배열의 첫 요소로 기준점\n",
        "    bin_or = data[0]\n",
        "\n",
        "    for i in data[1:]:  #배열의 두번째 요소부터 반복 연산\n",
        "        bin_and &= i\n",
        "        bin_or |= i\n",
        "\n",
        "    return bin_and, bin_or\n",
        "\n",
        "nums = [1, 2, 3, 4]\n",
        "and_b, or_b = solution(nums)\n",
        "\n",
        "print(f'비트 and: {and_b}, 비트 or: {or_b}')"
      ],
      "metadata": {
        "colab": {
          "base_uri": "https://localhost:8080/"
        },
        "id": "6wSgbufH0xj6",
        "outputId": "e42bfd3c-b22b-4594-fb3f-5b50b9e0eb68"
      },
      "execution_count": null,
      "outputs": [
        {
          "output_type": "stream",
          "name": "stdout",
          "text": [
            "비트 and: 0, 비트 or: 7\n"
          ]
        }
      ]
    },
    {
      "cell_type": "markdown",
      "source": [
        "###33"
      ],
      "metadata": {
        "id": "4ZW88yHR6ahJ"
      }
    },
    {
      "cell_type": "code",
      "source": [
        "# 주어진 문자열이 유효한 이메일 주소인지 확인하는 함수를 작성해주세요.\n",
        "# 이메일 주소는 일반적으로 local-part@domain 형식을 따릅니다.\n",
        "# 여기서 local-part는 대소문자, 숫자, 특정 특수 문자(., _, +)를 포함할 수 있고, domain은 대소문자, 숫자, 하이픈(-)과 점(.)을 포함할 수 있습니다.\n",
        "# domain의 마지막 부분은 점(.)으로 구분된 두 글자 이상의 알파벳 문자열이어야 합니다.\n",
        "\n",
        "import re\n",
        "\n",
        "def is_valid_email(email):\n",
        "    # 이메일 주소를 검증하는 정규 표현식\n",
        "    pattern = r'^[a-zA-Z0-9._+]+@[a-zA-Z0-9.-]+\\.[a-zA-Z]{2,}$'   # ^: 시작, $: 끝, \\.: .\n",
        "\n",
        "    # 주어진 이메일이 정규 표현식과 일치하는지 확인\n",
        "    if re.match(pattern, email):  #match()\n",
        "        return True\n",
        "    else:\n",
        "        return False\n",
        "\n",
        "# 테스트\n",
        "print(is_valid_email(\"example@test.com\"))  # 유효한 이메일\n",
        "print(is_valid_email(\"example_test.com\"))  # 유효하지 않은 이메일 (at 기호(@)가 없음)\n",
        "print(is_valid_email(\"example@test\"))  # 유효하지 않은 이메일 (도메인의 마지막 부분이 두 글자 이상의 알파벳 문자열이 아님)\n",
        "print(is_valid_email(\"example@te_st.com\"))  # 유효한 이메일\n",
        "\n"
      ],
      "metadata": {
        "id": "Jz8jwUWJWPGt"
      },
      "execution_count": null,
      "outputs": []
    },
    {
      "cell_type": "code",
      "source": [
        "import re\n",
        "\n",
        "# 주어진 문자열이 유효한 이메일 주소인지 확인하는 함수를 작성해주세요.\n",
        "# 이메일 주소는 일반적으로 local-part@domain 형식을 따릅니다.\n",
        "# 여기서 local-part는 대소문자, 숫자, 특정 특수 문자(., _, +)를 포함할 수 있고, domain은 대소문자, 숫자, 하이픈(-)과 점(.)을 포함할 수 있습니다.\n",
        "# domain의 마지막 부분은 점(.)으로 구분된 두 글자 이상의 알파벳 문자열이어야 합니다.\n",
        "\n",
        "# def solution(data):\n",
        "pattern = r'^[a-zA-Z0-9._+]+@[a-zA-Z0-9-.]+\\.[a-zA-Z]{2,}$'\n",
        "\n",
        "email = 'example@test.com'\n",
        "re.match(pattern, email)\n",
        "\n",
        "\n"
      ],
      "metadata": {
        "colab": {
          "base_uri": "https://localhost:8080/"
        },
        "id": "SH8eS7mmWww6",
        "outputId": "b2095e46-785f-4b17-9d20-9a905f85b912"
      },
      "execution_count": null,
      "outputs": [
        {
          "output_type": "execute_result",
          "data": {
            "text/plain": [
              "<re.Match object; span=(0, 16), match='example@test.com'>"
            ]
          },
          "metadata": {},
          "execution_count": 6
        }
      ]
    },
    {
      "cell_type": "markdown",
      "source": [
        "###34"
      ],
      "metadata": {
        "id": "WqBkrRUrW-L4"
      }
    },
    {
      "cell_type": "code",
      "source": [
        "\"The event will happen on 2024-01-20.\"\t#[(2024, 01, 20)]\n",
        "\"Dates: 2023-12-31, 2024-01-01, and 2024-02-28.\"\t#[(2023, 12, 31), (2024, 01, 01), (2024, 02, 28)]\n",
        "\"No dates here.\"\t#[]"
      ],
      "metadata": {
        "id": "iQXyhbx02WIw"
      },
      "execution_count": null,
      "outputs": []
    },
    {
      "cell_type": "code",
      "source": [
        "import re\n",
        "\n",
        "def extract_dates(text):\n",
        "    # 날짜 형식을 찾기 위한 정규 표현식\n",
        "    pattern = r'(\\d{4})-(\\d{2})-(\\d{2})'  #그룹화\n",
        "\n",
        "    # 정규 표현식과 일치하는 모든 부분을 찾고, 각 부분을 튜플로 변환\n",
        "    matches = re.findall(pattern, text)   #findall with 그룹화된 데이터: 튜플 반환  #only findall: 리스트 반환\n",
        "    dates = [(int(year), int(month), int(day)) for year, month, day in matches]\n",
        "\n",
        "    return dates\n",
        "\n",
        "# 테스트\n",
        "text = \"2024-01-20에 약속이 하나 있고 다른 약속은 2023-12-31이야!\"\n",
        "extract_dates(text)\n",
        "\n"
      ],
      "metadata": {
        "colab": {
          "base_uri": "https://localhost:8080/"
        },
        "id": "7CQPxPL54ELM",
        "outputId": "ef5c2914-e85c-4afa-d53c-6fc41db1b200"
      },
      "execution_count": null,
      "outputs": [
        {
          "output_type": "execute_result",
          "data": {
            "text/plain": [
              "[(2024, 1, 20), (2023, 12, 31)]"
            ]
          },
          "metadata": {},
          "execution_count": 2
        }
      ]
    },
    {
      "cell_type": "code",
      "source": [
        "text = \"2024-01-20에 약속이 하나 있고 다른 약속은 2023-12-31이야!\"\n",
        "\n",
        "pattern = r'\\d{4}-\\d{2}-\\d{2}'\n",
        "re.findall(pattern, text)\n"
      ],
      "metadata": {
        "colab": {
          "base_uri": "https://localhost:8080/"
        },
        "id": "vpCvB7Y3apvj",
        "outputId": "c2e29edf-bc2d-406d-ebaf-a258c0c54314"
      },
      "execution_count": null,
      "outputs": [
        {
          "output_type": "execute_result",
          "data": {
            "text/plain": [
              "['2024-01-20', '2023-12-31']"
            ]
          },
          "metadata": {},
          "execution_count": 9
        }
      ]
    },
    {
      "cell_type": "markdown",
      "source": [
        "###35"
      ],
      "metadata": {
        "id": "x5L35tijFozk"
      }
    },
    {
      "cell_type": "code",
      "source": [
        "import re\n",
        "\n",
        "data = \"<p>Hello, <b>World</b>!</p>\"\n",
        "\n",
        "def solution(data):\n",
        "    return re.sub(r'<[^>]+>', '', data)\n",
        "\n",
        "solution(data)\n",
        "# \"<p>Hello, <b>World</b>!</p>\"\t\"Hello, World!\"\n",
        "# \"<div><i>Sample</i> Text</div>\"\t\"Sample Text\"\n",
        "# \"No tags here.\"\t\"No tags here.\""
      ],
      "metadata": {
        "colab": {
          "base_uri": "https://localhost:8080/",
          "height": 35
        },
        "id": "IxxcLW1EFqKb",
        "outputId": "03350ffb-9600-408a-db1c-8ce370e73c73"
      },
      "execution_count": null,
      "outputs": [
        {
          "output_type": "execute_result",
          "data": {
            "text/plain": [
              "'Hello, World!'"
            ],
            "application/vnd.google.colaboratory.intrinsic+json": {
              "type": "string"
            }
          },
          "metadata": {},
          "execution_count": 1
        }
      ]
    },
    {
      "cell_type": "markdown",
      "source": [
        "###36"
      ],
      "metadata": {
        "id": "XxgGGkpRKSSy"
      }
    },
    {
      "cell_type": "code",
      "source": [
        "import re\n",
        "\n",
        "data = \"No numbers here.\"\n",
        "\n",
        "def solution(data):\n",
        "    return re.sub(r'(\\d{3})(\\d{4})(\\d{3,4})', r'\\1-\\2-\\3', data)  #그룹화와, 그룹별 구분\n",
        "\n",
        "solution(data)\n",
        "\n",
        "\n",
        "# \"항상 여기로 연락주세요 01012345678.\"\t항상 여기로 연락주세요 \"Contact me at 010-1234-5678.\"\n",
        "# \"제 전화번호는 0311234567, 06412345678 입니다.\"\t\"제 전화번호는 031-1234-567, 064-1234-5678 입니다.\"\n",
        "# \"No numbers here.\"\t\"No numbers here.\"\n"
      ],
      "metadata": {
        "colab": {
          "base_uri": "https://localhost:8080/",
          "height": 35
        },
        "id": "H5Ww5gx6KUQu",
        "outputId": "89186966-9278-4845-a52a-d4fe9f29f883"
      },
      "execution_count": null,
      "outputs": [
        {
          "output_type": "execute_result",
          "data": {
            "text/plain": [
              "'No numbers here.'"
            ],
            "application/vnd.google.colaboratory.intrinsic+json": {
              "type": "string"
            }
          },
          "metadata": {},
          "execution_count": 8
        }
      ]
    },
    {
      "cell_type": "markdown",
      "source": [
        "###37"
      ],
      "metadata": {
        "id": "CmwKDgcJPlb-"
      }
    },
    {
      "cell_type": "code",
      "source": [
        "import re\n",
        "\n",
        "data = \"[08:55:45] 사용자 로그인\"\n",
        "\n",
        "time = re.findall(r'\\d{2}:\\d{2}:\\d{2}', data)\n",
        "string = re.findall(r'[^\\d\\[\\]:]+', data)\n",
        "\n",
        "# time\n",
        "string\n",
        "\n",
        "result = {'time': time[0], 'message': string[0].strip()}\n",
        "result\n",
        "\n",
        "# \"[08:55:45] 사용자 로그인\"\t{'time': '08:55:45', 'message': '사용자 로그인'}\n",
        "# \"[13:01:02] 데이터베이스 접근\"\t{'time': '13:01:02', 'message': '데이터베이스 접근'}\n",
        "# \"[23:59:59] 시스템 종료\"\t{'time': '23:59:59', 'message': '시스템 종료'}"
      ],
      "metadata": {
        "colab": {
          "base_uri": "https://localhost:8080/"
        },
        "id": "ioYnShfBPm2K",
        "outputId": "062b3b6c-03ea-4dba-e790-8e30d8c3e832"
      },
      "execution_count": null,
      "outputs": [
        {
          "output_type": "execute_result",
          "data": {
            "text/plain": [
              "{'time': '08:55:45', 'message': '사용자 로그인'}"
            ]
          },
          "metadata": {},
          "execution_count": 25
        }
      ]
    },
    {
      "cell_type": "code",
      "source": [
        "import re\n",
        "\n",
        "#(?P<name>...) 구문: 정규 표현식의 일부를 그룹화하고, 그 그룹에 이름을 할당\n",
        "\n",
        "    # 정규 표현식과 일치하는 부분을 찾아 이름이 지정된 그룹으로 반환\n",
        "\n",
        "\n",
        "def extract_log_info(log):\n",
        "    # 로그 패턴: [시간] 메시지\n",
        "    pattern = r'\\[(?P<time>\\d{2}:\\d{2}:\\d{2})\\] (?P<message>.*)'\n",
        "\n",
        "    # 정규 표현식과 일치하는 부분을 찾아 이름이 지정된 그룹으로 반환\n",
        "    match = re.search(pattern, log)\n",
        "    if match:\n",
        "        return match.groupdict()  #groupdict(): 이름이 지정된 그룹에 대해 딕셔너리 형태로 반환\n",
        "    else:\n",
        "        return None\n",
        "\n",
        "# 테스트\n",
        "log = \"[08:55:45] 사용자 로그인\"\n",
        "extract_log_info(log)\n",
        "\n",
        "\n",
        "    #     return None\n",
        "\n",
        "\n",
        "# log = \"[08:55:45] 사용자 로그인\"\n",
        "# match = re.search(pattern, log)\n",
        "# match\n",
        "# match.group()  #모든 그룹에 일치하는 문자열들을 튜플 형태로 반환\n",
        "# match.start()  #일치하는 부분의 시작 인덱스를 반환\n",
        "# match.end()  #일치하는 부분의 끝 인덱스를 반환\n",
        "# match.span()  #일치하는 부분의 (시작, 끝) 인덱스를 튜플 형태로 반환\n",
        "\n",
        "\n",
        "# 테스트\n",
        "# extract_log_info(log)\n",
        "\n"
      ],
      "metadata": {
        "colab": {
          "base_uri": "https://localhost:8080/"
        },
        "id": "i-k5ePY1SzZ6",
        "outputId": "2e68e808-1091-4299-b056-c720599cbe61"
      },
      "execution_count": 10,
      "outputs": [
        {
          "output_type": "execute_result",
          "data": {
            "text/plain": [
              "(0, 18)"
            ]
          },
          "metadata": {},
          "execution_count": 10
        }
      ]
    },
    {
      "cell_type": "markdown",
      "source": [
        "###38"
      ],
      "metadata": {
        "id": "GVQzeD_R2K4M"
      }
    },
    {
      "cell_type": "code",
      "source": [
        "\"http://www.weniv.co.k\"\t{'protocol': 'http', 'domain': 'www.weniv.co.k', 'path': '', 'query': ''}\n",
        "\"https://www.weniv.co.kr/path/to/resource?user=abc&lang=en\"\t{'protocol': 'https', 'domain': 'www.weniv.co.kr', 'path': '/path/to/resource', 'query': 'user=abc&lang=en'}\n",
        "\"ftp://ftp.weniv.co.kr/folder?page=1\"\t{'protocol': 'ftp', 'domain': 'ftp.weniv.co.kr', 'path': '/folder', 'query': 'page=1'}\n"
      ],
      "metadata": {
        "id": "J1xgnOce0h0A"
      },
      "execution_count": null,
      "outputs": []
    },
    {
      "cell_type": "code",
      "source": [
        "import re\n",
        "\n",
        "r'(?P<protocol>https?)://(?P<domain>[^/]+)(?P<path>[^/]+)'\n",
        "\n",
        "# \"http://www.weniv.co.k\"\t{'protocol': 'http', 'domain': 'www.weniv.co.k', 'path': '', 'query': ''}\n",
        "# \"https://www.weniv.co.kr/path/to/resource?user=abc&lang=en\"\t{'protocol': 'https', 'domain': 'www.weniv.co.kr', 'path': '/path/to/resource', 'query': 'user=abc&lang=en'}\n",
        "# \"ftp://ftp.weniv.co.kr/folder?page=1\"\t{'protocol': 'ftp', 'domain': 'ftp.weniv.co.kr', 'path': '/folder', 'query': 'page=1'}\n",
        "\n"
      ],
      "metadata": {
        "id": "grJfP5dW2MC7"
      },
      "execution_count": null,
      "outputs": []
    },
    {
      "cell_type": "code",
      "source": [
        "import re\n",
        "\n",
        "def extract_url_parts(url):\n",
        "    # URL 패턴: 프로토콜, 도메인, 경로, 쿼리스트링\n",
        "    pattern = r'(?P<protocol>https?)://(?P<domain>[^/]+)(?P<path>/[^?]*)\\??(?P<query>.*)'\n",
        "\n",
        "    # 정규 표현식과 일치하는 부분을 찾아 이름이 지정된 그룹으로 반환\n",
        "    match = re.search(pattern, url)\n",
        "    if match:\n",
        "        return match.groupdict()\n",
        "    else:\n",
        "        return None\n",
        "\n",
        "# 테스트\n",
        "url = \"https://www.weniv.co.kr/path/to/resource?user=abc&lang=en\"\n",
        "extract_url_parts(url)\n",
        "\n"
      ],
      "metadata": {
        "id": "Okedot2fNlmT"
      },
      "execution_count": null,
      "outputs": []
    }
  ]
}