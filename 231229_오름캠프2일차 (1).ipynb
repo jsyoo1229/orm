{
  "nbformat": 4,
  "nbformat_minor": 0,
  "metadata": {
    "colab": {
      "provenance": [],
      "authorship_tag": "ABX9TyMHXmHAnH6EFf+ij5YdnaRM",
      "include_colab_link": true
    },
    "kernelspec": {
      "name": "python3",
      "display_name": "Python 3"
    },
    "language_info": {
      "name": "python"
    }
  },
  "cells": [
    {
      "cell_type": "markdown",
      "metadata": {
        "id": "view-in-github",
        "colab_type": "text"
      },
      "source": [
        "<a href=\"https://colab.research.google.com/github/jsyoo1229/orm/blob/main/231229_%EC%98%A4%EB%A6%84%EC%BA%A0%ED%94%842%EC%9D%BC%EC%B0%A8.ipynb\" target=\"_parent\"><img src=\"https://colab.research.google.com/assets/colab-badge.svg\" alt=\"Open In Colab\"/></a>"
      ]
    },
    {
      "cell_type": "code",
      "execution_count": 1,
      "metadata": {
        "colab": {
          "base_uri": "https://localhost:8080/"
        },
        "id": "pe4FoHqr7xo2",
        "outputId": "3246f434-b9b7-42a6-d43b-fb55292193ef"
      },
      "outputs": [
        {
          "output_type": "stream",
          "name": "stdout",
          "text": [
            "hello world\n"
          ]
        }
      ],
      "source": [
        "print('hello world')"
      ]
    },
    {
      "cell_type": "markdown",
      "source": [],
      "metadata": {
        "id": "gvvZreCmNcmx"
      }
    },
    {
      "cell_type": "markdown",
      "source": [
        "# 1. 구글 코랩 기초 사용법\n",
        "1. Ctrl Enter\n",
        "3. Ctrl M A: 코드 셀 위 삽입\n",
        "4. Ctrl M B: 코드 셀 아래 삽입\n",
        "5. Ctrl M D: 셀 지우기\n",
        "6. Ctrl M Y: 코드 셀로 변경\n",
        "7. Ctrl M M: 마크 다운 셀로 변경\n",
        "8. Ctrl M Z: 실행 취소\n"
      ],
      "metadata": {
        "id": "uuWnUMPK9uap"
      }
    },
    {
      "cell_type": "code",
      "source": [
        "print('hello world')"
      ],
      "metadata": {
        "id": "dRMWeiCz-ZB-",
        "colab": {
          "base_uri": "https://localhost:8080/"
        },
        "outputId": "7bfb3404-6a34-4939-ae0b-133989013990"
      },
      "execution_count": 5,
      "outputs": [
        {
          "output_type": "stream",
          "name": "stdout",
          "text": [
            "hello world\n"
          ]
        }
      ]
    },
    {
      "cell_type": "markdown",
      "source": [
        "# 3. 수정 관련 단축키\n"
      ],
      "metadata": {
        "id": "nWB_D2Vd_oG0"
      }
    },
    {
      "cell_type": "code",
      "source": [
        "# 데이터셋 불러오기\n",
        "import pandas as pd\n",
        "data = pd.read_csv(\"example_dataset.csv\")\n",
        "\n",
        "# 각 컬럼에 대한 평균 계산\n",
        "mean_age_years = data['age_years'].mean()\n",
        "mean_height_cm = data['height_cm'].mean()\n",
        "mean_weight_kg = data['weight_kg'].mean()\n",
        "\n",
        "print(\"Average Age in Years:\", mean_age_years)\n",
        "print(\"Average Height in cm:\", mean_height_cm)\n",
        "print(\"Average Weight in kg:\", mean_weight_kg)"
      ],
      "metadata": {
        "id": "oFu4M5yUBtnI"
      },
      "execution_count": null,
      "outputs": []
    },
    {
      "cell_type": "markdown",
      "source": [
        "# 4. 마크 다운\n",
        "## 4.1 헤더\n",
        "### 4.1.1 사용법\n",
        "제목을 입력하는 기능"
      ],
      "metadata": {
        "id": "TwdwE89WHN6v"
      }
    },
    {
      "cell_type": "markdown",
      "source": [
        "## 4.2 강조\n",
        "강조\n",
        "*강조*\n",
        "**강조**"
      ],
      "metadata": {
        "id": "nlf4R9RuKHNh"
      }
    },
    {
      "cell_type": "markdown",
      "source": [
        "## 4.3 목록\n",
        "1. 순서 1\n",
        "2. 순서 2\n",
        "\n",
        "* 순서 없는 목록\n",
        "* 순서 없는 목록\n"
      ],
      "metadata": {
        "id": "qZWsx5LsLCVw"
      }
    },
    {
      "cell_type": "markdown",
      "source": [
        "## 4.4 링크\n",
        "[유튜브](https://www.youtube.com/)\n"
      ],
      "metadata": {
        "id": "0kCpYUHXLTYb"
      }
    },
    {
      "cell_type": "markdown",
      "source": [
        "## 4.5 이미지\n",
        "![올리비아 로드리고](https://resizing.flixster.com/-XZAfHZM39UwaGJIFWKAE8fS0ak=/v3/t/assets/873988_v9_bc.jpg)"
      ],
      "metadata": {
        "id": "xHfmnrP1LPwN"
      }
    },
    {
      "cell_type": "markdown",
      "source": [
        "## 4.6 코드\n",
        "`print('hello world)`"
      ],
      "metadata": {
        "id": "m-DrraMzM4zr"
      }
    },
    {
      "cell_type": "markdown",
      "source": [
        "# 4.7 기타\n",
        "---\n",
        "* 취소선\n",
        "~~취소선~~\n",
        "---\n",
        "* 인용문\n",
        "> 인용문 입니다.\n",
        ">> 인용문 입니다.\n",
        "---\n",
        "* 구분선\n",
        "---"
      ],
      "metadata": {
        "id": "WW4fQh2bNY5w"
      }
    },
    {
      "cell_type": "code",
      "source": [],
      "metadata": {
        "id": "WTJ0agpyPN0f"
      },
      "execution_count": null,
      "outputs": []
    }
  ]
}