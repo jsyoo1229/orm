{
  "nbformat": 4,
  "nbformat_minor": 0,
  "metadata": {
    "colab": {
      "provenance": [],
      "authorship_tag": "ABX9TyMC4OopRdIcqH9BDvfk8Cyv",
      "include_colab_link": true
    },
    "kernelspec": {
      "name": "python3",
      "display_name": "Python 3"
    },
    "language_info": {
      "name": "python"
    }
  },
  "cells": [
    {
      "cell_type": "markdown",
      "metadata": {
        "id": "view-in-github",
        "colab_type": "text"
      },
      "source": [
        "<a href=\"https://colab.research.google.com/github/jsyoo1229/orm/blob/main/240131_Pyalgo100_42.ipynb\" target=\"_parent\"><img src=\"https://colab.research.google.com/assets/colab-badge.svg\" alt=\"Open In Colab\"/></a>"
      ]
    },
    {
      "cell_type": "markdown",
      "source": [
        "###Queue"
      ],
      "metadata": {
        "id": "PmEJ_JiFeL7L"
      }
    },
    {
      "cell_type": "code",
      "execution_count": null,
      "metadata": {
        "colab": {
          "base_uri": "https://localhost:8080/"
        },
        "id": "1b0qgyoWbvAI",
        "outputId": "ca59bed1-bab6-495d-ae2a-c6b611db761f"
      },
      "outputs": [
        {
          "output_type": "execute_result",
          "data": {
            "text/plain": [
              "[4, 5, 6, 7, 8, 9, 10, 11, 12, 13, 14, 15, 16, 17, 18, 19, 20, 21, 22, 23]"
            ]
          },
          "metadata": {},
          "execution_count": 14
        }
      ],
      "source": [
        "q_list = list()\n",
        "\n",
        "def enqueue(n):\n",
        "    return q_list.append(n)\n",
        "\n",
        "def dequeue():\n",
        "    return q_list.pop(0)\n",
        "\n",
        "for num in range(24):\n",
        "    enqueue(num)\n",
        "\n",
        "q_list\n",
        "\n",
        "dequeue()\n",
        "dequeue()\n",
        "dequeue()\n",
        "dequeue()\n",
        "q_list"
      ]
    },
    {
      "cell_type": "code",
      "source": [
        "q_list = list()\n",
        "\n",
        "def enqueue(data):\n",
        "    q_list.append(data)\n",
        "\n",
        "def dequeue():\n",
        "    data = q_list[0]\n",
        "    del q_list[0]\n",
        "    return data\n",
        "\n",
        "for i in range(10):\n",
        "    enqueue(i)\n",
        "\n",
        "\n",
        "\n"
      ],
      "metadata": {
        "id": "HmZpRzVLf1R_"
      },
      "execution_count": null,
      "outputs": []
    },
    {
      "cell_type": "markdown",
      "source": [
        "###42"
      ],
      "metadata": {
        "id": "A0XJ9Y-jnFui"
      }
    },
    {
      "cell_type": "code",
      "source": [
        "# 크기\t 입력(요청)\t             출력(큐의 상태)\n",
        "3\t  ['A', 'B', 'C', 'D']   \t['B', 'C', 'D']\n",
        "2\t  ['X', 'Y', 'Z']\t          ['Y', 'Z']\n",
        "1\t  ['P', 'Q', 'R']\t             ['R']\n"
      ],
      "metadata": {
        "id": "uYd_35BenH1R"
      },
      "execution_count": null,
      "outputs": []
    },
    {
      "cell_type": "code",
      "source": [
        "q_list = []\n",
        "max_size = 3\n",
        "\n",
        "def enqueue(data):\n",
        "    if len(q_list) >= max_size:\n",
        "        dequeue()\n",
        "    q_list.append(data)\n",
        "\n",
        "def dequeue():\n",
        "    if q_list:  #리스트가 비어있으면 IndexError 예외가 발생\n",
        "        return q_list.pop(0)\n",
        "\n",
        "\n",
        "enqueue(4)\n",
        "q_list\n",
        "\n",
        "enqueue(5)\n",
        "q_list\n"
      ],
      "metadata": {
        "colab": {
          "base_uri": "https://localhost:8080/"
        },
        "id": "t681r5ZFnIib",
        "outputId": "f4165ff6-265d-4e4c-d1d2-7d7a5b6aeb29"
      },
      "execution_count": 25,
      "outputs": [
        {
          "output_type": "execute_result",
          "data": {
            "text/plain": [
              "[3, 4, 5]"
            ]
          },
          "metadata": {},
          "execution_count": 25
        }
      ]
    }
  ]
}