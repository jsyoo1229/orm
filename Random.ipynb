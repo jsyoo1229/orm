{
  "nbformat": 4,
  "nbformat_minor": 0,
  "metadata": {
    "colab": {
      "provenance": [],
      "authorship_tag": "ABX9TyOXQz+E3cvLbcvzaJ6kY6YC",
      "include_colab_link": true
    },
    "kernelspec": {
      "name": "python3",
      "display_name": "Python 3"
    },
    "language_info": {
      "name": "python"
    }
  },
  "cells": [
    {
      "cell_type": "markdown",
      "metadata": {
        "id": "view-in-github",
        "colab_type": "text"
      },
      "source": [
        "<a href=\"https://colab.research.google.com/github/jsyoo1229/orm/blob/main/Random.ipynb\" target=\"_parent\"><img src=\"https://colab.research.google.com/assets/colab-badge.svg\" alt=\"Open In Colab\"/></a>"
      ]
    },
    {
      "cell_type": "markdown",
      "source": [
        "# 1. randrange 함수(숫자 무작위)"
      ],
      "metadata": {
        "id": "Ij0xJGo_86pv"
      }
    },
    {
      "cell_type": "code",
      "execution_count": 1,
      "metadata": {
        "colab": {
          "base_uri": "https://localhost:8080/",
          "height": 195
        },
        "id": "SyVfWsLA0zL8",
        "outputId": "7ca9291d-d2bc-42a8-d2db-de0ce3f166e3"
      },
      "outputs": [
        {
          "output_type": "error",
          "ename": "NameError",
          "evalue": "ignored",
          "traceback": [
            "\u001b[0;31m---------------------------------------------------------------------------\u001b[0m",
            "\u001b[0;31mNameError\u001b[0m                                 Traceback (most recent call last)",
            "\u001b[0;32m<ipython-input-1-fdd7082afc19>\u001b[0m in \u001b[0;36m<cell line: 2>\u001b[0;34m()\u001b[0m\n\u001b[1;32m      1\u001b[0m \u001b[0;31m#1. RandRandge() 함수\u001b[0m\u001b[0;34m\u001b[0m\u001b[0;34m\u001b[0m\u001b[0m\n\u001b[0;32m----> 2\u001b[0;31m \u001b[0mrandrange\u001b[0m\u001b[0;34m(\u001b[0m\u001b[0mstart\u001b[0m\u001b[0;34m,\u001b[0m \u001b[0mstop\u001b[0m\u001b[0;34m,\u001b[0m \u001b[0mstep\u001b[0m\u001b[0;34m)\u001b[0m\u001b[0;34m\u001b[0m\u001b[0;34m\u001b[0m\u001b[0m\n\u001b[0m",
            "\u001b[0;31mNameError\u001b[0m: name 'randrange' is not defined"
          ]
        }
      ],
      "source": [
        "#1. RandRandge() 함수\n",
        "randrange(start, stop, step)"
      ]
    },
    {
      "cell_type": "code",
      "source": [
        "# 1. 기본 사용법\n",
        "import random\n",
        "\n",
        "#0~9까지의 임의의 숫자를 선택하는 코드 작성\n",
        "#파이썬 숫자의 시작은, 무조건 0부터\n",
        "#10으로 입력하면 9까지 나온다.\n",
        "\n",
        "num = random.randrange(10)\n",
        "print(num)"
      ],
      "metadata": {
        "colab": {
          "base_uri": "https://localhost:8080/"
        },
        "id": "gpJofF9b1HMn",
        "outputId": "5a1e40eb-0d0f-4a3e-ad9e-a5d93e748c55"
      },
      "execution_count": 12,
      "outputs": [
        {
          "output_type": "stream",
          "name": "stdout",
          "text": [
            "1\n"
          ]
        }
      ]
    },
    {
      "cell_type": "code",
      "source": [
        "# 2. 시작 값과 끝 값을 지정\n",
        "num_2 = random.randrange(18, 20)\n",
        "print(num_2)"
      ],
      "metadata": {
        "colab": {
          "base_uri": "https://localhost:8080/"
        },
        "id": "cQFjNg_i16oz",
        "outputId": "d3f6e7d5-0765-4e8e-9094-620949efb859"
      },
      "execution_count": 15,
      "outputs": [
        {
          "output_type": "stream",
          "name": "stdout",
          "text": [
            "18\n"
          ]
        }
      ]
    },
    {
      "cell_type": "code",
      "source": [
        "num_1 = random.randrange(1, 46)\n",
        "num_2 = random.randrange(1, 46)\n",
        "num_3 = random.randrange(1, 46)\n",
        "num_4 = random.randrange(1, 46)\n",
        "num_5 = random.randrange(1, 46)\n",
        "num_6 = random.randrange(1, 46)\n",
        "\n",
        "print(f'오늘의 로또 번호는 {num_1}, {num_2}, {num_3}, {num_4}, {num_5}, {num_6}')"
      ],
      "metadata": {
        "colab": {
          "base_uri": "https://localhost:8080/"
        },
        "id": "8P58VcKO2oUi",
        "outputId": "dfee0800-4510-41ca-c9b3-5ac72ecf760b"
      },
      "execution_count": 18,
      "outputs": [
        {
          "output_type": "stream",
          "name": "stdout",
          "text": [
            "오늘의 로또 번호는 10, 41, 26, 27, 41, 13\n"
          ]
        }
      ]
    },
    {
      "cell_type": "code",
      "source": [
        "# 3. 간격 설정\n",
        "# 10부터 100까지의 숫자 중, 10의 간격으로 무작위 선택\n",
        "\n",
        "num10_100 = random.randrange(10, 101, 10)\n",
        "print(num10_100)"
      ],
      "metadata": {
        "colab": {
          "base_uri": "https://localhost:8080/"
        },
        "id": "NmnPqBQt2-2g",
        "outputId": "2e2d14c5-36c8-4dfa-d656-bf0fb5f0da6f"
      },
      "execution_count": 22,
      "outputs": [
        {
          "output_type": "stream",
          "name": "stdout",
          "text": [
            "40\n"
          ]
        }
      ]
    },
    {
      "cell_type": "code",
      "source": [
        "# 입력값 int형으로 변경\n",
        "input_number = int(input('숫자 입력: '))"
      ],
      "metadata": {
        "id": "tr5uw9QV_OwP"
      },
      "execution_count": null,
      "outputs": []
    },
    {
      "cell_type": "code",
      "source": [
        "# 주사위 던지기\n",
        "import random\n",
        "\n",
        "dice1 = random.randrange(1, 7)\n",
        "dice2 = random.randrange(1, 7)\n",
        "\n",
        "total = dice1 + dice2\n",
        "print(f'dice1: {dice1}')\n",
        "print(f'dice2: {dice2}\\n')\n",
        "print(f'합: {total}')"
      ],
      "metadata": {
        "colab": {
          "base_uri": "https://localhost:8080/"
        },
        "id": "I0rBa7bMCILW",
        "outputId": "662fdd7f-048a-4cb0-cb11-539265b88a4f"
      },
      "execution_count": 32,
      "outputs": [
        {
          "output_type": "stream",
          "name": "stdout",
          "text": [
            "dice1: 2\n",
            "dice2: 6\n",
            "\n",
            "합: 8\n"
          ]
        }
      ]
    },
    {
      "cell_type": "code",
      "source": [
        "# 윷놀이\n",
        "import random\n",
        "\n",
        "# 윷 던지기 결과 (0: 앞, 1: 뒤)\n",
        "throw1 = random.choice([0, 1])\n",
        "throw2 = random.choice([0, 1])\n",
        "throw3 = random.choice([0, 1])\n",
        "throw4 = random.choice([0, 1])\n",
        "\n",
        "\n",
        "throw_back = throw1+throw2+throw3+throw4\n",
        "\n",
        "result = ['모', '도', '개', '걸', '윷']\n",
        "print(total_back)\n",
        "print(result[total_back])"
      ],
      "metadata": {
        "id": "XIORP9b8I1pH"
      },
      "execution_count": null,
      "outputs": []
    },
    {
      "cell_type": "markdown",
      "source": [
        "# 2. Choice 함수(문자 무작위)"
      ],
      "metadata": {
        "id": "LbYJ0Ppg7Y4B"
      }
    },
    {
      "cell_type": "code",
      "source": [
        "#1. choice 기본 사용법\n",
        "\n",
        "# 리스트에서 무작위 과일 선택\n",
        "import random\n",
        "elements = ['사과', '바나나', '체리']"
      ],
      "metadata": {
        "id": "vJawN-rS7djD"
      },
      "execution_count": null,
      "outputs": []
    },
    {
      "cell_type": "code",
      "source": [
        "print(elements)"
      ],
      "metadata": {
        "colab": {
          "base_uri": "https://localhost:8080/"
        },
        "id": "XI7Pc7Nh7cVt",
        "outputId": "59a875c2-324a-4275-9d5d-9075508f7465"
      },
      "execution_count": null,
      "outputs": [
        {
          "output_type": "stream",
          "name": "stdout",
          "text": [
            "['사과', '바나나', '체리']\n"
          ]
        }
      ]
    },
    {
      "cell_type": "code",
      "source": [
        "choice_elements = random.choice(elements)\n",
        "print(f'선택된 요소: {choice_elements} 입니다.')"
      ],
      "metadata": {
        "colab": {
          "base_uri": "https://localhost:8080/"
        },
        "id": "Y9aGEDdh8LwQ",
        "outputId": "403a5272-16b5-433a-fb90-5d1e06965d17"
      },
      "execution_count": null,
      "outputs": [
        {
          "output_type": "stream",
          "name": "stdout",
          "text": [
            "선택된 요소: 체리 입니다.\n"
          ]
        }
      ]
    },
    {
      "cell_type": "code",
      "source": [
        "# 2. 문자열에서 무작위 선택\n",
        "greeting = \"안녕하세요\"\n",
        "choice_char = random.choice(greeting)\n",
        "print(f'선택된 문자: {choice_char}')"
      ],
      "metadata": {
        "colab": {
          "base_uri": "https://localhost:8080/"
        },
        "id": "DAsai8Ds9C9k",
        "outputId": "6da728d6-8d98-4cb6-fdc7-08e99870c72e"
      },
      "execution_count": 25,
      "outputs": [
        {
          "output_type": "stream",
          "name": "stdout",
          "text": [
            "선택된 문자: 녕\n"
          ]
        }
      ]
    },
    {
      "cell_type": "code",
      "source": [
        "# 주석의 중요성\n",
        "\n",
        "# 이 코드는 Random 라이브러리를 사용한 예시입니다.\n",
        "import random\n",
        "\n",
        "# 2개의 무작위 숫자를 생성하는 코드\n",
        "random_number1 = random.randrange(1, 10)\n",
        "random_number2 = random.randrange(1, 10)\n",
        "\n",
        "# 2개의 무작위 숫자를 합산하는 코드/ 생성된 두 숫자의 합 계산\n",
        "sum_of_numbers = random_number1 + random_number2\n",
        "\n",
        "# 결과 출력\n",
        "print(f\"첫 번째 생성된 숫자: {random_number1}\")  # 첫 번째 생성된 값\n",
        "print(f\"두 번째 생성된 숫자: {random_number2}\")  # 두 번째 생성된 값\n",
        "print(f\"두 숫자의 합: {sum_of_numbers}\") # 두 숫자의 합 출력"
      ],
      "metadata": {
        "id": "eNwV8nbW_zFW"
      },
      "execution_count": null,
      "outputs": []
    }
  ]
}