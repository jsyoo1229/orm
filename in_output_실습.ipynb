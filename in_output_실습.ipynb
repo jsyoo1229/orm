{
  "nbformat": 4,
  "nbformat_minor": 0,
  "metadata": {
    "colab": {
      "provenance": [],
      "authorship_tag": "ABX9TyO5XjhbfXtHNoiwWSUE34oo",
      "include_colab_link": true
    },
    "kernelspec": {
      "name": "python3",
      "display_name": "Python 3"
    },
    "language_info": {
      "name": "python"
    }
  },
  "cells": [
    {
      "cell_type": "markdown",
      "metadata": {
        "id": "view-in-github",
        "colab_type": "text"
      },
      "source": [
        "<a href=\"https://colab.research.google.com/github/jsyoo1229/orm/blob/main/in_output_%EC%8B%A4%EC%8A%B5.ipynb\" target=\"_parent\"><img src=\"https://colab.research.google.com/assets/colab-badge.svg\" alt=\"Open In Colab\"/></a>"
      ]
    },
    {
      "cell_type": "markdown",
      "source": [
        "# 2024년도 계획\n",
        "1. 매일 독서를 _권 이상 한다.\n",
        "2. 매일 _시 이전에 취침한다.\n",
        "3. 매주 3일 이상, _를 한다.\n",
        "4. 올해에는, 반드시 _를 한다"
      ],
      "metadata": {
        "id": "PGv7awqGlHwZ"
      }
    },
    {
      "cell_type": "code",
      "source": [
        "setence_1 = input('몇 권: ')"
      ],
      "metadata": {
        "colab": {
          "base_uri": "https://localhost:8080/"
        },
        "id": "TthhhSo9nAtB",
        "outputId": "07671310-dd93-4d0f-bbec-66b75187d7cb"
      },
      "execution_count": 1,
      "outputs": [
        {
          "name": "stdout",
          "output_type": "stream",
          "text": [
            "몇 권: 1\n"
          ]
        }
      ]
    },
    {
      "cell_type": "code",
      "source": [
        "print(f'매일 독서를 {setence_1}권 이상 한다.')"
      ],
      "metadata": {
        "colab": {
          "base_uri": "https://localhost:8080/"
        },
        "id": "5F7mIcClnJcA",
        "outputId": "ebb959df-846c-4206-ec8d-016b5ed96693"
      },
      "execution_count": 2,
      "outputs": [
        {
          "output_type": "stream",
          "name": "stdout",
          "text": [
            "매일 독서를 1권 이상 한다.\n"
          ]
        }
      ]
    },
    {
      "cell_type": "code",
      "source": [
        "setence_2 = input('취침 시간: ')\n",
        "print(f'매일 {setence_2}시 이전에 취침한다.')"
      ],
      "metadata": {
        "colab": {
          "base_uri": "https://localhost:8080/"
        },
        "id": "OREmYppinZm7",
        "outputId": "fabf7cee-c068-4f06-92f7-ec71503639ef"
      },
      "execution_count": 3,
      "outputs": [
        {
          "output_type": "stream",
          "name": "stdout",
          "text": [
            "취침 시간: 12\n",
            "매일 12시 이전에 취침한다.\n"
          ]
        }
      ]
    },
    {
      "cell_type": "code",
      "source": [
        "setence_3 = input('매주 3일 이상: ')\n",
        "print(f'매주 3일 이상, {setence_3}를 한다.')"
      ],
      "metadata": {
        "colab": {
          "base_uri": "https://localhost:8080/"
        },
        "id": "8LUuKa11ne6b",
        "outputId": "b459ae7c-b1c9-49ed-bfe4-3bd6a58f75f5"
      },
      "execution_count": 4,
      "outputs": [
        {
          "output_type": "stream",
          "name": "stdout",
          "text": [
            "매주 3일 이상: 헬스\n",
            "매주 3일 이상, 헬스를 한다.\n"
          ]
        }
      ]
    },
    {
      "cell_type": "code",
      "source": [
        "sentence_4 = input('올해 필수 목표: ')\n",
        "print(f'올해에는, 반드시 {sentence_4}를 한다', end = '!!!')"
      ],
      "metadata": {
        "colab": {
          "base_uri": "https://localhost:8080/"
        },
        "id": "nwfKq69Bo3IV",
        "outputId": "739feef0-f43c-48f1-d9b3-c8ec4703d79e"
      },
      "execution_count": 7,
      "outputs": [
        {
          "output_type": "stream",
          "name": "stdout",
          "text": [
            "올해 필수 목표: 1q84 완독\n",
            "올해에는, 반드시 1q84 완독를 한다!!!"
          ]
        }
      ]
    },
    {
      "cell_type": "code",
      "source": [
        "word1 = input('올해는 _와: ')\n",
        "word2 = input('_에 집중하려 한다.: ')"
      ],
      "metadata": {
        "colab": {
          "base_uri": "https://localhost:8080/"
        },
        "id": "sBbMACKcunr6",
        "outputId": "a220c201-5fa8-4184-95bb-6e52c7b7c4c7"
      },
      "execution_count": 12,
      "outputs": [
        {
          "name": "stdout",
          "output_type": "stream",
          "text": [
            "올해는 _와: 독서\n",
            "_에 집중하려 한다.: 취업\n"
          ]
        }
      ]
    },
    {
      "cell_type": "code",
      "source": [
        "print(f'올해는 {word1}와')"
      ],
      "metadata": {
        "colab": {
          "base_uri": "https://localhost:8080/"
        },
        "id": "OllwqnqLuv7A",
        "outputId": "e35883c2-02fa-4fdc-ae56-7d00bfac8508"
      },
      "execution_count": 13,
      "outputs": [
        {
          "output_type": "stream",
          "name": "stdout",
          "text": [
            "올해는 독서와\n"
          ]
        }
      ]
    },
    {
      "cell_type": "code",
      "source": [
        "print(f'{word2}에 집중하려고 한다.')"
      ],
      "metadata": {
        "colab": {
          "base_uri": "https://localhost:8080/"
        },
        "id": "ZNWzBerfu8dV",
        "outputId": "94b88791-dd4d-40c6-a7af-c0ab4deae960"
      },
      "execution_count": 14,
      "outputs": [
        {
          "output_type": "stream",
          "name": "stdout",
          "text": [
            "취업에 집중하려고 한다.\n"
          ]
        }
      ]
    },
    {
      "cell_type": "code",
      "source": [
        "print(f'올해는 {word1}와 {word2}에 집중하려고 한다.')"
      ],
      "metadata": {
        "colab": {
          "base_uri": "https://localhost:8080/"
        },
        "id": "DaPN1yEHvZgr",
        "outputId": "ccd64fb9-8e39-45c0-9156-fa856348ce0f"
      },
      "execution_count": 15,
      "outputs": [
        {
          "output_type": "stream",
          "name": "stdout",
          "text": [
            "올해는 독서와 취업에 집중하려고 한다.\n"
          ]
        }
      ]
    },
    {
      "cell_type": "code",
      "source": [
        "# end로 다른 두 문장 합치기\n",
        "print(f'올해는 {word1}와', end = ' ')\n",
        "print(f'{word2}에 집중하려고 한다.')"
      ],
      "metadata": {
        "colab": {
          "base_uri": "https://localhost:8080/"
        },
        "id": "-4eBcgkovpyC",
        "outputId": "6c70a2fa-f4d9-4fe7-e1b7-d31082c5c424"
      },
      "execution_count": 16,
      "outputs": [
        {
          "output_type": "stream",
          "name": "stdout",
          "text": [
            "올해는 독서와 취업에 집중하려고 한다.\n"
          ]
        }
      ]
    },
    {
      "cell_type": "code",
      "source": [
        "# 두 가지 단어를, 한번에 입력 받기\n",
        "sentenece = input('올해는 _와 _에 집중하려 한다.: ')\n",
        "word1, word2 = sentenece.split()\n",
        "print(f'올해는 {word1}와 {word2}에 집중하려고 한다.')"
      ],
      "metadata": {
        "colab": {
          "base_uri": "https://localhost:8080/"
        },
        "id": "wc4o4JyWwxee",
        "outputId": "5ac9266e-8d34-4d9b-892e-f5211864dab9"
      },
      "execution_count": 18,
      "outputs": [
        {
          "output_type": "stream",
          "name": "stdout",
          "text": [
            "올해는 _와 _에 집중하려 한다.: 독서 취업\n",
            "올해는 독서와 취업에 집중하려고 한다.\n"
          ]
        }
      ]
    },
    {
      "cell_type": "markdown",
      "source": [
        "# 2. Choice 함수(문자 무작위)"
      ],
      "metadata": {
        "id": "LbYJ0Ppg7Y4B"
      }
    },
    {
      "cell_type": "code",
      "source": [
        "#1. choice 기본 사용법\n",
        "\n",
        "# 리스트에서 무작위 과일 선택\n",
        "import random\n",
        "elements = ['사과', '바나나', '체리']"
      ],
      "metadata": {
        "id": "vJawN-rS7djD"
      },
      "execution_count": 27,
      "outputs": []
    },
    {
      "cell_type": "code",
      "source": [
        "print(elements)"
      ],
      "metadata": {
        "colab": {
          "base_uri": "https://localhost:8080/"
        },
        "id": "XI7Pc7Nh7cVt",
        "outputId": "59a875c2-324a-4275-9d5d-9075508f7465"
      },
      "execution_count": 28,
      "outputs": [
        {
          "output_type": "stream",
          "name": "stdout",
          "text": [
            "['사과', '바나나', '체리']\n"
          ]
        }
      ]
    },
    {
      "cell_type": "code",
      "source": [
        "choice_elements = random.choice(elements)\n",
        "print(f'선택된 요소: {choice_elements} 입니다.')"
      ],
      "metadata": {
        "colab": {
          "base_uri": "https://localhost:8080/"
        },
        "id": "Y9aGEDdh8LwQ",
        "outputId": "403a5272-16b5-433a-fb90-5d1e06965d17"
      },
      "execution_count": 33,
      "outputs": [
        {
          "output_type": "stream",
          "name": "stdout",
          "text": [
            "선택된 요소: 체리 입니다.\n"
          ]
        }
      ]
    }
  ]
}