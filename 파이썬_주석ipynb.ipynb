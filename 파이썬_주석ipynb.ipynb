{
  "nbformat": 4,
  "nbformat_minor": 0,
  "metadata": {
    "colab": {
      "provenance": [],
      "authorship_tag": "ABX9TyNHhrIbdbPUeZUGQ/0ZrIUe",
      "include_colab_link": true
    },
    "kernelspec": {
      "name": "python3",
      "display_name": "Python 3"
    },
    "language_info": {
      "name": "python"
    }
  },
  "cells": [
    {
      "cell_type": "markdown",
      "metadata": {
        "id": "view-in-github",
        "colab_type": "text"
      },
      "source": [
        "<a href=\"https://colab.research.google.com/github/jsyoo1229/orm/blob/main/%ED%8C%8C%EC%9D%B4%EC%8D%AC_%EC%A3%BC%EC%84%9Dipynb.ipynb\" target=\"_parent\"><img src=\"https://colab.research.google.com/assets/colab-badge.svg\" alt=\"Open In Colab\"/></a>"
      ]
    },
    {
      "cell_type": "markdown",
      "source": [
        "## 1.1 한줄 주석\n"
      ],
      "metadata": {
        "id": "XVwKn1I6C3MJ"
      }
    },
    {
      "cell_type": "code",
      "source": [
        "# 이것은 주석입니다. (특이사항, 전제척인 사항, 업데이트 내용)\n",
        "print('hello, world 1') # 이것도 주석 (해당 코드의 설명)\n",
        "print('hello, world 2') # 코드의 에러/ 향후 수정/ 임시 주석"
      ],
      "metadata": {
        "colab": {
          "base_uri": "https://localhost:8080/"
        },
        "id": "nNwOS4cnDtpU",
        "outputId": "adad96fc-1a9e-4b9f-be82-053feca222bb"
      },
      "execution_count": 1,
      "outputs": [
        {
          "output_type": "stream",
          "name": "stdout",
          "text": [
            "hello, world 1\n",
            "hello, world 2\n"
          ]
        }
      ]
    },
    {
      "cell_type": "markdown",
      "source": [
        "## 1.2 여러 줄 주석"
      ],
      "metadata": {
        "id": "HMRrTgbpD1s-"
      }
    },
    {
      "cell_type": "code",
      "source": [
        "'''\n",
        "print('hello, world 1')\n",
        "print('hello, world 2')\n",
        "print('hello, world 3')\n",
        "'''\n",
        "print('real hello, world')"
      ],
      "metadata": {
        "colab": {
          "base_uri": "https://localhost:8080/"
        },
        "id": "_sBugxszE-YI",
        "outputId": "12f285d7-ad7d-4c9a-cb72-cd0186766025"
      },
      "execution_count": 3,
      "outputs": [
        {
          "output_type": "stream",
          "name": "stdout",
          "text": [
            "real hello, world\n"
          ]
        }
      ]
    },
    {
      "cell_type": "code",
      "source": [],
      "metadata": {
        "id": "EFaIFmnuFTSm"
      },
      "execution_count": null,
      "outputs": []
    }
  ]
}