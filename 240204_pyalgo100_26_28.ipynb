{
  "nbformat": 4,
  "nbformat_minor": 0,
  "metadata": {
    "colab": {
      "provenance": [],
      "authorship_tag": "ABX9TyOeJhE6CK8Eyl/QFlYd2U1T",
      "include_colab_link": true
    },
    "kernelspec": {
      "name": "python3",
      "display_name": "Python 3"
    },
    "language_info": {
      "name": "python"
    }
  },
  "cells": [
    {
      "cell_type": "markdown",
      "metadata": {
        "id": "view-in-github",
        "colab_type": "text"
      },
      "source": [
        "<a href=\"https://colab.research.google.com/github/jsyoo1229/orm/blob/main/240204_pyalgo100_26_28.ipynb\" target=\"_parent\"><img src=\"https://colab.research.google.com/assets/colab-badge.svg\" alt=\"Open In Colab\"/></a>"
      ]
    },
    {
      "cell_type": "markdown",
      "source": [
        "###슬라이딩 윈도우"
      ],
      "metadata": {
        "id": "lD-a5O0n-Ywf"
      }
    },
    {
      "cell_type": "code",
      "execution_count": null,
      "metadata": {
        "colab": {
          "base_uri": "https://localhost:8080/"
        },
        "id": "CNqtIZ_6-TNx",
        "outputId": "5d485b56-665b-4cb1-9d7c-531b5e4dedb1"
      },
      "outputs": [
        {
          "output_type": "stream",
          "name": "stdout",
          "text": [
            "Window 1: Sum = 6\n",
            "Window 2: Sum = 9\n",
            "Window 3: Sum = 12\n",
            "Window 4: Sum = 15\n",
            "Window 5: Sum = 18\n",
            "Window 6: Sum = 21\n",
            "Window 7: Sum = 24\n",
            "Window 8: Sum = 27\n"
          ]
        }
      ],
      "source": [
        "def sliding_window_sum(arr, window_size):\n",
        "    if window_size > len(arr):\n",
        "        raise ValueError(\"Window size cannot be larger than the array length\")\n",
        "\n",
        "    for i in range(len(arr) - window_size + 1):\n",
        "        window_sum = sum(arr[i:i+window_size])\n",
        "        print(f\"Window {i+1}: Sum = {window_sum}\")\n",
        "\n",
        "# Example usage\n",
        "numbers = [1, 2, 3, 4, 5, 6, 7, 8, 9, 10]\n",
        "window_size = 3\n",
        "sliding_window_sum(numbers, 3)"
      ]
    },
    {
      "cell_type": "code",
      "source": [
        "def s_w_sum(arr, win_size):\n",
        "    try:\n",
        "        if win_size > len(arr):\n",
        "            raise ValueError(\"Window size cannot be larger than the array length\")\n",
        "    except ValueError as e:\n",
        "        print(f\"Error: {e}\")\n",
        "\n",
        "    for i in range(len(arr) - win_size + 1): #총 윈도우 개수\n",
        "        win_sum = sum(arr[i : i+win_size])  #윈도우 내 합계\n",
        "        print(f'window{i+1}: sum = {win_sum}')\n",
        "\n",
        "numbers = [1, 2, 3, 4, 5, 6, 7, 8, 9, 10]\n",
        "\n",
        "s_w_sum(numbers, 12)"
      ],
      "metadata": {
        "colab": {
          "base_uri": "https://localhost:8080/"
        },
        "id": "PihAJLXD_w-1",
        "outputId": "9c012e53-5d37-4035-e7e6-f3b543ab5042"
      },
      "execution_count": null,
      "outputs": [
        {
          "output_type": "stream",
          "name": "stdout",
          "text": [
            "Error: Window size cannot be larger than the array length\n"
          ]
        }
      ]
    },
    {
      "cell_type": "code",
      "source": [
        "def sliding_window_sum(arr, window_size):\n",
        "    try:\n",
        "        if window_size > len(arr):\n",
        "            raise ValueError('Window Size Error')\n",
        "    except ValueError as E:\n",
        "        print(f'Error: {E}')\n",
        "\n",
        "    for i in range(len(arr)-window_size+1):\n",
        "        window_sum = sum(arr[i:i+window_size])\n",
        "        print(f'{i+1}번째 합: {window_sum}')\n",
        "\n",
        "numbers = [1, 2, 3, 4, 5, 6, 7, 8, 9, 10]\n",
        "sliding_window_sum(numbers, 3)"
      ],
      "metadata": {
        "colab": {
          "base_uri": "https://localhost:8080/"
        },
        "id": "tRHeG3BSGg8L",
        "outputId": "684fc010-c0b1-4fa7-eb89-e5c108a08d48"
      },
      "execution_count": null,
      "outputs": [
        {
          "output_type": "stream",
          "name": "stdout",
          "text": [
            "1번째 합: 6\n",
            "2번째 합: 9\n",
            "3번째 합: 12\n",
            "4번째 합: 15\n",
            "5번째 합: 18\n",
            "6번째 합: 21\n",
            "7번째 합: 24\n",
            "8번째 합: 27\n"
          ]
        }
      ]
    },
    {
      "cell_type": "code",
      "source": [
        "def s_w_sum(lst, win_size):\n",
        "    try:\n",
        "        if win_size > len(lst):\n",
        "            raise ValueError('Window Size Error')\n",
        "    except ValueError as E:\n",
        "        print({E})\n",
        "\n",
        "    for i in range(len(lst)-win_size+1):\n",
        "       win_sum = sum(lst[i:i+win_size])\n",
        "       print(f'{i+1}번째 합: {win_sum}')\n",
        "\n",
        "numbers = [1, 2, 3, 4, 5, 6, 7, 8, 9, 10]\n",
        "s_w_sum(numbers, 3)"
      ],
      "metadata": {
        "colab": {
          "base_uri": "https://localhost:8080/"
        },
        "id": "Yqcn2YVnJzo5",
        "outputId": "b75cd915-cbab-446b-ea1f-d7f0ee67a9df"
      },
      "execution_count": null,
      "outputs": [
        {
          "output_type": "stream",
          "name": "stdout",
          "text": [
            "1번째 합: 6\n",
            "2번째 합: 9\n",
            "3번째 합: 12\n",
            "4번째 합: 15\n",
            "5번째 합: 18\n",
            "6번째 합: 21\n",
            "7번째 합: 24\n",
            "8번째 합: 27\n"
          ]
        }
      ]
    },
    {
      "cell_type": "code",
      "source": [
        "a = (1, 3, 2, 6, -1, 4, 1, 8, 2, 5)\t#17\n",
        "b = (4, 2, 1, 7, 8, 1, 2, 8, 1, 0, 3)\t#16\n",
        "\n",
        "def solution(lst, win_size):\n",
        "    try:\n",
        "        if win_size > len(lst):\n",
        "            raise ValueError('window 사이즈는, 리스트의 길이를 넘을 수 없습니다.')\n",
        "    except ValueError as E:\n",
        "        print(f'{E}')\n",
        "\n",
        "    for i in range(len(lst)-win_size+1):\n",
        "        win_sum = sum(lst[i:i+win_size])\n",
        "        print(f'{i+1}번째: {win_sum}')\n",
        "        print('합계 최대: ', win_sum)\n",
        "\n",
        "\n",
        "solution(a, 3)\n"
      ],
      "metadata": {
        "id": "dEgRjEWlSG-A"
      },
      "execution_count": null,
      "outputs": []
    },
    {
      "cell_type": "markdown",
      "source": [
        "###26"
      ],
      "metadata": {
        "id": "7DYGaVdrvrs1"
      }
    },
    {
      "cell_type": "code",
      "source": [
        "def max_sum_subarray(arr, k):\n",
        "    if not arr or k <= 0 or k > len(arr):\n",
        "        return 0\n",
        "\n",
        "    window_sum = sum(arr[:k])    #window_sum: 첫 윈도우 합계 값\n",
        "    max_sum = window_sum  #max_sum: 첫 윈도우 합계 값\n",
        "\n",
        "    for i in range(len(arr) - k):  #len(arr)-k: 마지막 윈도우 시작 인덱스\n",
        "        window_sum = window_sum - arr[i] + arr[i + k]    #arr[i]: 기존 윈도우에서, 빠지는 인덱스  #arr[i + k]: 새로 들어오는 인덱스\n",
        "        max_sum = max(max_sum, window_sum)  #max_sum이 현재까지의 최대 합계 값으로 변환\n",
        "\n",
        "    return max_sum\n",
        "\n",
        "# Example usage\n",
        "array = [1, 2, 3, 4, 5, 6, 7, 8, 9, 10]\n",
        "window_length = 3\n",
        "print(max_sum_subarray(array, window_length))"
      ],
      "metadata": {
        "id": "vALK9hLCpRy3"
      },
      "execution_count": null,
      "outputs": []
    },
    {
      "cell_type": "code",
      "source": [
        "def solution(lst, k):\n",
        "    if not lst or k <=0 or k > len(lst):\n",
        "        return 0\n",
        "\n",
        "    win_sum = sum(lst[:k])\n",
        "    max_sum = win_sum\n",
        "\n",
        "    for i in range(len(lst)-k):\n",
        "        win_sum = win_sum - lst[i] + lst[i+k]\n",
        "        max_sum = max(max_sum, win_sum)"
      ],
      "metadata": {
        "id": "MJbRLUvIpU2V"
      },
      "execution_count": null,
      "outputs": []
    },
    {
      "cell_type": "markdown",
      "source": [
        "###27"
      ],
      "metadata": {
        "id": "FgKD3aJbnoE9"
      }
    },
    {
      "cell_type": "code",
      "source": [
        "def smallest_subarray_with_given_sum(arr, S):\n",
        "    min_length = len(arr) + 1\n",
        "    window_sum = 0\n",
        "    window_start = 0\n",
        "\n",
        "    for window_end in range(len(arr)):\n",
        "        window_sum += arr[window_end]  # Add the next element to the window\n",
        "\n",
        "        # Shrink the window as small as possible while the window's sum is larger than S\n",
        "        while window_sum >= S:\n",
        "            min_length = min(min_length, window_end - window_start + 1)\n",
        "            window_sum -= arr[window_start]\n",
        "            window_start += 1  #\n",
        "\n",
        "    if min_length == len(arr) + 1:\n",
        "        return 0  # This means we didn't find a subarray\n",
        "    else:\n",
        "        return min_length"
      ],
      "metadata": {
        "id": "VBnSvyiUnkeu"
      },
      "execution_count": null,
      "outputs": []
    },
    {
      "cell_type": "code",
      "source": [
        "def solution(lst, s):\n",
        "    min_len = len(lst) + 1\n",
        "    win_sum = 0\n",
        "    win_start = 0\n",
        "\n",
        "    for win_end in range(len(lst)):\n",
        "        win_sum += lst[win_end]\n",
        "\n",
        "        while win_sum >= s:\n",
        "            min_len = min(min_len, win_end - wind_start + 1)\n",
        "            win_sum -= lst[win_start]\n",
        "            win_start += 1"
      ],
      "metadata": {
        "id": "zORhZSNAoDYa"
      },
      "execution_count": null,
      "outputs": []
    },
    {
      "cell_type": "markdown",
      "source": [
        "###투 포인터"
      ],
      "metadata": {
        "id": "kaIbik6Zb3Ci"
      }
    },
    {
      "cell_type": "code",
      "source": [
        "data = [1, 2, 3, 4, 5]\n",
        "\n",
        "m = 5 #찾을 부분합\n",
        "count = 0\n",
        "interval_sum = 0\n",
        "end = 0\n",
        "\n",
        "for start in range(len(data)):\n",
        "    while interval_sum < m and end < len(data):\n",
        "        interval_sum += data[end]\n",
        "        end += 1\n",
        "\n",
        "    if interval_sum == m:\n",
        "        count += 1\n",
        "    interval_sum -=\n",
        "\n",
        "\n"
      ],
      "metadata": {
        "id": "iARM_DkGb6Te"
      },
      "execution_count": null,
      "outputs": []
    },
    {
      "cell_type": "markdown",
      "source": [
        "###28"
      ],
      "metadata": {
        "id": "A6tI8lbg3twu"
      }
    },
    {
      "cell_type": "code",
      "source": [
        "def closest_sum(arr, target):\n",
        "    n = len(arr)\n",
        "    if n < 2:\n",
        "        return None  # Not enough elements\n",
        "\n",
        "    # Initialize pointers and closest sum\n",
        "    left, right = 0, n - 1\n",
        "    closest = arr[left] + arr[right]\n",
        "\n",
        "    while left < right:\n",
        "        current_sum = arr[left] + arr[right]\n",
        "\n",
        "        # Update closest sum if current sum is closer to target\n",
        "        if abs(target - current_sum) < abs(target - closest):\n",
        "            closest = current_sum\n",
        "\n",
        "        # Move pointers\n",
        "        if current_sum < target:\n",
        "            left += 1\n",
        "        elif current_sum > target:\n",
        "            right -= 1"
      ],
      "metadata": {
        "id": "d35RJpmS3vlX"
      },
      "execution_count": null,
      "outputs": []
    },
    {
      "cell_type": "code",
      "source": [
        "def solution(lst, target):\n",
        "    n = len(lst)\n",
        "\n",
        "    left, right = 0, n-1\n",
        "    closest = lst[left] + lst[right]\n",
        "\n",
        "    while left < right:\n",
        "        current_sum = lst[left] + lst[right]\n",
        "\n",
        "        if target - current_sum < target - closest:\n",
        "            closest = current_sum\n",
        "\n",
        "        if current_sum < target:\n",
        "            left += 1\n",
        "        elif current_sum > target:\n",
        "            right -= 1"
      ],
      "metadata": {
        "id": "Fk5zbmta3xRg"
      },
      "execution_count": null,
      "outputs": []
    }
  ]
}