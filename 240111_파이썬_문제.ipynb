{
  "nbformat": 4,
  "nbformat_minor": 0,
  "metadata": {
    "colab": {
      "provenance": [],
      "authorship_tag": "ABX9TyNAdAyzFq3LcAu1yXhIxApJ",
      "include_colab_link": true
    },
    "kernelspec": {
      "name": "python3",
      "display_name": "Python 3"
    },
    "language_info": {
      "name": "python"
    }
  },
  "cells": [
    {
      "cell_type": "markdown",
      "metadata": {
        "id": "view-in-github",
        "colab_type": "text"
      },
      "source": [
        "<a href=\"https://colab.research.google.com/github/jsyoo1229/orm/blob/main/240111_%ED%8C%8C%EC%9D%B4%EC%8D%AC_%EB%AC%B8%EC%A0%9C.ipynb\" target=\"_parent\"><img src=\"https://colab.research.google.com/assets/colab-badge.svg\" alt=\"Open In Colab\"/></a>"
      ]
    },
    {
      "cell_type": "code",
      "execution_count": null,
      "metadata": {
        "colab": {
          "base_uri": "https://localhost:8080/"
        },
        "id": "cBfZqI6bX_6U",
        "outputId": "1c6e9145-a36c-418e-e475-f626e68194ce"
      },
      "outputs": [
        {
          "output_type": "execute_result",
          "data": {
            "text/plain": [
              "[]"
            ]
          },
          "metadata": {},
          "execution_count": 11
        }
      ],
      "source": [
        "# 1. 다음 숫자 중 5보다 크고, 20보다 작으면서 짝수인 수를 모두\n",
        "# 더하는 코드를 완성 해주세요. 오늘 배운 filter 사용은 필수 입니다.\n",
        "number = [1, 5, 7, 4, 3, 22, 23, 15, 26, 17, 3]\n",
        "\n",
        "def solution(data):\n",
        "    return sum(filter(lambda x: x > 5 and x > 20 and x % 2 == 0, data))\n",
        "\n",
        "solution(number)"
      ]
    },
    {
      "cell_type": "code",
      "source": [
        "# 2. 다음에 정보가 담겨져 있는 것을 Class로 만들어주세요. 메서드로는 '할인' 메서드를 만들어주세요.\n",
        "# 예를 들어 아래 책을 10% 할인한다고 하면 4500원이 됩니다. `책.할인(10) == 4500`의 형태로 만들어주시면 됩니다.\n",
        "{\n",
        "    '책제목': 'hello world python',\n",
        "    '책 내용 요약': 'hello world...',\n",
        "    '저자': '이호준',\n",
        "    '발행일': '2024-01-11',\n",
        "    '가격': 5000\n",
        "}"
      ],
      "metadata": {
        "id": "f30vZQO1s6LB"
      },
      "execution_count": null,
      "outputs": []
    },
    {
      "cell_type": "code",
      "source": [
        "class Book:\n",
        "    def __init__(self, title, summary, author, publication_date, price):\n",
        "        self.title = 'title'\n",
        "        self.summary = 'summary'\n",
        "        self.author = 'author'\n",
        "        self.publication_date = 'publication_date'\n",
        "        self.price = 'price'\n",
        "\n",
        "    def dicount_rate(self, rate):\n",
        "        return self.price - int(self.price * (rate/100))"
      ],
      "metadata": {
        "id": "tpqkP6df8OQN"
      },
      "execution_count": null,
      "outputs": []
    },
    {
      "cell_type": "code",
      "source": [
        "# {\n",
        "#     '책제목': 'hello world python',\n",
        "#     '책 내용 요약': 'hello world...',\n",
        "#     '저자': '이호준',\n",
        "#     '발행일': '2024-01-11',\n",
        "#     '가격': 5000\n",
        "# }\n",
        "\n",
        "Licat = Book('hello world python', 'hello world...', '이호준', '2024-01-11', 5000)"
      ],
      "metadata": {
        "id": "z3Wy1YcJ-opc"
      },
      "execution_count": null,
      "outputs": []
    },
    {
      "cell_type": "code",
      "source": [
        "Licat.dicount_rate(10)"
      ],
      "metadata": {
        "colab": {
          "base_uri": "https://localhost:8080/",
          "height": 265
        },
        "id": "dRzl-pW-s21i",
        "outputId": "ddf7f8d4-fe21-439f-e13b-f484c5830fcc"
      },
      "execution_count": null,
      "outputs": [
        {
          "output_type": "error",
          "ename": "ValueError",
          "evalue": "invalid literal for int() with base 10: 'price'",
          "traceback": [
            "\u001b[0;31m---------------------------------------------------------------------------\u001b[0m",
            "\u001b[0;31mValueError\u001b[0m                                Traceback (most recent call last)",
            "\u001b[0;32m<ipython-input-23-a029a7eae52a>\u001b[0m in \u001b[0;36m<cell line: 1>\u001b[0;34m()\u001b[0m\n\u001b[0;32m----> 1\u001b[0;31m \u001b[0mLicat\u001b[0m\u001b[0;34m.\u001b[0m\u001b[0mdicount_rate\u001b[0m\u001b[0;34m(\u001b[0m\u001b[0;36m10\u001b[0m\u001b[0;34m)\u001b[0m\u001b[0;34m\u001b[0m\u001b[0;34m\u001b[0m\u001b[0m\n\u001b[0m",
            "\u001b[0;32m<ipython-input-21-53771c078e04>\u001b[0m in \u001b[0;36mdicount_rate\u001b[0;34m(self, rate)\u001b[0m\n\u001b[1;32m      8\u001b[0m \u001b[0;34m\u001b[0m\u001b[0m\n\u001b[1;32m      9\u001b[0m     \u001b[0;32mdef\u001b[0m \u001b[0mdicount_rate\u001b[0m\u001b[0;34m(\u001b[0m\u001b[0mself\u001b[0m\u001b[0;34m,\u001b[0m \u001b[0mrate\u001b[0m\u001b[0;34m)\u001b[0m\u001b[0;34m:\u001b[0m\u001b[0;34m\u001b[0m\u001b[0;34m\u001b[0m\u001b[0m\n\u001b[0;32m---> 10\u001b[0;31m         \u001b[0;32mreturn\u001b[0m \u001b[0mint\u001b[0m\u001b[0;34m(\u001b[0m\u001b[0mself\u001b[0m\u001b[0;34m.\u001b[0m\u001b[0mprice\u001b[0m\u001b[0;34m)\u001b[0m \u001b[0;34m-\u001b[0m \u001b[0;34m(\u001b[0m\u001b[0mint\u001b[0m\u001b[0;34m(\u001b[0m\u001b[0mself\u001b[0m\u001b[0;34m.\u001b[0m\u001b[0mprice\u001b[0m\u001b[0;34m)\u001b[0m \u001b[0;34m/\u001b[0m \u001b[0mrate\u001b[0m\u001b[0;34m)\u001b[0m\u001b[0;34m\u001b[0m\u001b[0;34m\u001b[0m\u001b[0m\n\u001b[0m",
            "\u001b[0;31mValueError\u001b[0m: invalid literal for int() with base 10: 'price'"
          ]
        }
      ]
    },
    {
      "cell_type": "code",
      "source": [
        "# 3. 다음 문제를 풀고 정답을 제출해주세요.\n",
        "3.1 https://100.pyalgo.co.kr/?page=10#\n",
        "3.2 https://100.pyalgo.co.kr/?page=18#"
      ],
      "metadata": {
        "id": "riVcaKsm_kUF"
      },
      "execution_count": null,
      "outputs": []
    },
    {
      "cell_type": "code",
      "source": [
        "3.1 https://100.pyalgo.co.kr/?page=10#\n",
        "\n",
        "'''\n",
        "제한 사항\n",
        "3 ≤ 캐릭터의 수 ≤ 10\n",
        "10 ≤ 능력치 ≤ 100\n",
        "350이 넘는 캐릭터의 이름은 알파벳 순으로 출력합니다.\n",
        "\n",
        "입출력 예\n",
        "입력\t                                                                                출력\n",
        "[['Licat', 98, 92, 85, 97], ['Mura', 95, 32, 51, 30], ['Binky', 98, 98, 51, 32]]\t['Licat']\n",
        "[['Gray', 98, 92, 85, 97], ['Gom', 98, 30, 21, 60], ['Allosa', 98, 90, 99, 98]]\t   ['Allosa', 'Gary']\n",
        "'''\n",
        "\n",
        "# Example input\n",
        "character_list = [['Licat', 98, 92, 85, 97], ['Mura', 95, 32, 51, 30], ['Binky', 98, 98, 51, 32]]\n",
        "\n",
        "def select_characters_with_high_abilities(character_list):\n",
        "    selected_characters = []\n",
        "\n",
        "    for character in character_list:\n",
        "        name, attack, defense, stamina, magic = character #언패킹\n",
        "        total_ability = attack + defense + stamina + magic #언패킹한 데이터들을 새로운 변수에\n",
        "\n",
        "        if total_ability >= 350:\n",
        "            selected_characters.append(name)\n",
        "\n",
        "    # Sort the selected characters alphabetically\n",
        "    selected_characters.sort()\n",
        "\n",
        "    return selected_characters\n",
        "\n",
        "\n",
        "\n",
        "# Get the characters with high abilities\n",
        "result = select_characters_with_high_abilities(character_list)\n",
        "\n",
        "# Print the result\n",
        "print(result)"
      ],
      "metadata": {
        "id": "_L8tXH2YINIq"
      },
      "execution_count": null,
      "outputs": []
    },
    {
      "cell_type": "code",
      "source": [
        "character_list = [['Licat', 98, 92, 85, 97], ['Mura', 95, 32, 51, 30], ['Binky', 98, 98, 51, 32]]\n",
        "\n",
        "# def select_characters_with_high_abilities(character_list):\n",
        "\n",
        "\n",
        "def select_characters (character_list):\n",
        "        selected_characters = []\n",
        "        for character in character_list:\n",
        "            name, attack, defense, stamina, magic = character\n",
        "\n",
        "            total_ability = attack + defense + stamina + magic\n",
        "\n",
        "            if total_ability >= 350:\n",
        "                selected_characters.apped(name)\n",
        "\n",
        "        selected_characters.sort()\n",
        "        return selected_characters\n",
        "\n",
        "\n",
        "result = select_characters(character_list)\n",
        "print(result)"
      ],
      "metadata": {
        "colab": {
          "base_uri": "https://localhost:8080/"
        },
        "id": "lYKSadAVLhK-",
        "outputId": "b176dc12-00f9-4bb0-b9d1-874c41c977a8"
      },
      "execution_count": 28,
      "outputs": [
        {
          "output_type": "stream",
          "name": "stdout",
          "text": [
            "[]\n"
          ]
        }
      ]
    },
    {
      "cell_type": "code",
      "source": [],
      "metadata": {
        "id": "qx7G6wsmIQef"
      },
      "execution_count": null,
      "outputs": []
    },
    {
      "cell_type": "code",
      "source": [
        "3.2 https://100.pyalgo.co.kr/?page=18#\n",
        "# 주간 최고 온도 기록 분석\n",
        "# 문제 설명\n",
        "# 일주일 동안의 최고 기온이 기록된 데이터가 주어집니다.\n",
        "# 이 데이터에서 가장 높은 온도를 기록한 상위 3일을 찾아 'YY-MM-DD: 온도' 형식으로 반환하는 코드를 작성해주세요.\n",
        "# 데이터는 'YYYY-MM-DD' 형식의 날짜와 해당 날짜의 최고 온도(섭씨)로 구성됩니다.\n",
        "\n",
        "# 제한 사항\n",
        "# 각 날짜의 최고 온도는 정수로 주어집니다.\n",
        "# 기온 데이터는 최소 7개(일주일)에서 최대 30개(한달)까지 주어질 수 있습니다.\n",
        "# 날짜는 중복되지 않습니다.\n",
        "# 중복된 온도일 경우 날짜가 빠른 것이 앞에 정렬되어야 합니다.\n",
        "\n",
        "# 입출력 예\n",
        "# 입력 (기온 데이터)\n",
        "{'2024-01-01': 15, '2024-01-02': 17, '2024-01-03': 16, '2024-01-04': 20, '2024-01-05': 19, '2024-01-06': 21, '2024-01-07': 18}\n",
        "# 출력 (상위 3일의 기온)\n",
        "['24-01-06: 21', '24-01-04: 20', '24-01-05: 19']\n",
        "\n",
        "# 입출력 설명\n",
        "# 주어진 일주일 동안의 최고 기온 데이터에서 가장 높은 온도를 기록한 상위 3일을 'YY-MM-DD: 온도' 형식으로 반환합니다.\n",
        "# 예를 들어, 가장 높은 기온을 기록한 날은 '2024-01-06'로 21도였으며, 그 다음은 '2024-01-04'의 20도, '2024-01-05'의 19도입니다."
      ],
      "metadata": {
        "id": "E97gpQ5Y8krb"
      },
      "execution_count": null,
      "outputs": []
    },
    {
      "cell_type": "code",
      "source": [
        "temperature_data = {\n",
        "    '2024-01-01': 15,\n",
        "    '2024-01-02': 17,\n",
        "    '2024-01-03': 16,\n",
        "    '2024-01-04': 20,\n",
        "    '2024-01-05': 19,\n",
        "    '2024-01-06': 21,\n",
        "    '2024-01-07': 18\n",
        "}\n",
        "\n",
        "top_3 = sorted((temperature_data.items()), key=lambda x: x[1], reverse=True)[:3]\n",
        "\n",
        "result = [f'{day[0][2:]}: {day[1]}' for day in top_3]\n",
        "print(result)\n",
        "\n",
        "# 'YY-MM-DD: 온도'\n",
        "\n",
        "for day in top_3:\n",
        "    print(day)\n"
      ],
      "metadata": {
        "id": "c5IAkjBBq_Vg",
        "colab": {
          "base_uri": "https://localhost:8080/"
        },
        "outputId": "40a0b13a-8e4c-4cd3-cfb4-da21f8b6b79e"
      },
      "execution_count": 20,
      "outputs": [
        {
          "output_type": "stream",
          "name": "stdout",
          "text": [
            "['24-01-06: 21', '24-01-04: 20', '24-01-05: 19']\n",
            "('2024-01-06', 21)\n",
            "('2024-01-04', 20)\n",
            "('2024-01-05', 19)\n"
          ]
        }
      ]
    },
    {
      "cell_type": "code",
      "source": [],
      "metadata": {
        "id": "38of8Okhq2Wg"
      },
      "execution_count": null,
      "outputs": []
    },
    {
      "cell_type": "code",
      "source": [],
      "metadata": {
        "id": "pJ9ou-PEqkU2"
      },
      "execution_count": null,
      "outputs": []
    }
  ]
}