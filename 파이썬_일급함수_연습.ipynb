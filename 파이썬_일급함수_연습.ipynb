{
  "nbformat": 4,
  "nbformat_minor": 0,
  "metadata": {
    "colab": {
      "provenance": [],
      "authorship_tag": "ABX9TyMjcqtS5u9fVXC1KU3tSYaI",
      "include_colab_link": true
    },
    "kernelspec": {
      "name": "python3",
      "display_name": "Python 3"
    },
    "language_info": {
      "name": "python"
    }
  },
  "cells": [
    {
      "cell_type": "markdown",
      "metadata": {
        "id": "view-in-github",
        "colab_type": "text"
      },
      "source": [
        "<a href=\"https://colab.research.google.com/github/jsyoo1229/orm/blob/main/%ED%8C%8C%EC%9D%B4%EC%8D%AC_%EC%9D%BC%EA%B8%89%ED%95%A8%EC%88%98_%EC%97%B0%EC%8A%B5.ipynb\" target=\"_parent\"><img src=\"https://colab.research.google.com/assets/colab-badge.svg\" alt=\"Open In Colab\"/></a>"
      ]
    },
    {
      "cell_type": "code",
      "execution_count": null,
      "metadata": {
        "colab": {
          "base_uri": "https://localhost:8080/",
          "height": 35
        },
        "id": "yAfZ9GRUXFfx",
        "outputId": "d6a9b82e-ce70-47f0-f828-d2794a8ec2ce"
      },
      "outputs": [
        {
          "output_type": "execute_result",
          "data": {
            "text/plain": [
              "'Hi, Jinsun'"
            ],
            "application/vnd.google.colaboratory.intrinsic+json": {
              "type": "string"
            }
          },
          "metadata": {},
          "execution_count": 4
        }
      ],
      "source": [
        "def greet(name):\n",
        "    return f'Hi, {name}'\n",
        "\n",
        "say_Hi = greet\n",
        "say_Hi('Jinsun')"
      ]
    },
    {
      "cell_type": "code",
      "source": [
        "p = print\n",
        "p('hello')"
      ],
      "metadata": {
        "colab": {
          "base_uri": "https://localhost:8080/"
        },
        "id": "GicjtdCSY0V3",
        "outputId": "09fa7009-7fa0-4af5-a462-4cc98ba71375"
      },
      "execution_count": null,
      "outputs": [
        {
          "output_type": "stream",
          "name": "stdout",
          "text": [
            "hello\n"
          ]
        }
      ]
    },
    {
      "cell_type": "code",
      "source": [
        "l = [1, 2, 3]\n",
        "add = l.append\n",
        "add(10)\n",
        "l"
      ],
      "metadata": {
        "colab": {
          "base_uri": "https://localhost:8080/"
        },
        "id": "8ZwmvRghY5Qo",
        "outputId": "0c6defa1-032b-48ad-a8dc-e440012e8065"
      },
      "execution_count": null,
      "outputs": [
        {
          "output_type": "execute_result",
          "data": {
            "text/plain": [
              "[1, 2, 3, 10]"
            ]
          },
          "metadata": {},
          "execution_count": 8
        }
      ]
    },
    {
      "cell_type": "code",
      "source": [
        "def add(x, y):\n",
        "    return x + y\n",
        "\n",
        "def sub(x, y):\n",
        "    return x - y\n",
        "\n",
        "def mul(x, y):\n",
        "    return x * y\n",
        "\n",
        "def div(x, y):\n",
        "    return x/y\n",
        "\n",
        "funcs = [add, sub, mul, div]\n",
        "funcs[0](2, 3)\n",
        "funcs[2](2, 3)"
      ],
      "metadata": {
        "colab": {
          "base_uri": "https://localhost:8080/"
        },
        "id": "R48mJ3yYZFAY",
        "outputId": "6a474c40-b9ac-4628-fbf8-a5eea589f692"
      },
      "execution_count": null,
      "outputs": [
        {
          "output_type": "execute_result",
          "data": {
            "text/plain": [
              "6"
            ]
          },
          "metadata": {},
          "execution_count": 11
        }
      ]
    },
    {
      "cell_type": "code",
      "source": [
        "class Operator:\n",
        "    def add(self, x, y):\n",
        "        return x + y\n",
        "\n",
        "    def sub(self, x, y):\n",
        "        return x - y\n",
        "\n",
        "    def mul(self, x, y):\n",
        "        return x * y\n",
        "\n",
        "    def div(self, x, y):\n",
        "        return x / y\n",
        "\n",
        "\n",
        "op = Operator()\n",
        "\n",
        "l_op = {\n",
        "    'add': op.add,\n",
        "    'sub': op.sub,\n",
        "    'mul': op.mul,\n",
        "    'div': op.div\n",
        "}\n",
        "\n",
        "print(l_op['add'](2, 3))\n",
        "print(l_op['mul'](2, 3))"
      ],
      "metadata": {
        "colab": {
          "base_uri": "https://localhost:8080/"
        },
        "id": "iuMvl5-1Zcby",
        "outputId": "ba96a29a-68b8-436e-a9bd-bcc3604a1c5e"
      },
      "execution_count": null,
      "outputs": [
        {
          "output_type": "stream",
          "name": "stdout",
          "text": [
            "5\n",
            "6\n"
          ]
        }
      ]
    },
    {
      "cell_type": "code",
      "source": [
        "def create_adder(x):\n",
        "    def adder(y):\n",
        "        return x + y\n",
        "    return adder\n",
        "\n",
        "adder_n = create_adder(10)\n",
        "adder_n(120)"
      ],
      "metadata": {
        "colab": {
          "base_uri": "https://localhost:8080/"
        },
        "id": "tlGjTwRyaN_a",
        "outputId": "4182f2a3-6b97-431e-fb6a-f42e6bb49937"
      },
      "execution_count": null,
      "outputs": [
        {
          "output_type": "execute_result",
          "data": {
            "text/plain": [
              "130"
            ]
          },
          "metadata": {},
          "execution_count": 16
        }
      ]
    },
    {
      "cell_type": "code",
      "source": [
        "def c_sq(x):\n",
        "    def sq(y):\n",
        "        return x ** y\n",
        "    return sq\n",
        "\n",
        "two_sq = c_sq(2)\n",
        "two_sq(12)"
      ],
      "metadata": {
        "colab": {
          "base_uri": "https://localhost:8080/"
        },
        "id": "iA-ubK3tcHGQ",
        "outputId": "f7021b4c-fe84-4de0-a19a-3bd3afcbaeea"
      },
      "execution_count": null,
      "outputs": [
        {
          "output_type": "execute_result",
          "data": {
            "text/plain": [
              "4096"
            ]
          },
          "metadata": {},
          "execution_count": 20
        }
      ]
    },
    {
      "cell_type": "code",
      "source": [
        "num = 1\n",
        "\n",
        "for i in range(1, 10):\n",
        "    num *= i\n",
        "\n",
        "num"
      ],
      "metadata": {
        "colab": {
          "base_uri": "https://localhost:8080/"
        },
        "id": "aIehZfkPdZ5K",
        "outputId": "0f0331a0-cd3a-4f20-81b5-7d4a5ef66544"
      },
      "execution_count": null,
      "outputs": [
        {
          "output_type": "execute_result",
          "data": {
            "text/plain": [
              "362880"
            ]
          },
          "metadata": {},
          "execution_count": 21
        }
      ]
    },
    {
      "cell_type": "code",
      "source": [
        "s = ''\n",
        "\n",
        "for i in 'Hello':\n",
        "    s = i + s\n",
        "\n",
        "s"
      ],
      "metadata": {
        "colab": {
          "base_uri": "https://localhost:8080/",
          "height": 35
        },
        "id": "NiyeZKCadxsy",
        "outputId": "9c25140d-ac57-480f-a832-468ce9c61b65"
      },
      "execution_count": null,
      "outputs": [
        {
          "output_type": "execute_result",
          "data": {
            "text/plain": [
              "'olleH'"
            ],
            "application/vnd.google.colaboratory.intrinsic+json": {
              "type": "string"
            }
          },
          "metadata": {},
          "execution_count": 24
        }
      ]
    },
    {
      "cell_type": "code",
      "source": [
        "def apply_func(func, i):\n",
        "    return func(i)\n",
        "\n",
        "def sq(x):\n",
        "    return x ** 2\n",
        "\n",
        "def cube(x):\n",
        "    return x * x * x\n",
        "\n",
        "result = apply_func\n",
        "result(sq, 9)\n",
        "result(cube, 9)"
      ],
      "metadata": {
        "colab": {
          "base_uri": "https://localhost:8080/"
        },
        "id": "X6pTK-ePeepe",
        "outputId": "105e6050-dc84-4550-b31f-e5f64c559a18"
      },
      "execution_count": null,
      "outputs": [
        {
          "output_type": "execute_result",
          "data": {
            "text/plain": [
              "729"
            ]
          },
          "metadata": {},
          "execution_count": 32
        }
      ]
    },
    {
      "cell_type": "code",
      "source": [
        "def math_func(oper):\n",
        "    def add(x, y):\n",
        "        return x + y\n",
        "\n",
        "    def minus(x, y):\n",
        "        return x - y\n",
        "\n",
        "    def mul(x, y):\n",
        "        return x * y\n",
        "\n",
        "    def div(x, y):\n",
        "        return x / y\n",
        "\n",
        "\n",
        "    if oper == 'add':\n",
        "        return add\n",
        "    elif oper == 'minus':\n",
        "        return minus\n",
        "    elif oper == 'mul':\n",
        "        return mul\n",
        "    elif oper == 'div':\n",
        "        return div\n",
        "\n",
        "\n",
        "add_func = math_func('add')\n",
        "add_func(2, 3)"
      ],
      "metadata": {
        "colab": {
          "base_uri": "https://localhost:8080/"
        },
        "id": "YXPSNhzwgh-t",
        "outputId": "d7ad36d0-7cf9-4dd2-d0ac-04100ddeab02"
      },
      "execution_count": null,
      "outputs": [
        {
          "output_type": "execute_result",
          "data": {
            "text/plain": [
              "5"
            ]
          },
          "metadata": {},
          "execution_count": 33
        }
      ]
    },
    {
      "cell_type": "code",
      "source": [
        "class Calc:\n",
        "    pass\n",
        "\n",
        "add = Calc()\n",
        "\n",
        "add.oper = lambda x, y: x + y\n",
        "add.oper(10, 20)"
      ],
      "metadata": {
        "colab": {
          "base_uri": "https://localhost:8080/"
        },
        "id": "gb2n4Lbxiby6",
        "outputId": "00195617-baf4-4aa0-9a65-f38a7c0a4116"
      },
      "execution_count": null,
      "outputs": [
        {
          "output_type": "execute_result",
          "data": {
            "text/plain": [
              "30"
            ]
          },
          "metadata": {},
          "execution_count": 34
        }
      ]
    },
    {
      "cell_type": "code",
      "source": [
        "def calc(oper, original):\n",
        "    def add(x, y):\n",
        "        return original + x + y\n",
        "\n",
        "    def sub(x, y):\n",
        "        return original - x - y\n",
        "\n",
        "    if oper == 'add':\n",
        "        return add\n",
        "\n",
        "    if oper == 'sub':\n",
        "        return sub\n",
        "\n",
        "add = calc('add', 1000)\n",
        "add(10 ,20)"
      ],
      "metadata": {
        "colab": {
          "base_uri": "https://localhost:8080/"
        },
        "id": "bWfavlfBioev",
        "outputId": "059745b5-8134-4954-fa4c-b979da05fd71"
      },
      "execution_count": null,
      "outputs": [
        {
          "output_type": "execute_result",
          "data": {
            "text/plain": [
              "1030"
            ]
          },
          "metadata": {},
          "execution_count": 37
        }
      ]
    },
    {
      "cell_type": "code",
      "source": [
        "def login(function):\n",
        "    pass\n",
        "\n",
        "@login\n",
        "def read():\n",
        "    pass"
      ],
      "metadata": {
        "id": "FTMUjf73jruQ"
      },
      "execution_count": null,
      "outputs": []
    },
    {
      "cell_type": "code",
      "source": [
        "def check_time(func):\n",
        "    pass\n",
        "\n",
        "@check_time\n",
        "def f():\n",
        "    pass"
      ],
      "metadata": {
        "id": "sN0L82kvj41E"
      },
      "execution_count": null,
      "outputs": []
    },
    {
      "cell_type": "code",
      "source": [
        "def simple_deco(func):\n",
        "    def wrapper(a, b):\n",
        "        print('전')\n",
        "        result = func(a, b)\n",
        "        print('후')\n",
        "        return result\n",
        "\n",
        "    return wrapper\n",
        "\n",
        "@simple_deco\n",
        "def hello(a, b):\n",
        "    return a + b\n",
        "\n",
        "\n",
        "hello(2, 3)"
      ],
      "metadata": {
        "colab": {
          "base_uri": "https://localhost:8080/"
        },
        "id": "aiARNZqHkCHi",
        "outputId": "81098896-f65c-4e3e-ca5b-225122a7f86e"
      },
      "execution_count": null,
      "outputs": [
        {
          "output_type": "stream",
          "name": "stdout",
          "text": [
            "전\n",
            "후\n"
          ]
        },
        {
          "output_type": "execute_result",
          "data": {
            "text/plain": [
              "5"
            ]
          },
          "metadata": {},
          "execution_count": 46
        }
      ]
    },
    {
      "cell_type": "code",
      "source": [
        "def print_args(*args):\n",
        "    print(args)\n",
        "\n",
        "print_args(100, True, 'licat')"
      ],
      "metadata": {
        "colab": {
          "base_uri": "https://localhost:8080/"
        },
        "id": "IbIe4TPHmOVa",
        "outputId": "57b72530-a38a-4e7b-eeb5-27a50a0a1a50"
      },
      "execution_count": null,
      "outputs": [
        {
          "output_type": "stream",
          "name": "stdout",
          "text": [
            "(100, True, 'licat')\n"
          ]
        }
      ]
    },
    {
      "cell_type": "code",
      "source": [
        "def print_args(b, *args):\n",
        "    print(args)\n",
        "\n",
        "print_args(100, True, 'licat')"
      ],
      "metadata": {
        "colab": {
          "base_uri": "https://localhost:8080/"
        },
        "id": "T66jc_XbmbkZ",
        "outputId": "cd5e12fe-08bd-4a27-ebb2-7d7a76738ced"
      },
      "execution_count": null,
      "outputs": [
        {
          "output_type": "stream",
          "name": "stdout",
          "text": [
            "(True, 'licat')\n"
          ]
        }
      ]
    },
    {
      "cell_type": "code",
      "source": [],
      "metadata": {
        "id": "hc6HVO2Ymxdl"
      },
      "execution_count": null,
      "outputs": []
    }
  ]
}